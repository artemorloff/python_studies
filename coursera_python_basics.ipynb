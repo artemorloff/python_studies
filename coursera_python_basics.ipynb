{
 "cells": [
  {
   "cell_type": "markdown",
   "metadata": {},
   "source": [
    "# Целые числа и арифметические операции"
   ]
  },
  {
   "cell_type": "markdown",
   "metadata": {},
   "source": [
    "Напишите программу, которая приветствует пользователя, выводя слово Hello, введенное имя и знаки препинания по образцу (см. пример входных и выходных данных). Программа должна считывать в строковую переменную значение и писать соответствующее приветствие. Обратите внимание, что после запятой должен обязательно стоять пробел, а перед восклицательным знаком пробела нет. Операцией конкатенации строк (+) пользоваться нельзя."
   ]
  },
  {
   "cell_type": "code",
   "execution_count": null,
   "metadata": {},
   "outputs": [],
   "source": [
    "print('Hello, ', input(), '!', sep='')"
   ]
  },
  {
   "cell_type": "markdown",
   "metadata": {},
   "source": [
    "Напишите программу, которая по данному числу N от 1 до 9 выводит на экран N пингвинов. Изображение одного пингвина имеет размер 5×9 символов, между двумя соседними пингвинами также имеется пустой (из пробелов) столбец. Разрешается вывести пустой столбец после последнего пингвина. Для упрощения рисования скопируйте пингвина из примера в среду разработки.\n",
    "   _~_    \n",
    "  (o o)   \n",
    " /  V  \\  \n",
    "/(  _  )\\ \n",
    "  ^^ ^^"
   ]
  },
  {
   "cell_type": "code",
   "execution_count": 20,
   "metadata": {},
   "outputs": [
    {
     "name": "stdout",
     "output_type": "stream",
     "text": [
      "2\n",
      "   _~_       _~_    \n",
      "  (o o)     (o o)   \n",
      " /  V  \\   /  V  \\  \n",
      "/(  _  )\\ /(  _  )\\ \n",
      "  ^^ ^^     ^^ ^^   \n"
     ]
    }
   ],
   "source": [
    "n = int(input())\n",
    "print('   _~_    ' * n)\n",
    "print('  (o o)   ' * n)\n",
    "print(' /  V  \\  ' * n)\n",
    "print('/(  _  )\\ ' * n)\n",
    "print('  ^^ ^^   ' * n)"
   ]
  },
  {
   "cell_type": "markdown",
   "metadata": {},
   "source": [
    "N школьников делят K яблок поровну, не делящийся остаток остается в корзинке. Сколько яблок достанется каждому школьнику?"
   ]
  },
  {
   "cell_type": "code",
   "execution_count": 21,
   "metadata": {},
   "outputs": [
    {
     "name": "stdout",
     "output_type": "stream",
     "text": [
      "3\n",
      "14\n",
      "4\n"
     ]
    }
   ],
   "source": [
    "n, k = int(input()), int(input())\n",
    "print(k // n)"
   ]
  },
  {
   "cell_type": "markdown",
   "metadata": {},
   "source": [
    "N школьников поделили K яблок поровну, не делящийся остаток остался в корзинке. Сколько яблок осталось в корзинке?"
   ]
  },
  {
   "cell_type": "code",
   "execution_count": null,
   "metadata": {},
   "outputs": [],
   "source": [
    "n, k = int(input()), int(input())\n",
    "print(k % n)"
   ]
  },
  {
   "cell_type": "markdown",
   "metadata": {},
   "source": [
    "Вводится целое неотрицательное число N (N≤100).\n",
    "Выведите 2ᴺ."
   ]
  },
  {
   "cell_type": "code",
   "execution_count": null,
   "metadata": {},
   "outputs": [],
   "source": [
    "print(2 ** int(input()))"
   ]
  },
  {
   "cell_type": "markdown",
   "metadata": {},
   "source": [
    "Дано натуральное число. Выведите его последнюю цифру."
   ]
  },
  {
   "cell_type": "code",
   "execution_count": 22,
   "metadata": {},
   "outputs": [
    {
     "name": "stdout",
     "output_type": "stream",
     "text": [
      "1798\n",
      "8\n"
     ]
    }
   ],
   "source": [
    "n = int(input())\n",
    "print(n % 10)"
   ]
  },
  {
   "cell_type": "markdown",
   "metadata": {},
   "source": [
    "Дано положительное двузначное число. Найдите число десятков в нем."
   ]
  },
  {
   "cell_type": "code",
   "execution_count": 23,
   "metadata": {},
   "outputs": [
    {
     "name": "stdout",
     "output_type": "stream",
     "text": [
      "45\n",
      "4\n"
     ]
    }
   ],
   "source": [
    "print(int(input()) // 10)"
   ]
  },
  {
   "cell_type": "markdown",
   "metadata": {},
   "source": [
    "Дано натуральное число. Найдите цифру, стоящую в разряде десятков в его десятичной записи (вторую справа цифру или 0, если число меньше 10). "
   ]
  },
  {
   "cell_type": "code",
   "execution_count": 25,
   "metadata": {},
   "outputs": [
    {
     "name": "stdout",
     "output_type": "stream",
     "text": [
      "1294587\n",
      "8\n"
     ]
    }
   ],
   "source": [
    "n = int(input())\n",
    "print((n % 100) // 10)"
   ]
  },
  {
   "cell_type": "markdown",
   "metadata": {},
   "source": [
    "Дано трехзначное число. Найдите сумму его цифр."
   ]
  },
  {
   "cell_type": "code",
   "execution_count": 27,
   "metadata": {},
   "outputs": [
    {
     "name": "stdout",
     "output_type": "stream",
     "text": [
      "179\n",
      "17\n"
     ]
    }
   ],
   "source": [
    "n = int(input())\n",
    "print((n // 100) + ((n % 100) // 10) + (n % 10))"
   ]
  },
  {
   "cell_type": "markdown",
   "metadata": {},
   "source": [
    "Запишите букву 'A' (латинскую, заглавную) 100 раз подряд. Сдайте на проверку программу, которая выводит эту строчку (только буквы, без кавычек или пробелов)."
   ]
  },
  {
   "cell_type": "code",
   "execution_count": 28,
   "metadata": {},
   "outputs": [
    {
     "name": "stdout",
     "output_type": "stream",
     "text": [
      "AAAAAAAAAAAAAAAAAAAAAAAAAAAAAAAAAAAAAAAAAAAAAAAAAAAAAAAAAAAAAAAAAAAAAAAAAAAAAAAAAAAAAAAAAAAAAAAAAAAA\n"
     ]
    }
   ],
   "source": [
    "print('A' * 100)"
   ]
  },
  {
   "cell_type": "markdown",
   "metadata": {},
   "source": [
    "Дано число N. С начала суток прошло N минут. Определите, сколько часов и минут будут показывать электронные часы в этот момент."
   ]
  },
  {
   "cell_type": "code",
   "execution_count": 29,
   "metadata": {},
   "outputs": [
    {
     "name": "stdout",
     "output_type": "stream",
     "text": [
      "150\n",
      "2 30\n"
     ]
    }
   ],
   "source": [
    "n = int(input())\n",
    "print(((n // 60) % 24), (n % 60))"
   ]
  },
  {
   "cell_type": "markdown",
   "metadata": {},
   "source": [
    "Пирожок в столовой стоит A рублей и B копеек. Определите, сколько рублей и копеек нужно заплатить за N пирожков."
   ]
  },
  {
   "cell_type": "code",
   "execution_count": 31,
   "metadata": {},
   "outputs": [
    {
     "name": "stdout",
     "output_type": "stream",
     "text": [
      "2\n",
      "50\n",
      "4\n",
      "10 0\n"
     ]
    }
   ],
   "source": [
    "a = int(input())\n",
    "b = int(input())\n",
    "n = int(input())\n",
    "cost = a * 100 + b\n",
    "fin = cost * n\n",
    "print(fin // 100, fin % 100)"
   ]
  },
  {
   "cell_type": "markdown",
   "metadata": {},
   "source": [
    "Напишите программу, которая считывает целое число и выводит текст, аналогичный приведенному в примере (важно в точности соблюдать вывод программы: обратите внимание на пробелы и на точки). Нельзя пользоваться конкатенацией строк, используйте print с несколькими параметрами."
   ]
  },
  {
   "cell_type": "code",
   "execution_count": 32,
   "metadata": {},
   "outputs": [
    {
     "name": "stdout",
     "output_type": "stream",
     "text": [
      "198\n",
      "The next number for the number 198 is 199.\n",
      "The previous number for the number 198 is 197.\n"
     ]
    }
   ],
   "source": [
    "n = int(input())\n",
    "print(f'The next number for the number {n} is {n + 1}.')\n",
    "print(f'The previous number for the number {n} is {n - 1}.')"
   ]
  },
  {
   "cell_type": "markdown",
   "metadata": {},
   "source": [
    "Вводится число 0 или 1, необходимо вывести 1 или 0 соответственно."
   ]
  },
  {
   "cell_type": "code",
   "execution_count": 35,
   "metadata": {},
   "outputs": [
    {
     "name": "stdout",
     "output_type": "stream",
     "text": [
      "1\n",
      "0\n"
     ]
    }
   ],
   "source": [
    "n = int(input())\n",
    "print((n - 1) * -1)"
   ]
  },
  {
   "cell_type": "markdown",
   "metadata": {},
   "source": [
    "Дано целое число N. Выведите следующее за ним четное число."
   ]
  },
  {
   "cell_type": "code",
   "execution_count": 36,
   "metadata": {},
   "outputs": [
    {
     "name": "stdout",
     "output_type": "stream",
     "text": [
      "7\n",
      "8\n"
     ]
    }
   ],
   "source": [
    "n = int(input())\n",
    "print((n // 2 + 1) * 2)"
   ]
  },
  {
   "cell_type": "markdown",
   "metadata": {},
   "source": [
    "Заданное число N записали 100 раз подряд и затем возвели в квадрат. Что получилось?"
   ]
  },
  {
   "cell_type": "code",
   "execution_count": 37,
   "metadata": {},
   "outputs": [
    {
     "name": "stdout",
     "output_type": "stream",
     "text": [
      "0\n",
      "0\n"
     ]
    }
   ],
   "source": [
    "n = int(input())\n",
    "print(int(str(n) * 100) ** 2)"
   ]
  },
  {
   "cell_type": "markdown",
   "metadata": {},
   "source": [
    "Длина Московской кольцевой автомобильной дороги —  109 километров. Байкер Вася стартует с нулевого километра МКАД и едет со скоростью v километров в час. На какой отметке он остановится через t часов?"
   ]
  },
  {
   "cell_type": "code",
   "execution_count": 38,
   "metadata": {},
   "outputs": [
    {
     "name": "stdout",
     "output_type": "stream",
     "text": [
      "60\n",
      "2\n",
      "11\n"
     ]
    }
   ],
   "source": [
    "v, t = int(input()), int(input())\n",
    "dist = v * t\n",
    "print(dist % 109)"
   ]
  },
  {
   "cell_type": "markdown",
   "metadata": {},
   "source": [
    "Электронные часы показывают время в формате h:mm:ss, то есть сначала записывается количество часов (число от 0 до 23), потом обязательно двузначное количество минут, затем обязательно двузначное количество секунд. Количество минут и секунд при необходимости дополняются до двузначного числа нулями.\n",
    "\n",
    "С начала суток прошло N секунд. Выведите, что покажут часы."
   ]
  },
  {
   "cell_type": "code",
   "execution_count": 46,
   "metadata": {},
   "outputs": [
    {
     "name": "stdout",
     "output_type": "stream",
     "text": [
      "90050\n",
      "1:00:50\n"
     ]
    }
   ],
   "source": [
    "n = int(input())\n",
    "h = n // 3600 % 24\n",
    "m = n // 60 % 60\n",
    "s = n % 60\n",
    "print(h, ':', (m if m > 9 else f'0{m}'), ':', \n",
    "      (s if s > 9 else f'0{s}'), sep='')"
   ]
  },
  {
   "cell_type": "markdown",
   "metadata": {},
   "source": [
    "Даны два момента времени в пределах одних и тех же суток. Для каждого момента указан час, минута и секунда. Известно, что второй момент времени наступил не раньше первого. \n",
    "\n",
    "Определите сколько секунд прошло между двумя моментами времени."
   ]
  },
  {
   "cell_type": "code",
   "execution_count": 47,
   "metadata": {},
   "outputs": [
    {
     "name": "stdout",
     "output_type": "stream",
     "text": [
      "1\n",
      "1\n",
      "1\n",
      "2\n",
      "2\n",
      "2\n",
      "3661\n"
     ]
    }
   ],
   "source": [
    "h1, m1, s1 = int(input()), int(input()), int(input())\n",
    "h2, m2, s2 = int(input()), int(input()), int(input())\n",
    "i1 = h1 * 3600 + m1 * 60 + s1\n",
    "i2 = h2 * 3600 + m2 * 60 + s2\n",
    "print(i2 - i1)"
   ]
  },
  {
   "cell_type": "markdown",
   "metadata": {},
   "source": [
    "За день машина проезжает N километров. Сколько дней нужно, чтобы проехать маршрут длиной M километров?"
   ]
  },
  {
   "cell_type": "code",
   "execution_count": 49,
   "metadata": {},
   "outputs": [
    {
     "name": "stdout",
     "output_type": "stream",
     "text": [
      "700\n",
      "750\n",
      "2\n"
     ]
    }
   ],
   "source": [
    "n, m = int(input()), int(input())\n",
    "print((m + n - 1) // n)"
   ]
  },
  {
   "cell_type": "markdown",
   "metadata": {},
   "source": [
    "Улитка ползет по вертикальному шесту высотой H метров, поднимаясь за день на A метров, а за ночь спускаясь на B метров. На какой день улитка доползет до вершины шеста?"
   ]
  },
  {
   "cell_type": "code",
   "execution_count": 53,
   "metadata": {},
   "outputs": [
    {
     "name": "stdout",
     "output_type": "stream",
     "text": [
      "10\n",
      "3\n",
      "2\n",
      "8\n"
     ]
    }
   ],
   "source": [
    "h, a, b = int(input()), int(input()), int(input())\n",
    "print((h - b - 1) // (a - b) + 1)"
   ]
  },
  {
   "cell_type": "markdown",
   "metadata": {},
   "source": [
    "Дано четырехзначное число. Определите, является ли его десятичная запись симметричной. Если число симметричное, то выведите 1, иначе выведите любое другое целое число. Число может иметь меньше четырех знаков, тогда нужно считать, что его десятичная запись дополняется слева нулями."
   ]
  },
  {
   "cell_type": "code",
   "execution_count": 58,
   "metadata": {},
   "outputs": [
    {
     "name": "stdout",
     "output_type": "stream",
     "text": [
      "2002\n",
      "1\n"
     ]
    }
   ],
   "source": [
    "n = int(input())\n",
    "x1 = n // 1000\n",
    "x2 = n % 1000 // 100\n",
    "x3 = n % 100 // 10\n",
    "x4 = n % 10\n",
    "print((x4 - x1) ** 2 + (x3 - x2) ** 2 + 1)"
   ]
  },
  {
   "cell_type": "markdown",
   "metadata": {},
   "source": [
    "Напишите программу, которая считывает два целых числа A и B и выводит наибольшее значение из них. Числа —  целые от 1 до 1000.\n",
    "\n",
    "При решении задачи можно пользоваться только целочисленными арифметическими операциями. Нельзя пользоваться нелинейными конструкциями: ветвлениями, циклами, функциями."
   ]
  },
  {
   "cell_type": "code",
   "execution_count": 60,
   "metadata": {},
   "outputs": [
    {
     "name": "stdout",
     "output_type": "stream",
     "text": [
      "5\n",
      "8\n",
      "8\n"
     ]
    }
   ],
   "source": [
    "a, b = int(input()), int(input())\n",
    "print((((a // b) * a) + ((b // a) * b)) // ((a // b) + (b // a)))"
   ]
  },
  {
   "cell_type": "markdown",
   "metadata": {},
   "source": [
    "В этой задаче необходимо проверить, делится ли число A на число B нацело. Использовать можно только арифметические операции, использование любых видов ветвлений, функций и т.п. запрещено.\n",
    "Выведите \"YES\", если A кратно B и \"NO\" в противном случае."
   ]
  },
  {
   "cell_type": "code",
   "execution_count": 65,
   "metadata": {},
   "outputs": [
    {
     "name": "stdout",
     "output_type": "stream",
     "text": [
      "6\n",
      "2\n",
      "YES\n"
     ]
    }
   ],
   "source": [
    "a, b = int(input()), int(input())\n",
    "print('YES' * int(1 - (a % b)) + 'NO' * int(((((a % b)+2)//((a % b)+1)) % 2)))"
   ]
  },
  {
   "cell_type": "markdown",
   "metadata": {},
   "source": [
    "# Условный оператор и цикл while"
   ]
  },
  {
   "cell_type": "markdown",
   "metadata": {},
   "source": [
    "Напишите программу, которая считывает два целых числа A и B и выводит наибольшее значение из них. Числа —  целые от 1 до 1000."
   ]
  },
  {
   "cell_type": "code",
   "execution_count": 1,
   "metadata": {},
   "outputs": [
    {
     "name": "stdout",
     "output_type": "stream",
     "text": [
      "8\n",
      "5\n",
      "8\n"
     ]
    }
   ],
   "source": [
    "a, b = int(input()), int(input())\n",
    "print(a if a >= b else b)"
   ]
  },
  {
   "cell_type": "markdown",
   "metadata": {},
   "source": [
    "Даны два целых числа. Программа должна вывести число \"1\", если первое число больше второго, число \"2\", если второе больше первого или число \"0\", если они равны."
   ]
  },
  {
   "cell_type": "code",
   "execution_count": 2,
   "metadata": {},
   "outputs": [
    {
     "name": "stdout",
     "output_type": "stream",
     "text": [
      "2\n",
      "2\n",
      "0\n"
     ]
    }
   ],
   "source": [
    "a, b = int(input()), int(input())\n",
    "if a > b:\n",
    "    print(1)\n",
    "elif b > a:\n",
    "    print(2)\n",
    "else:\n",
    "    print(0)"
   ]
  },
  {
   "cell_type": "markdown",
   "metadata": {},
   "source": [
    "Даны три целых числа. Найдите наибольшее из них (программа должна вывести ровно одно целое число)."
   ]
  },
  {
   "cell_type": "code",
   "execution_count": 3,
   "metadata": {},
   "outputs": [
    {
     "name": "stdout",
     "output_type": "stream",
     "text": [
      "1\n",
      "2\n",
      "3\n",
      "3\n"
     ]
    }
   ],
   "source": [
    "a, b, c = int(input()), int(input()), int(input())\n",
    "if a >= b and a >= c:\n",
    "    print(a)\n",
    "elif b >= a and b >= c:\n",
    "    print(b)\n",
    "elif c >= a and c >= b:\n",
    "    print(c)"
   ]
  },
  {
   "cell_type": "markdown",
   "metadata": {},
   "source": [
    "Дано натуральное число. Требуется определить, является ли год с данным номером високосным. Если год является високосным, то выведите YES, иначе выведите NO. Напомним, что в соответствии с григорианским календарем, год является високосным, если его номер кратен 4, но не кратен 100, или же если он кратен 400."
   ]
  },
  {
   "cell_type": "code",
   "execution_count": 5,
   "metadata": {},
   "outputs": [
    {
     "name": "stdout",
     "output_type": "stream",
     "text": [
      "5\n",
      "NO\n"
     ]
    }
   ],
   "source": [
    "a = int(input())\n",
    "if a % 4 == 0:\n",
    "    if a % 100 == 0:\n",
    "        if a % 400 == 0:\n",
    "            print('YES')\n",
    "        else:\n",
    "            print('NO')\n",
    "    else:\n",
    "        print('YES')\n",
    "else:\n",
    "    print('NO')"
   ]
  },
  {
   "cell_type": "markdown",
   "metadata": {},
   "source": [
    "Шахматный король ходит по горизонтали, вертикали и диагонали, но только на 1 клетку. Даны две различные клетки шахматной доски, определите, может ли король попасть с первой клетки на вторую одним ходом."
   ]
  },
  {
   "cell_type": "code",
   "execution_count": 6,
   "metadata": {},
   "outputs": [
    {
     "name": "stdout",
     "output_type": "stream",
     "text": [
      "4\n",
      "4\n",
      "5\n",
      "5\n",
      "YES\n"
     ]
    }
   ],
   "source": [
    "x1, y1, x2, y2 = int(input()), int(input()), int(input()), int(input())\n",
    "if x2 - x1 == 1 or x1 - x2 == 1 or x2 - x1 == 0:\n",
    "    if y2 - y1 == 1 or y1 - y2 == 1 or y2 - y1 == 0:\n",
    "        if x2 == x1 and y2 == y1:\n",
    "            print('NO')\n",
    "        else:\n",
    "            print('YES')\n",
    "    else:\n",
    "        print('NO')\n",
    "else:\n",
    "    print('NO')"
   ]
  },
  {
   "cell_type": "markdown",
   "metadata": {},
   "source": [
    "В доме несколько подъездов. В каждом подъезде одинаковое количество квартир. Квартиры нумеруются подряд, начиная с единицы. Может ли в некотором подъезде первая квартира иметь номер x, а последняя – номер y?"
   ]
  },
  {
   "cell_type": "code",
   "execution_count": 7,
   "metadata": {},
   "outputs": [
    {
     "name": "stdout",
     "output_type": "stream",
     "text": [
      "11\n",
      "15\n",
      "YES\n"
     ]
    }
   ],
   "source": [
    "a, b = int(input()), int(input())\n",
    "x = b % (b - (a - 1))\n",
    "print('YES' if x == 0 else 'NO')"
   ]
  },
  {
   "cell_type": "markdown",
   "metadata": {},
   "source": [
    "Заданы две клетки шахматной доски. Если они покрашены в один цвет, то выведите слово YES, а если в разные цвета – то NO."
   ]
  },
  {
   "cell_type": "code",
   "execution_count": 16,
   "metadata": {},
   "outputs": [
    {
     "name": "stdout",
     "output_type": "stream",
     "text": [
      "1\n",
      "1\n",
      "2\n",
      "5\n",
      "NO\n"
     ]
    }
   ],
   "source": [
    "x1, y1, x2, y2 = int(input()), int(input()), int(input()), int(input())\n",
    "if (abs(x2 - x1) == abs(y2 - y1)) or (abs(x2 - x1) % 2 == abs(y2 - y1) % 2 == 0) or (abs(x2 - x1) % 2 == abs(y2 - y1) % 2 == 1):\n",
    "    print('YES')\n",
    "else:\n",
    "    print('NO')"
   ]
  },
  {
   "cell_type": "markdown",
   "metadata": {},
   "source": [
    "Шоколадка имеет вид прямоугольника, разделенного на n×m долек. Шоколадку можно один раз разломить по прямой на две части. Определите, можно ли таким образом отломить от шоколадки часть, состоящую ровно из k долек."
   ]
  },
  {
   "cell_type": "code",
   "execution_count": 18,
   "metadata": {},
   "outputs": [
    {
     "name": "stdout",
     "output_type": "stream",
     "text": [
      "2\n",
      "10\n",
      "7\n",
      "NO\n"
     ]
    }
   ],
   "source": [
    "n, m, k = int(input()), int(input()), int(input())\n",
    "if (k % m == 0 or k % n == 0) and (n * m > k):\n",
    "    print('YES')\n",
    "else:\n",
    "    print('NO')"
   ]
  },
  {
   "cell_type": "markdown",
   "metadata": {},
   "source": [
    "Для данного числа n<100 закончите фразу “На лугу пасется...” одним из возможных продолжений: “n коров”, “n корова”, “n коровы”, правильно склоняя слово “корова”.\n",
    "Программа должна вывести введенное число n и одно из слов: korov, korova или korovy. Между числом и словом должен стоять ровно один пробел."
   ]
  },
  {
   "cell_type": "code",
   "execution_count": 2,
   "metadata": {},
   "outputs": [
    {
     "name": "stdout",
     "output_type": "stream",
     "text": [
      "21\n",
      "21 korova\n"
     ]
    }
   ],
   "source": [
    "n = int(input())\n",
    "x = n % 10\n",
    "x1 = [0, 5, 6, 7, 8, 9]\n",
    "if x == 1 and n != 11:\n",
    "    print(n, 'korova')\n",
    "elif n in range(10, 21) or n == 0 or x in x1:\n",
    "    print(n, 'korov')\n",
    "else:\n",
    "    print(n, 'korovy')"
   ]
  },
  {
   "cell_type": "markdown",
   "metadata": {},
   "source": [
    "В математике функция sign(x) (знак числа) определена так:\n",
    "\n",
    "sign(x)=1,   если x>0,\n",
    "\n",
    "sign(x)=-1, если x<0,\n",
    "\n",
    "sign(x)=0,   если x=0.\n",
    "\n",
    "Для данного числа x выведите значение sign(x)."
   ]
  },
  {
   "cell_type": "code",
   "execution_count": 6,
   "metadata": {},
   "outputs": [
    {
     "name": "stdout",
     "output_type": "stream",
     "text": [
      "0\n",
      "0\n"
     ]
    }
   ],
   "source": [
    "i = int(input())\n",
    "if i > 0:\n",
    "    print(1)\n",
    "elif i < 0:\n",
    "    print(-1)\n",
    "else:\n",
    "    print(0)"
   ]
  },
  {
   "cell_type": "markdown",
   "metadata": {},
   "source": [
    "Даны координаты двух точек на плоскости, требуется определить, лежат ли они в одной координатной четверти или нет (все координаты отличны от нуля)."
   ]
  },
  {
   "cell_type": "code",
   "execution_count": 10,
   "metadata": {},
   "outputs": [
    {
     "name": "stdout",
     "output_type": "stream",
     "text": [
      "1\n",
      "1\n",
      "1\n",
      "-2\n",
      "NO\n"
     ]
    }
   ],
   "source": [
    "x1, y1, x2, y2 = int(input()), int(input()), int(input()), int(input())\n",
    "a, b, c, d = x1 > 0, y1 > 0, x2 > 0, y2 > 0\n",
    "print('YES' if (a == c and b == d) else 'NO')"
   ]
  },
  {
   "cell_type": "markdown",
   "metadata": {},
   "source": [
    "На доске стоит белая шашка. Требуется определить, может ли она попасть в заданную клетку, делая ходы по правилам и не пользуясь ходами дамки (т. е. не используя возможность перемещаться назад после превращения в дамку). Белые шашки могут ходить по клеткам одного цвета по диагонали вверх-влево или вверх-вправо. Ходов может быть несколько!"
   ]
  },
  {
   "cell_type": "code",
   "execution_count": 18,
   "metadata": {},
   "outputs": [
    {
     "name": "stdout",
     "output_type": "stream",
     "text": [
      "1\n",
      "1\n",
      "2\n",
      "2\n",
      "YES\n"
     ]
    }
   ],
   "source": [
    "x1, y1, x2, y2 = int(input()), int(input()), int(input()), int(input())\n",
    "a, b, c = x1 + y1, x2 + y2, y2 > y1\n",
    "print('YES' if (((a + b) % 2 == 0) and a <= b and c) else 'NO')"
   ]
  },
  {
   "cell_type": "markdown",
   "metadata": {},
   "source": [
    "Даны три стороны треугольника a,b,c. Определите тип треугольника с заданными сторонами. Выведите одно из четырех слов: rectangular для прямоугольного треугольника, acute для остроугольного треугольника, obtuse для тупоугольного треугольника или impossible, если треугольника с такими сторонами не существует (считаем, что вырожденный треугольник тоже невозможен)."
   ]
  },
  {
   "cell_type": "code",
   "execution_count": 20,
   "metadata": {},
   "outputs": [
    {
     "name": "stdout",
     "output_type": "stream",
     "text": [
      "3\n",
      "4\n",
      "5\n",
      "rectangular\n"
     ]
    }
   ],
   "source": [
    "a, b, c = int(input()), int(input()), int(input())\n",
    "x, y, z = a ** 2, b ** 2, c ** 2\n",
    "if (x + y == z) or (x + z == y) or (z + y == x):\n",
    "    print('rectangular')\n",
    "elif (a >= b + c) or (b >= a + c) or (c >= a + b):\n",
    "    print('impossible')\n",
    "elif (x > y + z) or (y > x + z) or (z > x + y):\n",
    "    print('obtuse')\n",
    "elif (x < y + z) or (y < x + z) or (z < x + y):\n",
    "    print('acute')"
   ]
  },
  {
   "cell_type": "markdown",
   "metadata": {},
   "source": [
    "Даны три целых числа A, B, C. Определить, есть ли среди них хотя бы одно четное и хотя бы одно нечетное."
   ]
  },
  {
   "cell_type": "code",
   "execution_count": 22,
   "metadata": {},
   "outputs": [
    {
     "name": "stdout",
     "output_type": "stream",
     "text": [
      "4\n",
      "4\n",
      "4\n",
      "NO\n"
     ]
    }
   ],
   "source": [
    "a, b, c = int(input()), int(input()), int(input())\n",
    "flag1 = False\n",
    "flag2 = False\n",
    "for i in (a, b, c):\n",
    "    if i % 2 == 0:\n",
    "        flag1 = True\n",
    "    elif i % 2 == 1:\n",
    "        flag2 = True\n",
    "print('YES' if flag1 and flag2 else 'NO')"
   ]
  },
  {
   "cell_type": "markdown",
   "metadata": {},
   "source": [
    "Дано три числа. Упорядочите их в порядке неубывания. Программа должна считывать три числа a,b,c, затем программа должна менять их значения так, чтобы стали выполнены условия a≤b≤c, затем программа выводит тройку a,b,c."
   ]
  },
  {
   "cell_type": "code",
   "execution_count": 25,
   "metadata": {},
   "outputs": [
    {
     "name": "stdout",
     "output_type": "stream",
     "text": [
      "3\n",
      "2\n",
      "1\n",
      "1 2 3\n"
     ]
    }
   ],
   "source": [
    "a, b, c = int(input()), int(input()), int(input())\n",
    "if c >= b and c >= a:\n",
    "    if b >= a:\n",
    "        print(a, b, c)\n",
    "    elif a >= b:\n",
    "        a, b = b, a\n",
    "        print(a, b, c)\n",
    "elif b >= a and b >= c:\n",
    "    if c >= a:\n",
    "        b, c = c, b\n",
    "        print(a, b, c)\n",
    "    elif a >= c:\n",
    "        b, c = c, b\n",
    "        a, b = b, a\n",
    "        print(a, b, c)\n",
    "elif a >= b and a >= c:\n",
    "    if b >= c:\n",
    "        a, c = c, a\n",
    "        print(a, b, c)\n",
    "    elif c >= b:\n",
    "        a, c = c, a\n",
    "        a, b = b, a\n",
    "        print(a, b, c)"
   ]
  },
  {
   "cell_type": "markdown",
   "metadata": {},
   "source": [
    "Даны три целых числа. Определите, сколько среди них совпадающих. Программа должна вывести одно из чисел: 3 (если все совпадают), 2 (если два совпадает) или 0 (если все числа различны)."
   ]
  },
  {
   "cell_type": "code",
   "execution_count": 4,
   "metadata": {},
   "outputs": [
    {
     "name": "stdout",
     "output_type": "stream",
     "text": [
      "3\n",
      "3\n",
      "3\n",
      "3\n"
     ]
    }
   ],
   "source": [
    "a, b, c = int(input()), int(input()), int(input())\n",
    "x, y, z = (a == b), (b == c), (a == c)\n",
    "if x and y and z:\n",
    "    print(3)\n",
    "elif x or y or z:\n",
    "    print(2)\n",
    "else:\n",
    "    print(0)"
   ]
  },
  {
   "cell_type": "markdown",
   "metadata": {},
   "source": [
    "За многие годы заточения узник замка Иф проделал в стене прямоугольное отверстие размером D×E. Замок Иф сложен из кирпичей, размером A×B×C. Определите, сможет ли узник выбрасывать кирпичи в море через это отверстие (очевидно, стороны кирпича должны быть параллельны сторонам отверстия)."
   ]
  },
  {
   "cell_type": "code",
   "execution_count": 9,
   "metadata": {},
   "outputs": [
    {
     "name": "stdout",
     "output_type": "stream",
     "text": [
      "2\n",
      "2\n",
      "2\n",
      "1\n",
      "1\n",
      "NO\n"
     ]
    }
   ],
   "source": [
    "a, b, c, d, e = int(input()), int(input()), int(input()), int(input()), int(input())\n",
    "if a <= d:\n",
    "    if b <= e or c <= e:\n",
    "        print('YES')\n",
    "    else:\n",
    "        print('NO')\n",
    "elif b <= d:\n",
    "    if a <= e or c <= e:\n",
    "        print('YES')\n",
    "    else:\n",
    "        print('NO')\n",
    "elif c <= d:\n",
    "    if a <= e or b <= e:\n",
    "        print('YES')\n",
    "    else:\n",
    "        print('NO')\n",
    "else:\n",
    "    print('NO')"
   ]
  },
  {
   "cell_type": "markdown",
   "metadata": {},
   "source": [
    "Есть две коробки, первая размером A₁×B₁×C₁, вторая размером A₂×B₂×C₂. Определите, можно ли разместить одну из этих коробок внутри другой, при условии, что поворачивать коробки можно только на 90 градусов вокруг ребер.\n",
    "\n",
    "Программа должна вывести одну из следующих строчек:\n",
    "Boxes are equal, если коробки одинаковые,\n",
    "The first box is smaller than the second one, если первая коробка может быть положена во вторую,\n",
    "The first box is larger than the second one, если вторая коробка может быть положена в первую,\n",
    "Boxes are incomparable, во всех остальных случаях."
   ]
  },
  {
   "cell_type": "code",
   "execution_count": 17,
   "metadata": {},
   "outputs": [
    {
     "name": "stdout",
     "output_type": "stream",
     "text": [
      "2\n",
      "2\n",
      "3\n",
      "3\n",
      "2\n",
      "1\n",
      "The first box is larger than the second one\n"
     ]
    }
   ],
   "source": [
    "a1, b1, c1 = sorted((int(input()), int(input()), int(input())))\n",
    "a2, b2, c2 = sorted((int(input()), int(input()), int(input())))\n",
    "if a1 == a2 and b1 == b2 and c1 == c2:\n",
    "    print('Boxes are equal')\n",
    "elif a1 <= a2 and b1 <= b2 and c1 <= c2:\n",
    "    print('The first box is smaller than the second one')\n",
    "elif a1 >= a2 and b1 >= b2 and c1 >= c2:\n",
    "    print('The first box is larger than the second one')\n",
    "else:\n",
    "    print('Boxes are incomparable')"
   ]
  },
  {
   "cell_type": "markdown",
   "metadata": {},
   "source": [
    "На склад, который имеет форму прямоугольного параллелепипеда, привезли ноутбуки, упакованные в коробки. Каждая коробка также имеет форму прямоугольного параллелепипеда. По правилам хранения коробки с ноутбуками должны быть размещены на складе с выполнением следующих двух условий:\n",
    "\n",
    "Стороны коробок должны быть параллельны сторонам склада.\n",
    " Коробку при помещении на склад разрешается расположить где угодно (с выполнением предыдущего условия), в том числе на другой коробке, но все коробки должны быть ориентированы одинаково (т.е. нельзя одну коробку расположить “стоя”, а другую —“лежа”)\n",
    "Напишите программу, которая по размерам склада и размерам коробки с ноутбуком определит максимальное количество ноутбуков, которое может быть размещено на складе."
   ]
  },
  {
   "cell_type": "code",
   "execution_count": 26,
   "metadata": {},
   "outputs": [
    {
     "name": "stdout",
     "output_type": "stream",
     "text": [
      "100\n",
      "200\n",
      "300\n",
      "1\n",
      "2\n",
      "3\n",
      "1000000\n"
     ]
    }
   ],
   "source": [
    "a1, b1, c1 = int(input()), int(input()), int(input())\n",
    "a2, b2, c2 = int(input()), int(input()), int(input())\n",
    "x1 = ((a1 // a2) * (b1 // b2) * (c1 // c2))\n",
    "x2 = ((a1 // b2) * (b1 // a2) * (c1 // c2))\n",
    "x3 = ((a1 // a2) * (b1 // c2) * (c1 // b2))\n",
    "x4 = ((a1 // b2) * (b1 // c2) * (c1 // a2))\n",
    "x5 = ((a1 // c2) * (b1 // b2) * (c1 // a2))\n",
    "x6 = ((a1 // c2) * (b1 // a2) * (c1 // b2))\n",
    "t1 = (x1 if x1 >= x2 else x2)\n",
    "t2 = (x3 if x3 >= t1 else t1)\n",
    "t3 = (x4 if x4 >= t2 else t2)\n",
    "t4 = (x5 if x5 >= t3 else t3)\n",
    "t5 = (x6 if x6 >= t4 else t4)\n",
    "print(t5)"
   ]
  },
  {
   "cell_type": "markdown",
   "metadata": {},
   "source": [
    "В кафе мороженое продают по три шарика и по пять шариков. Можно ли купить ровно k шариков мороженого?"
   ]
  },
  {
   "cell_type": "code",
   "execution_count": 40,
   "metadata": {},
   "outputs": [
    {
     "name": "stdout",
     "output_type": "stream",
     "text": [
      "1000000\n",
      "YES\n"
     ]
    }
   ],
   "source": [
    "k = int(input())\n",
    "print('YES' if (k == 3 or k == 5 or k >= 8) else 'NO')"
   ]
  },
  {
   "cell_type": "markdown",
   "metadata": {},
   "source": [
    "Решить в целых числах уравнение: (ax+b) / (cx+d) =0\n",
    "\n",
    "Необходимо вывести все решения, если их число конечно, “NO” (без кавычек), если решений нет, и “INF” (без кавычек), если решений бесконечно много."
   ]
  },
  {
   "cell_type": "code",
   "execution_count": 9,
   "metadata": {},
   "outputs": [
    {
     "name": "stdout",
     "output_type": "stream",
     "text": [
      "1\n",
      "2\n",
      "3\n",
      "4\n",
      "-2\n"
     ]
    }
   ],
   "source": [
    "a, b, c, d = int(input()), int(input()), int(input()), int(input())\n",
    "if a == 0:\n",
    "    if b == 0:\n",
    "        print(\"INF\")\n",
    "    else:\n",
    "        print('NO')\n",
    "else:\n",
    "    if a * d == b * c:\n",
    "        print('NO')\n",
    "    else:\n",
    "        if (-b / a) % 1 == 0:\n",
    "            print(-b // a)\n",
    "        else:\n",
    "            print('NO')"
   ]
  },
  {
   "cell_type": "markdown",
   "metadata": {},
   "source": [
    "На сковородку одновременно можно положить k котлет. Каждую котлету нужно с каждой стороны обжаривать m минут непрерывно. За какое наименьшее время удастся поджарить с обеих сторон n котлет?"
   ]
  },
  {
   "cell_type": "code",
   "execution_count": 12,
   "metadata": {},
   "outputs": [
    {
     "name": "stdout",
     "output_type": "stream",
     "text": [
      "1\n",
      "2\n",
      "5\n",
      "20\n"
     ]
    }
   ],
   "source": [
    "k, m, n = int(input()), int(input()), int(input())\n",
    "print((((n * 2 + (k - 1)) // k) * m) if (n > k) else (m * 2))"
   ]
  },
  {
   "cell_type": "markdown",
   "metadata": {},
   "source": [
    "Вдоль прямой выложены три спички. Необходимо переложить одну из них так, чтобы при поджигании любой спички сгорали все три. Для того чтобы огонь переходил с одной спички на другую, необходимо чтобы эти спички соприкасались (хотя бы концами).\n",
    "\n",
    "Требуется написать программу, определяющую, какую из трех спичек необходимо переместить.\n",
    "\n",
    "Формат ввода\n",
    "\n",
    "Вводятся шесть целых чисел : l₁, r₁, l₂, r₂, l₃, r₃ – координаты первой, второй и третьей спичек соответственно (0 ≤ lᵢ < rᵢ ≤ 100). Каждая спичка описывается координатами левого и правого концов по горизонтальной оси OX.\n",
    "\n",
    "Формат вывода\n",
    "\n",
    "Выведите номер искомой спички. Если возможных ответов несколько, то выведите наименьший из них (наименьший по номеру спички). В случае, когда нет необходимости перемещать какую-либо спичку, выведите 0. Если же требуемого результата достигнуть невозможно, то выведите -1. "
   ]
  },
  {
   "cell_type": "code",
   "execution_count": 1,
   "metadata": {},
   "outputs": [
    {
     "name": "stdout",
     "output_type": "stream",
     "text": [
      "0\n",
      "2\n",
      "4\n",
      "5\n",
      "3\n",
      "6\n",
      "1\n"
     ]
    }
   ],
   "source": [
    "l1, r1 = int(input()), int(input())\n",
    "l2, r2 = int(input()), int(input())\n",
    "l3, r3 = int(input()), int(input())\n",
    "len1, len2, len3 = r1 - l1, r2 - l2, r3 - l3\n",
    "x12 = l1 <= r2 and l2 <= r1\n",
    "x13 = l1 <= r3 and l3 <= r1\n",
    "x23 = l2 <= r3 and l3 <= r2\n",
    "if (x12 and x13) or (x12 and x23) or (x13 and x23) or (x12 and x13 and x23):\n",
    "    print(0)\n",
    "elif (0 < l3 - r2 <= len1) or (0 < l2 - r3 < len1) or x23:\n",
    "    print(1)\n",
    "elif (0 < l3 - r1 <= len2) or (0 < l1 - r3 <= len2) or x13:\n",
    "    print(2)\n",
    "elif (0 < l2 - r1 <= len3) or (0 < l1 - r2 <= len3) or x12:\n",
    "    print(3)\n",
    "else:\n",
    "    print(-1)"
   ]
  },
  {
   "cell_type": "markdown",
   "metadata": {},
   "source": [
    "В одну транспортную компанию поступил заказ на перевозку двух ящиков из одного города в другой. Для перевозки ящики решено было упаковать в специальный контейнер.\n",
    "\n",
    "Ящики и контейнер имеют вид прямоугольных параллелепипедов. Длина, ширина и высота первого ящика  —  l₁,w₁ и h₁, соответствующие размеры второго ящика – l₂,w₂ и h₂. Контейнер имеет длину, ширину и высоту lc,wc и hc.\n",
    "\n",
    "Поскольку ящики содержат хрупкое оборудование, после упаковки в контейнер каждый из них должен остаться в строго вертикальном положении. Таким образом, ящики можно разместить рядом или один на другом. Для надежного закрепления в контейнере стороны ящиков должны быть параллельны его сторонам. Иначе говоря, если исходно ящики были расположены так, что все их стороны параллельны соответствующим сторонам контейнера, то каждый из них разрешается перемещать и поворачивать относительно вертикальной оси на угол, кратный 90 градусам (относительно горизонтальной оси ни контейнер, ни ящики поворачивать нельзя).\n",
    "\n",
    "Разумеется, после упаковки оба ящика должны полностью находиться внутри контейнера и не должны пересекаться.\n",
    "\n",
    "Выясните, можно ли поместить ящики в контейнер с соблюдением указанных условий."
   ]
  },
  {
   "cell_type": "code",
   "execution_count": 10,
   "metadata": {},
   "outputs": [
    {
     "name": "stdout",
     "output_type": "stream",
     "text": [
      "2\n",
      "2\n",
      "3\n",
      "3\n",
      "3\n",
      "3\n",
      "3\n",
      "5\n",
      "3\n",
      "False False False False False False False False True False True True\n",
      "3\n"
     ]
    }
   ],
   "source": [
    "l1, w1, h1 = int(input()), int(input()), int(input())\n",
    "l2, w2, h2 = int(input()), int(input()), int(input())\n",
    "lc, wc, hc = int(input()), int(input()), int(input())\n",
    "pos1 = (lc >= l1 + l2) and (wc >= w1 and wc >= w2) and (hc >= h1 and hc >= h2)\n",
    "pos2 = (lc >= l1 + w2) and (wc >= w1 and wc >= l2) and (hc >= h1 and hc >= h2)\n",
    "pos3 = (lc >= w1 + l2) and (wc >= l1 and wc >= w2) and (hc >= h1 and hc >= h2)\n",
    "pos4 = (lc >= w1 + w2) and (wc >= l1 and wc >= l2) and (hc >= h1 and hc >= h2)\n",
    "pos5 = (lc >= l1 and lc >= l2) and (wc >= w1 and wc >= w2) and (hc >= h1 + h2)\n",
    "pos6 = (lc >= l1 and lc >= w2) and (wc >= w1 and wc >= l2) and (hc >= h1 + h2)\n",
    "pos7 = (lc >= w1 and lc >= l2) and (wc >= l1 and wc >= w2) and (hc >= h1 + h2)\n",
    "pos8 = (lc >= w1 and lc >= w2) and (wc >= l1 and wc >= l2) and (hc >= h1 + h2)\n",
    "pos9 = (lc >= l1 and lc >= l2) and (wc >= w1 + w2) and (hc >= h1 and hc >= h2)\n",
    "pos10 = (lc >= l1 and lc >= w2) and (wc >= w1 + l2) and (hc >= h1 and hc >= h2)\n",
    "pos11 = (lc >= w1 and lc >= l2) and (wc >= l1 + w2) and (hc >= h1 and hc >= h2)\n",
    "pos12 = (lc >= w1 and lc >= w2) and (wc >= l1 + l2) and (hc >= h1 and hc >= h2)\n",
    "pos = pos1 + pos2 + pos3 + pos4 + pos5 + pos6 + pos7 + pos8 + pos9 + pos10 + pos11 + pos12\n",
    "if pos > 0:\n",
    "    print('YES')\n",
    "else:\n",
    "    print('NO')"
   ]
  },
  {
   "cell_type": "markdown",
   "metadata": {},
   "source": [
    "Список квадратов\n",
    "По данному целому числу N распечатайте все квадраты натуральных чисел,не превосходящие N, в порядке возрастания."
   ]
  },
  {
   "cell_type": "code",
   "execution_count": 14,
   "metadata": {},
   "outputs": [
    {
     "name": "stdout",
     "output_type": "stream",
     "text": [
      "50\n",
      "1 4 9 16 25 36 49 "
     ]
    }
   ],
   "source": [
    "n = int(input())\n",
    "i = 1\n",
    "while i <= n:\n",
    "    if i ** 2 <= n:\n",
    "        print(i ** 2, end=' ')\n",
    "    i += 1"
   ]
  },
  {
   "cell_type": "markdown",
   "metadata": {},
   "source": [
    "Дано целое число, не меньшее 2. Выведите его наименьший натуральный делитель, отличный от 1."
   ]
  },
  {
   "cell_type": "code",
   "execution_count": 19,
   "metadata": {},
   "outputs": [
    {
     "name": "stdout",
     "output_type": "stream",
     "text": [
      "15\n",
      "3\n"
     ]
    }
   ],
   "source": [
    "n, i = int(input()), 2\n",
    "while n % i != 0:\n",
    "    i += 1\n",
    "print(i)"
   ]
  },
  {
   "cell_type": "markdown",
   "metadata": {},
   "source": [
    "По данному числу N распечатайте все целые степени двойки, не превосходящие N, в порядке возрастания.Операцией возведения в степень пользоваться нельзя!"
   ]
  },
  {
   "cell_type": "code",
   "execution_count": 21,
   "metadata": {},
   "outputs": [
    {
     "name": "stdout",
     "output_type": "stream",
     "text": [
      "50\n",
      "1 2 4 8 16 32 "
     ]
    }
   ],
   "source": [
    "n, i = int(input()), 1\n",
    "while i <= n:\n",
    "    print(i, end=' ')\n",
    "    i *= 2"
   ]
  },
  {
   "cell_type": "markdown",
   "metadata": {},
   "source": [
    "Дано натуральное число N. Выведите слово YES, если число N является точной степенью двойки, или слово NO в противном случае. Операцией возведения в степень пользоваться нельзя!"
   ]
  },
  {
   "cell_type": "code",
   "execution_count": 28,
   "metadata": {},
   "outputs": [
    {
     "name": "stdout",
     "output_type": "stream",
     "text": [
      "21\n",
      "NO\n"
     ]
    }
   ],
   "source": [
    "n = int(input())\n",
    "while n > 1 and n % 2 == 0:\n",
    "    n //= 2\n",
    "print('YES' if n == 1 else 'NO')"
   ]
  },
  {
   "cell_type": "markdown",
   "metadata": {},
   "source": [
    "По данному натуральному числу N выведите такое наименьшее целое число k, что 2ᵏ≥N.\n",
    "\n",
    "Операцией возведения в степень пользоваться нельзя!"
   ]
  },
  {
   "cell_type": "code",
   "execution_count": 9,
   "metadata": {},
   "outputs": [
    {
     "name": "stdout",
     "output_type": "stream",
     "text": [
      "1\n",
      "0\n"
     ]
    }
   ],
   "source": [
    "n, i, j = int(input()), 1, 0\n",
    "while i < n:\n",
    "    i *= 2\n",
    "    j += 1\n",
    "print(j)"
   ]
  },
  {
   "cell_type": "markdown",
   "metadata": {},
   "source": [
    "В первый день спортсмен пробежал X километров, а затем он каждый день увеличивал пробег на 10% от предыдущего значения (для решения задачи разрешается использовать числа с запятой, которые в Питоне пишутся через точку). \n",
    "\n",
    "По данному числу X определите номер дня, на который пробег спортсмена составит не менее Y километров."
   ]
  },
  {
   "cell_type": "code",
   "execution_count": 12,
   "metadata": {},
   "outputs": [
    {
     "name": "stdout",
     "output_type": "stream",
     "text": [
      "10\n",
      "100\n",
      "26\n"
     ]
    }
   ],
   "source": [
    "x, y, i = int(input()), int(input()), 1\n",
    "while x < y:\n",
    "    x *= (110 / 100)\n",
    "    i += 1\n",
    "print(i)"
   ]
  },
  {
   "cell_type": "markdown",
   "metadata": {},
   "source": [
    "Последовательность состоит из целых чисел и завершается числом 0. Определите значение наибольшего элемента последовательности."
   ]
  },
  {
   "cell_type": "code",
   "execution_count": 20,
   "metadata": {},
   "outputs": [
    {
     "name": "stdout",
     "output_type": "stream",
     "text": [
      "1\n",
      "7\n",
      "9\n",
      "0\n",
      "9\n"
     ]
    }
   ],
   "source": [
    "x = int(input())\n",
    "mx = x\n",
    "while x != 0:\n",
    "    x = int(input())\n",
    "    if mx <= x:\n",
    "        mx = x\n",
    "print(mx)"
   ]
  },
  {
   "cell_type": "markdown",
   "metadata": {},
   "source": [
    "По данному натуральному n вычислите сумму 1²+2²+3²+...+n²."
   ]
  },
  {
   "cell_type": "code",
   "execution_count": 23,
   "metadata": {},
   "outputs": [
    {
     "name": "stdout",
     "output_type": "stream",
     "text": [
      "3\n",
      "14\n"
     ]
    }
   ],
   "source": [
    "n, i, sum_n = int(input()), 1, 0\n",
    "while i <= n:\n",
    "    sum_n += i ** 2\n",
    "    i += 1\n",
    "print(sum_n)"
   ]
  },
  {
   "cell_type": "markdown",
   "metadata": {},
   "source": [
    "Программа получает на вход последовательность целых неотрицательных чисел, каждое число записано в отдельной строке. Последовательность завершается числом 0, при считывании которого программа должна закончить свою работу и вывести количество членов последовательности (не считая завершающего числа 0)."
   ]
  },
  {
   "cell_type": "code",
   "execution_count": 26,
   "metadata": {},
   "outputs": [
    {
     "name": "stdout",
     "output_type": "stream",
     "text": [
      "1\n",
      "2\n",
      "0\n",
      "2\n"
     ]
    }
   ],
   "source": [
    "j, i = int(input()), 0\n",
    "while j != 0:\n",
    "    j = int(input())\n",
    "    i += 1\n",
    "print(i)"
   ]
  },
  {
   "cell_type": "markdown",
   "metadata": {},
   "source": [
    "Определите сумму всех элементов последовательности, завершающейся числом 0."
   ]
  },
  {
   "cell_type": "code",
   "execution_count": 27,
   "metadata": {},
   "outputs": [
    {
     "name": "stdout",
     "output_type": "stream",
     "text": [
      "1\n",
      "7\n",
      "9\n",
      "0\n",
      "17\n"
     ]
    }
   ],
   "source": [
    "x, s = int(input()), 0\n",
    "while x != 0:\n",
    "    s += x\n",
    "    x = int(input())\n",
    "print(s)"
   ]
  },
  {
   "cell_type": "markdown",
   "metadata": {},
   "source": [
    "Определите среднее значение всех элементов последовательности, завершающейся числом 0. Использовать массивы в данной задаче нельзя."
   ]
  },
  {
   "cell_type": "code",
   "execution_count": 28,
   "metadata": {},
   "outputs": [
    {
     "name": "stdout",
     "output_type": "stream",
     "text": [
      "1\n",
      "7\n",
      "9\n",
      "0\n",
      "5.666666666666667\n"
     ]
    }
   ],
   "source": [
    "x, s, i = int(input()), 0, 0\n",
    "while x != 0:\n",
    "    s += x\n",
    "    i += 1\n",
    "    x = int(input())\n",
    "print(s / i)"
   ]
  },
  {
   "cell_type": "markdown",
   "metadata": {},
   "source": [
    "Определите количество четных элементов в последовательности, завершающейся числом 0."
   ]
  },
  {
   "cell_type": "code",
   "execution_count": 29,
   "metadata": {},
   "outputs": [
    {
     "name": "stdout",
     "output_type": "stream",
     "text": [
      "2\n",
      "1\n",
      "4\n",
      "0\n",
      "2\n"
     ]
    }
   ],
   "source": [
    "x, i = int(input()), 0\n",
    "while x != 0:\n",
    "    if x % 2 == 0:\n",
    "        i += 1\n",
    "    x = int(input())\n",
    "print(i)"
   ]
  },
  {
   "cell_type": "markdown",
   "metadata": {},
   "source": [
    "Последовательность состоит из натуральных чисел и завершается числом 0. Определите, сколько элементов этой последовательности больше предыдущего элемента."
   ]
  },
  {
   "cell_type": "code",
   "execution_count": 30,
   "metadata": {},
   "outputs": [
    {
     "name": "stdout",
     "output_type": "stream",
     "text": [
      "1\n",
      "7\n",
      "9\n",
      "0\n",
      "2\n"
     ]
    }
   ],
   "source": [
    "x, i = int(input()), 0\n",
    "while x != 0:\n",
    "    prev = x\n",
    "    x = int(input())\n",
    "    if x > prev:\n",
    "        i += 1\n",
    "print(i)"
   ]
  },
  {
   "cell_type": "markdown",
   "metadata": {},
   "source": [
    "Последовательность состоит из натуральных чисел и завершается числом 0. Определите значение второго по величине элемента в этой последовательности, то есть элемента, который будет наибольшим, если из последовательности удалить одно вхождение наибольшего элемента."
   ]
  },
  {
   "cell_type": "code",
   "execution_count": 44,
   "metadata": {},
   "outputs": [
    {
     "name": "stdout",
     "output_type": "stream",
     "text": [
      "1\n",
      "2\n",
      "2\n",
      "3\n",
      "3\n",
      "0\n",
      "3\n"
     ]
    }
   ],
   "source": [
    "x = int(input())\n",
    "mx1, mx2 = x, 0\n",
    "while x != 0:\n",
    "    x = int(input())\n",
    "    if x > mx1:\n",
    "        mx2 = mx1\n",
    "        mx1 = x\n",
    "    elif x > mx2 and x <= mx1:\n",
    "        mx2 = x\n",
    "print(mx2)"
   ]
  },
  {
   "cell_type": "markdown",
   "metadata": {},
   "source": [
    "Последовательность состоит из натуральных чисел и завершается числом 0. Определите количество элементов этой последовательности, которые равны ее наибольшему элементу."
   ]
  },
  {
   "cell_type": "code",
   "execution_count": 51,
   "metadata": {},
   "outputs": [
    {
     "name": "stdout",
     "output_type": "stream",
     "text": [
      "1\n",
      "2\n",
      "3\n",
      "4\n",
      "5\n",
      "0\n",
      "1\n"
     ]
    }
   ],
   "source": [
    "x, mx, i = int(input()), 0, 0\n",
    "while x != 0:\n",
    "    if x > mx:\n",
    "        mx = x\n",
    "        i = 0\n",
    "    if x == mx:\n",
    "        i += 1\n",
    "    x = int(input())\n",
    "print(i)"
   ]
  },
  {
   "cell_type": "markdown",
   "metadata": {},
   "source": [
    "Последовательность Фибоначчи определяется так:\n",
    "F[0] = 0, F[1] = 1, ..., F[n] = F[n-1] + F[n-2].\n",
    "По данному числу n определите n-е число Фибоначчи F[n]."
   ]
  },
  {
   "cell_type": "code",
   "execution_count": 81,
   "metadata": {},
   "outputs": [
    {
     "name": "stdout",
     "output_type": "stream",
     "text": [
      "100\n",
      "354224848179261915075\n",
      "100\n"
     ]
    }
   ],
   "source": [
    "n, fp, fn, i = int(input()), 1, 1, 3\n",
    "if n == 1:\n",
    "    print(fp)\n",
    "elif n == 2:\n",
    "    print(fn)\n",
    "elif n > 2:\n",
    "    while i <= n:\n",
    "        fn, fp = fp + fn, fn\n",
    "        i += 1\n",
    "    print(fn)"
   ]
  },
  {
   "cell_type": "markdown",
   "metadata": {},
   "source": [
    "Последовательность Фибоначчи определяется так:\n",
    "F[0]=0, F[1]=1, ..., F[n]=F[n-1]+F[n-2].\n",
    "Дано натуральное число A. Определите, каким по счету числом Фибоначчи оно является, то есть выведите такое число n, что F[n]=A.\n",
    "Если А не является числом Фибоначчи, выведите число -1."
   ]
  },
  {
   "cell_type": "code",
   "execution_count": 98,
   "metadata": {},
   "outputs": [
    {
     "name": "stdout",
     "output_type": "stream",
     "text": [
      "354224848179261915075\n",
      "100\n"
     ]
    }
   ],
   "source": [
    "n, fp, fn, i = int(input()), 0, 1, 0\n",
    "while fp < n:\n",
    "    fn, fp = fp + fn, fn\n",
    "    i += 1\n",
    "if fp == n:\n",
    "    print(i)\n",
    "else:\n",
    "    print(-1)"
   ]
  },
  {
   "cell_type": "markdown",
   "metadata": {},
   "source": [
    "Исполнитель “Раздвоитель” преобразует натуральные числа. У него есть две команды: “Вычесть 1” и “Разделить на 2”, первая команда уменьшает число на 1, вторая команда уменьшает число в два раза, если оно чётное,иначе происходит ошибка. Дано два натуральных числа A и B (A>B). Напишите алгоритм для Раздвоителя, который преобразует число A в число B и при этом содержит минимальное число команд. Команды алгоритма нужно выводить по одной в строке, первая команда обозначается, как -1, вторая команда как :2."
   ]
  },
  {
   "cell_type": "code",
   "execution_count": 104,
   "metadata": {},
   "outputs": [
    {
     "name": "stdout",
     "output_type": "stream",
     "text": [
      "1024\n",
      "1\n",
      ":2\n",
      ":2\n",
      ":2\n",
      ":2\n",
      ":2\n",
      ":2\n",
      ":2\n",
      ":2\n",
      ":2\n",
      ":2\n"
     ]
    }
   ],
   "source": [
    "a, b, i = int(input()), int(input()), 0\n",
    "while a != b:\n",
    "    if (a % 2 == 1 or a // 2 < b) and a != 2 and a - 1 >= b:\n",
    "        a -= 1\n",
    "        print('-1')\n",
    "    elif a % 2 == 0 and a // 2 >= b:\n",
    "        a //= 2\n",
    "        print(':2')\n",
    "    i += 1"
   ]
  },
  {
   "cell_type": "markdown",
   "metadata": {},
   "source": [
    "Переставьте цифры числа в обратном порядке."
   ]
  },
  {
   "cell_type": "code",
   "execution_count": 3,
   "metadata": {},
   "outputs": [
    {
     "name": "stdout",
     "output_type": "stream",
     "text": [
      "320\n",
      "023"
     ]
    }
   ],
   "source": [
    "a = int(input())\n",
    "while a > 0:\n",
    "    print(a % 10, end='')\n",
    "    a //= 10"
   ]
  },
  {
   "cell_type": "markdown",
   "metadata": {},
   "source": [
    "Назовем число палиндромом, если оно не меняется при перестановке его цифр в обратном порядке. Напишите программу, которая по заданному числу K выводит количество натуральных палиндромов, не превосходящих K."
   ]
  },
  {
   "cell_type": "code",
   "execution_count": 15,
   "metadata": {},
   "outputs": [
    {
     "name": "stdout",
     "output_type": "stream",
     "text": [
      "100\n",
      "18\n"
     ]
    }
   ],
   "source": [
    "num = int(input())\n",
    "i, cnt = 1, 0\n",
    "while i <= num:\n",
    "    tmp = i\n",
    "    rev = 0\n",
    "    while tmp > 0:\n",
    "        rev = rev * 10 + tmp % 10\n",
    "        tmp //= 10\n",
    "    if rev == i:\n",
    "        cnt += 1\n",
    "    i += 1\n",
    "print(cnt)"
   ]
  },
  {
   "cell_type": "markdown",
   "metadata": {},
   "source": [
    "Дана последовательность натуральных чисел, завершающаяся числом 0. Определите, какое наибольшее число подряд идущих элементов этой последовательности равны друг другу."
   ]
  },
  {
   "cell_type": "code",
   "execution_count": 22,
   "metadata": {},
   "outputs": [
    {
     "name": "stdout",
     "output_type": "stream",
     "text": [
      "1\n",
      "2\n",
      "2\n",
      "3\n",
      "3\n",
      "3\n",
      "4\n",
      "4\n",
      "4\n",
      "4\n",
      "5\n",
      "0\n",
      "4\n"
     ]
    }
   ],
   "source": [
    "num = int(input())\n",
    "prev = 0\n",
    "cnt = 1\n",
    "mx = 1\n",
    "while num != 0:\n",
    "    if num == prev:\n",
    "        cnt += 1\n",
    "        if cnt > mx:\n",
    "            mx = cnt\n",
    "    else:\n",
    "        cnt = 1\n",
    "    prev = num\n",
    "    num = int(input())\n",
    "print(mx)"
   ]
  },
  {
   "cell_type": "markdown",
   "metadata": {},
   "source": [
    "Дана последовательность натуральных чисел, завершающаяся числом 0. Определите наибольшую длину монотонного фрагмента последовательности (то есть такого фрагмента, где все элементы либо больше предыдущего, либо меньше)."
   ]
  },
  {
   "cell_type": "code",
   "execution_count": 30,
   "metadata": {},
   "outputs": [
    {
     "name": "stdout",
     "output_type": "stream",
     "text": [
      "1\n",
      "2\n",
      "2\n",
      "2\n",
      "3\n",
      "3\n",
      "0\n",
      "2\n"
     ]
    }
   ],
   "source": [
    "num = int(input())\n",
    "prev = 0\n",
    "cnt = 1\n",
    "up = 0\n",
    "down = 1\n",
    "mx1 = 0\n",
    "mx2 = 0\n",
    "while num != 0:\n",
    "    if num > prev:\n",
    "        up += 1\n",
    "        if up > mx1:\n",
    "            mx1 = up\n",
    "        down = 1\n",
    "    elif num < prev:\n",
    "        down += 1\n",
    "        if down > mx2:\n",
    "            mx2 = down\n",
    "        up = 1\n",
    "    elif num == prev:\n",
    "        num = int(input())\n",
    "        up = 1\n",
    "        down = 1\n",
    "        continue\n",
    "    prev = num\n",
    "    num = int(input())\n",
    "if mx1 >= mx2:\n",
    "    print(mx1)\n",
    "else:\n",
    "    print(mx2)"
   ]
  },
  {
   "cell_type": "markdown",
   "metadata": {},
   "source": [
    "Определите наименьшее расстояние между двумя локальными максимумами последовательности натуральных чисел, завершающейся числом 0. Локальным максимумом называется такое число в последовательности, которое больше своих соседей. Если в последовательности нет двух локальных максимумов, выведите число 0. Начальное и конечное значение при этом локальными максимумами не считаются."
   ]
  },
  {
   "cell_type": "code",
   "execution_count": 31,
   "metadata": {},
   "outputs": [
    {
     "name": "stdout",
     "output_type": "stream",
     "text": [
      "1\n",
      "2\n",
      "1\n",
      "1\n",
      "2\n",
      "1\n",
      "2\n",
      "1\n",
      "0\n",
      "0\n"
     ]
    }
   ],
   "source": [
    "pre = int(input())\n",
    "now = int(input())\n",
    "nex = int(input())\n",
    "dis = 0\n",
    "mn = 0\n",
    "while nex != 0:\n",
    "    if pre < now < nex:\n",
    "        dis += 1\n",
    "    else:\n",
    "        if dis < mn:\n",
    "            mn = dis\n",
    "        dis = 0\n",
    "    now, nex = pre, now\n",
    "    nex = int(input())\n",
    "print(mn)"
   ]
  },
  {
   "cell_type": "code",
   "execution_count": null,
   "metadata": {},
   "outputs": [],
   "source": [
    "n1, n2, n3, i1, i2, j, l = int(input()), 0, 0, 0, 0, 0, 0\n",
    "while n1 != 0:\n",
    "    if n2 > n1 and n2 > n3:\n",
    "        i2, i1 = i1, j\n",
    "        l = i1 - i2 if l > i1 - i2 or l == 0 and j > 2 else l\n",
    "    n3, n2, n1, j = n2, n1, int(input()), j + 1\n",
    "print(l) if i2 != 0 else print(0)"
   ]
  },
  {
   "cell_type": "code",
   "execution_count": 33,
   "metadata": {},
   "outputs": [
    {
     "name": "stdout",
     "output_type": "stream",
     "text": [
      "1\n",
      "2\n",
      "1\n",
      "1\n",
      "2\n",
      "1\n",
      "2\n",
      "1\n",
      "0\n",
      "2\n"
     ]
    }
   ],
   "source": [
    "nex, now, pre = int(input()), 0, 0\n",
    "mx1, mx2 = 0, 0\n",
    "i = 0\n",
    "lgh = 0\n",
    "while nex != 0:\n",
    "    if pre < now > nex:\n",
    "        mx2, mx1 = mx1, i\n",
    "        if lgh > mx1 - mx2 or lgh == 0 and i > 2:\n",
    "            lgh = mx1 - mx2\n",
    "    pre, now, nex, i = now, nex, int(input()), i + 1\n",
    "if mx2 != 0:\n",
    "    print(lgh)\n",
    "else:\n",
    "    print(0)"
   ]
  },
  {
   "cell_type": "markdown",
   "metadata": {},
   "source": [
    "# Вещественные числа и строки"
   ]
  },
  {
   "cell_type": "markdown",
   "metadata": {},
   "source": [
    "Даны длины сторон треугольника. Вычислите площадь треугольника."
   ]
  },
  {
   "cell_type": "code",
   "execution_count": 36,
   "metadata": {},
   "outputs": [
    {
     "name": "stdout",
     "output_type": "stream",
     "text": [
      "3\n",
      "4\n",
      "5\n",
      "6.0\n"
     ]
    }
   ],
   "source": [
    "a, b, c = float(input()), float(input()), float(input())\n",
    "p = (a + b + c) / 2\n",
    "print((p * (p - a) * (p - b) * (p - c)) ** (1 / 2))"
   ]
  },
  {
   "cell_type": "markdown",
   "metadata": {},
   "source": [
    "По данному числу n вычислите сумму (1 / 1²)+(1 / 2²)+(1 / 3²)+...+(1 / n²)."
   ]
  },
  {
   "cell_type": "code",
   "execution_count": 37,
   "metadata": {},
   "outputs": [
    {
     "name": "stdout",
     "output_type": "stream",
     "text": [
      "3\n",
      "1.3611111111111112\n"
     ]
    }
   ],
   "source": [
    "num = int(input())\n",
    "i = 1\n",
    "sumSeq = 0\n",
    "while i <= num:\n",
    "    sumSeq += (1 / (i ** 2))\n",
    "    i += 1\n",
    "print(sumSeq)"
   ]
  },
  {
   "cell_type": "markdown",
   "metadata": {},
   "source": [
    "Дано положительное действительное число X. Выведите его дробную часть."
   ]
  },
  {
   "cell_type": "code",
   "execution_count": 40,
   "metadata": {},
   "outputs": [
    {
     "name": "stdout",
     "output_type": "stream",
     "text": [
      "17.9\n",
      "0.8999999999999986\n"
     ]
    }
   ],
   "source": [
    "x = float(input())\n",
    "print(x - int(x))"
   ]
  },
  {
   "cell_type": "markdown",
   "metadata": {},
   "source": [
    "Цена товара обозначена в рублях с точностью до копеек, то есть действительным числом с двумя цифрами после десятичной точки. Запишите в две целочисленные переменные стоимость товара в виде целого числа рублей и целого числа копеек и выведите их на экран. При решении этой задачи нельзя пользоваться условными инструкциями и циклами."
   ]
  },
  {
   "cell_type": "code",
   "execution_count": 45,
   "metadata": {},
   "outputs": [
    {
     "name": "stdout",
     "output_type": "stream",
     "text": [
      "10.35\n",
      "10 35\n"
     ]
    }
   ],
   "source": [
    "x = float(input())\n",
    "print(int(x // 1), int((x % 1 + 10 ** -6) * 100))"
   ]
  },
  {
   "cell_type": "markdown",
   "metadata": {},
   "source": [
    "По российский правилам числа округляются до ближайшего целого числа,а если дробная часть числа равна 0.5, то число округляется вверх. Дано неотрицательное число x, округлите его по этим правилам. Обратите внимание, что функция round не годится для этой задачи!"
   ]
  },
  {
   "cell_type": "code",
   "execution_count": 47,
   "metadata": {},
   "outputs": [
    {
     "name": "stdout",
     "output_type": "stream",
     "text": [
      "2.5\n",
      "3\n"
     ]
    }
   ],
   "source": [
    "x = float(input())\n",
    "print(int(x + 0.5))"
   ]
  },
  {
   "cell_type": "markdown",
   "metadata": {},
   "source": [
    "Процентная ставка по вкладу составляет P процентов годовых, которые прибавляются к сумме вклада. Вклад составляет X рублей Y копеек. Определите размер вклада через год. При решении этой задачи нельзя пользоваться условными инструкциями и циклами."
   ]
  },
  {
   "cell_type": "code",
   "execution_count": 54,
   "metadata": {},
   "outputs": [
    {
     "name": "stdout",
     "output_type": "stream",
     "text": [
      "10\n",
      "100\n",
      "0\n",
      "110 0\n"
     ]
    }
   ],
   "source": [
    "p, x, y = int(input()), int(input()), int(input())\n",
    "s = ((x * 100 + y) * (1 + (p / 100))) + (10 ** -6)\n",
    "print(int(s // 100), int(s % 100))"
   ]
  },
  {
   "cell_type": "markdown",
   "metadata": {},
   "source": [
    "Процентная ставка по вкладу составляет P процентов годовых, которые прибавляются к сумме вклада через год. Вклад составляет X рублей Y копеек. Определите размер вклада через K лет."
   ]
  },
  {
   "cell_type": "code",
   "execution_count": 58,
   "metadata": {},
   "outputs": [
    {
     "name": "stdout",
     "output_type": "stream",
     "text": [
      "13\n",
      "179\n",
      "0\n",
      "100\n",
      "36360285 50\n"
     ]
    }
   ],
   "source": [
    "p, x, y, k, i, s = int(input()), int(input()), int(input()), int(input()), 1, 0\n",
    "while i <= k:\n",
    "    s = ((x * 100 + y) * (1 + (p / 100))) + (10 ** -6)\n",
    "    x, y = int(s // 100), int(s % 100)\n",
    "    i += 1\n",
    "print(x, y)"
   ]
  },
  {
   "cell_type": "markdown",
   "metadata": {},
   "source": [
    "Дан многочлен P(x) = a[n] xⁿ+a[n-1] xⁿ⁻¹+...+a[1] x+a[0] и число x. Вычислите значение этого многочлена, воспользовавшись схемой Горнера:\n",
    "P(x) = ( ... ( ( ( a[n] x + a[n-1] ) x + a[n-2] ) x + a[n-3] ) ... ) x + a[0]\n",
    "Формат ввода\n",
    "Сначала программе подается на вход целое неотрицательное число n ≤ 20, затем действительное число x, затем следует n+1 вещественных чисел — коэффициенты многочлена от старшего к младшему."
   ]
  },
  {
   "cell_type": "code",
   "execution_count": 62,
   "metadata": {},
   "outputs": [
    {
     "name": "stdout",
     "output_type": "stream",
     "text": [
      "2\n",
      "0.5\n",
      "1\n",
      "1\n",
      "1\n",
      "1.75\n"
     ]
    }
   ],
   "source": [
    "n = int(input())\n",
    "x = float(input())\n",
    "i = 0\n",
    "s = 0\n",
    "while i <= n:\n",
    "    if i == n:\n",
    "        s += float(input())\n",
    "    else:\n",
    "        s = (s + float(input())) * x\n",
    "    i += 1\n",
    "print(s)"
   ]
  },
  {
   "cell_type": "markdown",
   "metadata": {},
   "source": [
    "Дана последовательность натуральных чисел x₁, x₂ ..., xn. Стандартным отклонением называется величина\n",
    "σ=sqrt(((x₁-s)²+(x₂-s)²+…+(xn-s)²) / (n-1))\n",
    "где s = ((x₁+x₂+…+xn) / n) — среднее арифметическое последовательности, а sqrt - квадратный корень. Определите стандартное отклонение для данной последовательности натуральных чисел, завершающейся числом 0."
   ]
  },
  {
   "cell_type": "code",
   "execution_count": 63,
   "metadata": {},
   "outputs": [
    {
     "name": "stdout",
     "output_type": "stream",
     "text": [
      "1\n",
      "7\n",
      "9\n",
      "0\n",
      "4.163331998932266\n"
     ]
    }
   ],
   "source": [
    "x = int(input())\n",
    "n = 0\n",
    "i = 0\n",
    "s = 0\n",
    "while x != 0:\n",
    "    i += x\n",
    "    n += 1\n",
    "    s += x ** 2\n",
    "    x = int(input())\n",
    "print(((s - i ** 2 / n) / (n - 1)) ** (1 / 2))"
   ]
  },
  {
   "cell_type": "markdown",
   "metadata": {},
   "source": [
    "Даны действительные коэффициенты a, b, c, при этом a != 0. Решите квадратное уравнение ax²+bx+c=0 и выведите все его корни."
   ]
  },
  {
   "cell_type": "code",
   "execution_count": 67,
   "metadata": {},
   "outputs": [
    {
     "name": "stdout",
     "output_type": "stream",
     "text": [
      "1\n",
      "2\n",
      "1\n",
      "-1.0\n"
     ]
    }
   ],
   "source": [
    "a, b, c = float(input()), float(input()), float(input())\n",
    "D = (b ** 2) - (4 * a * c)\n",
    "if D == 0:\n",
    "    print((-1 * b) / (2 * a))\n",
    "elif D > 0:\n",
    "    x1 = (-1 * b + D ** 0.5) / (2 * a)\n",
    "    x2 = (-1 * b - D ** 0.5) / (2 * a)\n",
    "    if x1 >= x2:\n",
    "        print(x2, x1)\n",
    "    else:\n",
    "        print(x1, x2)\n",
    "elif D < 0:\n",
    "    print()"
   ]
  },
  {
   "cell_type": "markdown",
   "metadata": {},
   "source": [
    "Даны произвольные действительные коэффициенты a, b, c. Решите уравнение ax²+bx+c=0."
   ]
  },
  {
   "cell_type": "code",
   "execution_count": null,
   "metadata": {},
   "outputs": [],
   "source": [
    "a, b, c = float(input()), float(input()), float(input())\n",
    "d = (b ** 2) - (4 * a * c)\n",
    "if d < 0 or (a == b == 0 and c != 0):\n",
    "    print(0)\n",
    "elif a == b == c == 0:\n",
    "    print(3)\n",
    "elif d == 0 and a != 0:\n",
    "    print(1, (-b / (2 * a)))\n",
    "elif d > 0 and a != 0:\n",
    "    x1 = (-b - d ** 0.5) / (2 * a)\n",
    "    x2 = (-b + d ** 0.5) / (2 * a)\n",
    "    if x1 < x2:\n",
    "        print(2, x1, x2)\n",
    "    else:\n",
    "        print(2, x2, x1)\n",
    "elif a == 0:\n",
    "    print(1, (-c / b))"
   ]
  },
  {
   "cell_type": "markdown",
   "metadata": {},
   "source": [
    "Даны вещественные числа a, b, c, d, e, f. Известно, что система линейных уравнений:\n",
    "ax + by = e\n",
    "cx + dy = f \n",
    "имеет ровно одно решение. Выведите два числа x и y, являющиеся решением этой системы."
   ]
  },
  {
   "cell_type": "code",
   "execution_count": 7,
   "metadata": {},
   "outputs": [
    {
     "name": "stdout",
     "output_type": "stream",
     "text": [
      "3\n",
      "5\n",
      "4\n",
      "4\n",
      "11\n",
      "12\n",
      "2.0 1.0\n"
     ]
    }
   ],
   "source": [
    "a, b, c = float(input()), float(input()), float(input())\n",
    "d, e, f = float(input()), float(input()), float(input())\n",
    "if a == 0 and b != 0 and c != 0 and d != 0:\n",
    "    y = e / b\n",
    "    x = (f - d * y) / c\n",
    "elif b == 0 and a != 0 and c != 0 and d != 0:\n",
    "    x = e / a\n",
    "    y = (f - c * x) / d\n",
    "elif c == 0 and a != 0 and b != 0 and d != 0:\n",
    "    y = f / d\n",
    "    x = (e - b * y) / a\n",
    "elif d == 0 and a != 0 and b != 0 and c != 0:\n",
    "    x = f / c\n",
    "    y = (e - a * x) / b\n",
    "elif a == 0 and d == 0 and b != 0 and c != 0:\n",
    "    y = e / b\n",
    "    x = f / c\n",
    "elif b == 0 and c == 0 and a != 0 and d != 0:\n",
    "    x = e / a\n",
    "    y = f / d\n",
    "elif a != 0 and b != 0 and c != 0 and d != 0:\n",
    "    x = (f * b - d * e) / (c * b - d * a)\n",
    "    y = (e - a * x) / b\n",
    "print(x, y)"
   ]
  },
  {
   "cell_type": "markdown",
   "metadata": {},
   "source": [
    "Даны числа a, b, c, d, e, f. Решите систему линейных уравнений\n",
    "ax + by = e\n",
    "cx + dy = f\n",
    "Вывод программы зависит от вида решения этой системы.\n",
    "Если система не имеет решений, то программа должна вывести единственное число 0.\n",
    "Если система имеет бесконечно много решений, каждое из которых имеет вид y=px+q, то программа должна вывести число 1, а затем значения p и q.\n",
    "Если система имеет единственное решение (x₀,y₀), то программа должна вывести число 2, а затем значения x₀ и y₀.\n",
    "Если система имеет бесконечно много решений вида x=x₀, y — любое, то программа должна вывести число 3, а затем значение x₀.\n",
    "Если система имеет бесконечно много решений вида y=y₀, x — любое, то программа должна вывести число 4, а затем значение y₀.\n",
    "Если любая пара чисел (x,y) является решением, то программа должна вывести число 5."
   ]
  },
  {
   "cell_type": "code",
   "execution_count": null,
   "metadata": {},
   "outputs": [],
   "source": [
    "a, b, c = float(input()), float(input()), float(input())\n",
    "d, e, f = float(input()), float(input()), float(input())\n",
    "if a == b == c == d == e == f == 0:\n",
    "    print(5)\n",
    "elif b == d == 0 and a != 0 and c * e / a == f:\n",
    "    print(3, e / a)\n",
    "elif b == d == 0 and c != 0 and a * f / c == e:\n",
    "    print(3, f / c)\n",
    "elif a == c == 0 and b != 0 and d * e / b == f:\n",
    "    print(4, e / b)\n",
    "elif a == c == 0 and d != 0 and b * f / d == e:\n",
    "    print(4, f / d)\n",
    "elif c * d != 0 and e == 0 and a / c == b / d and (f == 0 or a == b == e):\n",
    "    print(1, -c / d, f / d)\n",
    "elif a * b != 0 and f == 0 and c / a == d / b and (e == 0 or c == d == f):\n",
    "    print(1, -a / b, e / b)\n",
    "elif d * a - b * c != 0:\n",
    "    print(2, (d * e - f * b) / (d * a - b * c), (f * a - e * c) / (d * a - b * c))\n",
    "elif a * b * e * c * d * f != 0 and a / c == b / d == e / f:\n",
    "    print(1, -a / b, e / b)\n",
    "else:\n",
    "    print(0)"
   ]
  },
  {
   "cell_type": "markdown",
   "metadata": {},
   "source": [
    "Сначала выведите третий символ этой строки.\n",
    "Во второй строке выведите предпоследний символ этой строки.\n",
    "В третьей строке выведите первые пять символов этой строки.\n",
    "В четвертой строке выведите всю строку, кроме последних двух символов.\n",
    "В пятой строке выведите все символы с четными индексами (считая, что индексация начинается с 0, поэтому символы выводятся начиная с первого).\n",
    "В шестой строке выведите все символы с нечетными индексами, то есть начиная со второго символа строки. \n",
    "В седьмой строке выведите все символы в обратном порядке.\n",
    "В восьмой строке выведите все символы строки через один в обратном порядке, начиная с последнего.\n",
    "В девятой строке выведите длину данной строки."
   ]
  },
  {
   "cell_type": "code",
   "execution_count": 9,
   "metadata": {},
   "outputs": [
    {
     "name": "stdout",
     "output_type": "stream",
     "text": [
      "Abrakadabra\n",
      "r\n",
      "r\n",
      "Abrak\n",
      "Abrakadab\n",
      "Arkdba\n",
      "baaar\n",
      "arbadakarbA\n",
      "abdkrA\n",
      "11\n"
     ]
    }
   ],
   "source": [
    "a = input()\n",
    "print(a[2], a[-2], a[:5], a[:-2], a[::2], a[1::2], a[::-1], a[::-2], len(a), sep='\\n')"
   ]
  },
  {
   "cell_type": "markdown",
   "metadata": {},
   "source": [
    "Дана строка. Если в этой строке буква f встречается только один раз, выведите её индекс. Если она встречается два и более раз, выведите индекс её первого и последнего появления. Если буква f в данной строке не встречается, ничего не выводите. При решении этой задачи нельзя использовать метод count и циклы."
   ]
  },
  {
   "cell_type": "code",
   "execution_count": 3,
   "metadata": {},
   "outputs": [
    {
     "name": "stdout",
     "output_type": "stream",
     "text": [
      "ruf\n",
      "2\n"
     ]
    }
   ],
   "source": [
    "a = input()\n",
    "if a.find('f') >= 0:\n",
    "    if a.find('f') == (len(a) - 1 - a[::-1].find('f')):\n",
    "        print(a.find('f'))\n",
    "    else:\n",
    "        print(a.find('f'), (len(a) - 1 - a[::-1].find('f')))"
   ]
  },
  {
   "cell_type": "markdown",
   "metadata": {},
   "source": [
    "Дана строка, в которой буква h встречается минимум два раза.Удалите из этой строки первое и последнее вхождение буквы h,а также все символы, находящиеся между ними."
   ]
  },
  {
   "cell_type": "code",
   "execution_count": 9,
   "metadata": {},
   "outputs": [
    {
     "name": "stdout",
     "output_type": "stream",
     "text": [
      "In the hole in the ground there lived a hobbit\n",
      "In tobbit\n"
     ]
    }
   ],
   "source": [
    "a = input()\n",
    "x, y = a.find('h'), (len(a) - 1 - a[::-1].find('h'))\n",
    "print(a[:x] + a[y + 1:])"
   ]
  },
  {
   "cell_type": "markdown",
   "metadata": {},
   "source": [
    "Дана строка, в которой буква h встречается как минимум два раза. Выведите измененную строку: повторите последовательность символов, заключенную между первым и последним появлением буквы h два раза (сами буквы h не входят в повторяемый фрагмент, т. е. их повторять не надо)."
   ]
  },
  {
   "cell_type": "code",
   "execution_count": 10,
   "metadata": {},
   "outputs": [
    {
     "name": "stdout",
     "output_type": "stream",
     "text": [
      "qwertyhasdfghzxcvb\n",
      "qwertyhasdfgasdfghzxcvb\n"
     ]
    }
   ],
   "source": [
    "a = input()\n",
    "x, y = a.find('h'), (len(a) - 1 - a[::-1].find('h'))\n",
    "print(a[:y] + a[x + 1:])"
   ]
  },
  {
   "cell_type": "markdown",
   "metadata": {},
   "source": [
    "Дана строка. Найдите в этой строке второе вхождение буквы f и выведите индекс этого вхождения. Если буква f в данной строке встречается только один раз, выведите число -1, а если не встречается ни разу, выведите число -2. При решении этой задачи нельзя использовать метод count."
   ]
  },
  {
   "cell_type": "code",
   "execution_count": 16,
   "metadata": {},
   "outputs": [
    {
     "name": "stdout",
     "output_type": "stream",
     "text": [
      "qwerty\n",
      "-2\n"
     ]
    }
   ],
   "source": [
    "a = input()\n",
    "if a.find('f') >= 0:\n",
    "    if a[a.find('f') + 1:].find('f') >= 0:\n",
    "        ln = len(a[:a.find('f') + 1])\n",
    "        print(a[a.find('f') + 1:].find('f') + ln)\n",
    "    else:\n",
    "        print(-1)\n",
    "else:\n",
    "    print(-2)"
   ]
  },
  {
   "cell_type": "markdown",
   "metadata": {},
   "source": [
    "Дана строка, состоящая ровно из двух слов, разделенных пробелом. Переставьте эти слова местами. Результат запишите в строку и выведите получившуюся строку. При решении этой задачи нельзя пользоваться циклами и инструкцией if."
   ]
  },
  {
   "cell_type": "code",
   "execution_count": 22,
   "metadata": {},
   "outputs": [
    {
     "name": "stdout",
     "output_type": "stream",
     "text": [
      "Hello, world!\n",
      "world! Hello,\n"
     ]
    }
   ],
   "source": [
    "a = input()\n",
    "print(a[a.find(' ') + 1:] + ' ' + a[:a.find(' ')])"
   ]
  },
  {
   "cell_type": "markdown",
   "metadata": {},
   "source": [
    "Дана строка, состоящая из слов, разделенных пробелами. Определите, сколько в ней слов."
   ]
  },
  {
   "cell_type": "code",
   "execution_count": 23,
   "metadata": {},
   "outputs": [
    {
     "name": "stdout",
     "output_type": "stream",
     "text": [
      "q w e\n",
      "3\n"
     ]
    }
   ],
   "source": [
    "a = input()\n",
    "print(a.count(' ') + 1)"
   ]
  },
  {
   "cell_type": "markdown",
   "metadata": {},
   "source": [
    "Дана строка. Замените в этой строке все цифры 1 на слово one."
   ]
  },
  {
   "cell_type": "code",
   "execution_count": 24,
   "metadata": {},
   "outputs": [
    {
     "name": "stdout",
     "output_type": "stream",
     "text": [
      "1+1=2\n",
      "one+one=2\n"
     ]
    }
   ],
   "source": [
    "a = input()\n",
    "print(a.replace('1', 'one'))"
   ]
  },
  {
   "cell_type": "markdown",
   "metadata": {},
   "source": [
    "Дана строка. Удалите из этой строки все символы @."
   ]
  },
  {
   "cell_type": "code",
   "execution_count": 25,
   "metadata": {},
   "outputs": [
    {
     "name": "stdout",
     "output_type": "stream",
     "text": [
      "Bilbo.Baggins@bagend.hobbiton.shire.me\n",
      "Bilbo.Bagginsbagend.hobbiton.shire.me\n"
     ]
    }
   ],
   "source": [
    "a = input()\n",
    "print(a.replace('@', ''))"
   ]
  },
  {
   "cell_type": "markdown",
   "metadata": {},
   "source": [
    "Дана строка. Замените в этой строке все появления буквы h на букву H, кроме первого и последнего вхождения."
   ]
  },
  {
   "cell_type": "code",
   "execution_count": 28,
   "metadata": {},
   "outputs": [
    {
     "name": "stdout",
     "output_type": "stream",
     "text": [
      "In the hole in the ground there lived a hobbit\n",
      "In the Hole in tHe ground tHere lived a hobbit\n"
     ]
    }
   ],
   "source": [
    "a = input()\n",
    "x, z = a[:a.find('h') + 1], a[a.rfind('h'):]\n",
    "print(x + a[a.find('h') + 1:a.rfind('h')].replace('h', 'H') + z)"
   ]
  },
  {
   "cell_type": "markdown",
   "metadata": {},
   "source": [
    "Дана строка. Получите новую строку, вставив между каждыми двумя символами исходной строки символ `*`. Выведите полученную строку."
   ]
  },
  {
   "cell_type": "code",
   "execution_count": 31,
   "metadata": {},
   "outputs": [
    {
     "name": "stdout",
     "output_type": "stream",
     "text": [
      "run\n",
      "r*u*n\n"
     ]
    }
   ],
   "source": [
    "a = input()\n",
    "print(a.replace('', '*')[1:-1])"
   ]
  },
  {
   "cell_type": "markdown",
   "metadata": {},
   "source": [
    "Дана строка. Удалите из нее все символы, чьи индексы делятся на 3.Символы строки нумеруются, начиная с нуля."
   ]
  },
  {
   "cell_type": "code",
   "execution_count": 36,
   "metadata": {},
   "outputs": [
    {
     "name": "stdout",
     "output_type": "stream",
     "text": [
      "Python\n",
      "yton"
     ]
    }
   ],
   "source": [
    "a, i = input(), 0\n",
    "while i <= (len(a) - 1):\n",
    "    if i % 3 != 0:\n",
    "        print(a[i], end='')\n",
    "    i += 1"
   ]
  },
  {
   "cell_type": "markdown",
   "metadata": {},
   "source": [
    "# Функции и рекурсия"
   ]
  },
  {
   "cell_type": "markdown",
   "metadata": {},
   "source": [
    "Напишите функцию min4(a, b, c, d), вычисляющую минимум четырех чисел, которая не содержит инструкции if, а использует стандартную функцию min от двух чисел. Считайте четыре целых числа и выведите их минимум."
   ]
  },
  {
   "cell_type": "code",
   "execution_count": 39,
   "metadata": {},
   "outputs": [
    {
     "name": "stdout",
     "output_type": "stream",
     "text": [
      "1\n",
      "2\n",
      "3\n",
      "4\n",
      "1\n"
     ]
    }
   ],
   "source": [
    "def min4(a, b, c, d):\n",
    "    return min(a, b, c, d)\n",
    "a, b, c, d = int(input()), int(input()), int(input()), int(input())\n",
    "print(min4(a, b, c, d))"
   ]
  },
  {
   "cell_type": "markdown",
   "metadata": {},
   "source": [
    "Даны четыре действительных числа: x₁, y₁, x₂, y₂. Напишите функцию distance(x1, y1, x2, y2), вычисляющую расстояние между точками (x₁,y₁) и (x₂,y₂). Считайте четыре действительных числа и выведите результат работы этой функции."
   ]
  },
  {
   "cell_type": "code",
   "execution_count": 40,
   "metadata": {},
   "outputs": [
    {
     "name": "stdout",
     "output_type": "stream",
     "text": [
      "0\n",
      "0\n",
      "1\n",
      "1\n",
      "1.4142135623730951\n"
     ]
    }
   ],
   "source": [
    "def distance(x1, y1, x2, y2):\n",
    "    return (((x2 - x1) ** 2) + ((y2 - y1) ** 2)) ** 0.5\n",
    "x1, y1, x2, y2 = float(input()), float(input()), float(input()), float(input())\n",
    "print(distance(x1, y1, x2, y2))"
   ]
  },
  {
   "cell_type": "markdown",
   "metadata": {},
   "source": [
    "Напишите функцию, вычисляющую длину отрезка по координатам его концов. С помощью этой функции напишите программу, вычисляющую периметр треугольника по координатам трех его вершин."
   ]
  },
  {
   "cell_type": "code",
   "execution_count": 41,
   "metadata": {},
   "outputs": [
    {
     "name": "stdout",
     "output_type": "stream",
     "text": [
      "0\n",
      "0\n",
      "1\n",
      "0\n",
      "0\n",
      "1\n",
      "3.414213562373095\n"
     ]
    }
   ],
   "source": [
    "def d(x1, y1, x2, y2):\n",
    "    return (((x2 - x1) ** 2) + ((y2 - y1) ** 2)) ** 0.5\n",
    "x1, y1, x2, y2 = int(input()), int(input()), int(input()), int(input())\n",
    "x3, y3 = int(input()), int(input())\n",
    "print(d(x1, y1, x2, y2) + d(x1, y1, x3, y3) + d(x2, y2, x3, y3))"
   ]
  },
  {
   "cell_type": "markdown",
   "metadata": {},
   "source": [
    "Даны два действительных числа x и y. Проверьте, принадлежит ли точка с координатами (x,y) заштрихованному квадрату (включая его границу). Если точка принадлежит квадрату, выведите слово YES, иначе выведите слово NO. На рисунке сетка проведена с шагом 1.\n",
    "Решение должно содержать функцию IsPointInSquare(x, y), возвращающую True, если точка принадлежит квадрату и False, если не принадлежит. Основная программа должна считать координаты точки, вызвать функцию IsPointInSquare и в зависимости от возвращенного значения вывести на экран необходимое сообщение. Функция IsPointInSquare не должна содержать инструкцию if."
   ]
  },
  {
   "cell_type": "code",
   "execution_count": 44,
   "metadata": {},
   "outputs": [
    {
     "name": "stdout",
     "output_type": "stream",
     "text": [
      "-2\n",
      "-0.5\n",
      "NO\n"
     ]
    }
   ],
   "source": [
    "def IsPointInSquare(x, y):\n",
    "    return abs(x) <= 1 and abs(y) <= 1\n",
    "x, y = float(input()), float(input())\n",
    "print('YES' if IsPointInSquare(x, y) else 'NO')"
   ]
  },
  {
   "cell_type": "markdown",
   "metadata": {},
   "source": [
    "Даны два действительных числа x и y. Проверьте, принадлежит ли точка с координатами(x,y) заштрихованному квадрату (включая его границу). Если точка принадлежит квадрату, выведите слово YES,иначе выведите слово NO. На рисунке сетка проведена с шагом 1.\n",
    "Решение должно содержать функцию IsPointInSquare(x, y), возвращающую True, если точка принадлежит квадрату и False, если не принадлежит. Основная программа должна считать координаты точки, вызвать функцию IsPointInSquareи в зависимости от возвращенного значения вывести на экран необходимое сообщение.\n",
    "Функция IsPointInSquare не должна содержать инструкцию if."
   ]
  },
  {
   "cell_type": "code",
   "execution_count": 45,
   "metadata": {},
   "outputs": [
    {
     "name": "stdout",
     "output_type": "stream",
     "text": [
      "0\n",
      "0\n",
      "YES\n"
     ]
    }
   ],
   "source": [
    "def IsPointInSquare(x, y):\n",
    "    return abs(x) + abs(y) <= 1\n",
    "x, y = float(input()), float(input())\n",
    "print('YES' if IsPointInSquare(x, y) else 'NO')"
   ]
  },
  {
   "cell_type": "markdown",
   "metadata": {},
   "source": [
    "Даны пять действительных чисел: x, y, xc, yc, r.\n",
    "Проверьте, принадлежит ли точка (x,y) кругу с центром (xc, yc) и радиусом r. \n",
    "Если точка принадлежит кругу, выведите слово YES, иначе выведите слово NO.\n",
    "Решение должно содержать функцию IsPointInCircle(x, y, xc, yc, r), возвращающую True, если точка принадлежит кругу и False, если не принадлежит.\n",
    "Основная программа должна считать координаты точки, вызвать функцию IsPointInCircle и в зависимости от возвращенного значения вывести на экран необходимое сообщение. Функция IsPointInCircle не должна содержать инструкцию if."
   ]
  },
  {
   "cell_type": "code",
   "execution_count": 1,
   "metadata": {},
   "outputs": [
    {
     "name": "stdout",
     "output_type": "stream",
     "text": [
      "0.5\n",
      "0.5\n",
      "0\n",
      "0\n",
      "1\n",
      "YES\n"
     ]
    }
   ],
   "source": [
    "def IsPointInCircle(x, y, xc, yc, r):\n",
    "    return (((xc - x) ** 2) + ((yc - y) ** 2)) ** 0.5 <= r\n",
    "x, y = float(input()), float(input())\n",
    "xc, yc, r = float(input()), float(input()), float(input())\n",
    "print('YES' if IsPointInCircle(x, y, xc, yc, r) else 'NO')"
   ]
  },
  {
   "cell_type": "markdown",
   "metadata": {},
   "source": [
    "Проверьте, принадлежит ли точка данной закрашенной области:\n",
    "Если точка принадлежит области (область включает границы), выведите слово YES, иначе выведите слово NO. Решение должно содержать функцию IsPointInArea(x, y), возвращающую True, если точка принадлежит области и False, если не принадлежит. Основная программа должна считать координаты точки, вызвать функцию IsPointInArea и в зависимости от возвращенного значения вывести на экран необходимое сообщение. Функция IsPointInArea не должна содержать инструкцию if."
   ]
  },
  {
   "cell_type": "code",
   "execution_count": 2,
   "metadata": {},
   "outputs": [
    {
     "name": "stdout",
     "output_type": "stream",
     "text": [
      "-4\n",
      "-4\n",
      "NO\n"
     ]
    }
   ],
   "source": [
    "def isPointInArea(x, y):\n",
    "    var1 = y - 2 * x - 2\n",
    "    var2 = y + x\n",
    "    var3 = ((-1 - x) ** 2 + (1 - y) ** 2) ** 0.5\n",
    "    return (var1 >= 0 and var2 >= 0 and var3 <= 2 or\n",
    "            var1 <= 0 and var2 <= 0 and var3 >= 2)\n",
    "x, y = float(input()), float(input())\n",
    "print('YES' if isPointInArea(x, y) else 'NO')"
   ]
  },
  {
   "cell_type": "markdown",
   "metadata": {},
   "source": [
    "Напишите функцию xor(x, y) реализующую функцию \"Исключающее ИЛИ\" двух логических переменных x и y. \n",
    "Функция xor должна возвращать True, если ровно один из ее аргументов x или y, но не оба одновременно равны True."
   ]
  },
  {
   "cell_type": "code",
   "execution_count": 8,
   "metadata": {},
   "outputs": [
    {
     "name": "stdout",
     "output_type": "stream",
     "text": [
      "0\n",
      "1\n",
      "1\n"
     ]
    }
   ],
   "source": [
    "def xor(x, y):\n",
    "    return 0 if x == y else 1\n",
    "x, y = int(input()), int(input())\n",
    "print(xor(x, y))"
   ]
  },
  {
   "cell_type": "markdown",
   "metadata": {},
   "source": [
    "Дано натуральное число n>1. Выведите его наименьший делитель, отличный от 1. Решение оформите в виде функции MinDivisor(n). Алгоритм должен иметь сложность порядка корня квадратного из n."
   ]
  },
  {
   "cell_type": "code",
   "execution_count": 15,
   "metadata": {},
   "outputs": [
    {
     "name": "stdout",
     "output_type": "stream",
     "text": [
      "137\n",
      "137\n"
     ]
    }
   ],
   "source": [
    "def MinDivisor(n):\n",
    "    i = 2\n",
    "    while i ** 2 <= n:\n",
    "        if n % i == 0:\n",
    "            return i\n",
    "        i += 1\n",
    "    return n\n",
    "n = int(input())\n",
    "print(MinDivisor(n))"
   ]
  },
  {
   "cell_type": "markdown",
   "metadata": {},
   "source": [
    "Дано натуральное число n>1. Проверьте, является ли оно простым. Программа должна вывести слово YES, если число простое и NO, если число составное. Решение оформите в виде функции IsPrime(n), которая возвращает True для простых чисел и False для составных чисел. Программа должна иметь сложность O(корень из n): количество действий в программе должно быть пропорционально квадратному корню из n (иначе говоря, при увеличении входного числа в k раз, время выполнения программы должно увеличиваться примерно в корень из k раз)."
   ]
  },
  {
   "cell_type": "code",
   "execution_count": 18,
   "metadata": {},
   "outputs": [
    {
     "name": "stdout",
     "output_type": "stream",
     "text": [
      "137\n",
      "YES\n"
     ]
    }
   ],
   "source": [
    "def IsPrime(n):\n",
    "    i = 2\n",
    "    while i ** 2 <= n:\n",
    "        if n % i == 0:\n",
    "            return False\n",
    "        i += 1\n",
    "    return True\n",
    "n = int(input())\n",
    "print('YES' if IsPrime(n) else 'NO')"
   ]
  },
  {
   "cell_type": "markdown",
   "metadata": {},
   "source": [
    "Дано действительное положительное число a и целое неотрицательное число n. Вычислите aⁿ, не используя циклы и стандартную функцию pow, но используя рекуррентное соотношение aⁿ=a⋅aⁿ⁻¹.\n",
    "Решение оформите в виде функции power(a, n) (которая возвращает aⁿ)."
   ]
  },
  {
   "cell_type": "code",
   "execution_count": 21,
   "metadata": {},
   "outputs": [
    {
     "name": "stdout",
     "output_type": "stream",
     "text": [
      "2\n",
      "0\n",
      "1\n"
     ]
    }
   ],
   "source": [
    "def power(a, n):\n",
    "    if n == 0:\n",
    "        return 1\n",
    "    elif n == 1:\n",
    "        return a\n",
    "    return a * power(a, n - 1)\n",
    "a, n = float(input()), int(input())\n",
    "print(power(a, n))"
   ]
  },
  {
   "cell_type": "markdown",
   "metadata": {},
   "source": [
    "Дано действительное положительное число a и целоe число n. Вычислите aⁿ. Решение оформите в виде функции power(a, n). Стандартной функцией возведения в степерь пользоваться нельзя."
   ]
  },
  {
   "cell_type": "code",
   "execution_count": 22,
   "metadata": {},
   "outputs": [
    {
     "name": "stdout",
     "output_type": "stream",
     "text": [
      "2\n",
      "3\n",
      "8.0\n"
     ]
    }
   ],
   "source": [
    "def power(a, n):\n",
    "    i = 1\n",
    "    res = a\n",
    "    if n == 0:\n",
    "        return 1\n",
    "    elif n > 0:\n",
    "        while i < n:\n",
    "            res *= a\n",
    "            i += 1\n",
    "        return res\n",
    "    elif n < 0:\n",
    "        while i > n:\n",
    "            res *= (1 / a)\n",
    "            i -= 1\n",
    "        return res\n",
    "a, n = float(input()), int(input())\n",
    "print(power(a, n))"
   ]
  },
  {
   "cell_type": "markdown",
   "metadata": {},
   "source": [
    "Напишите рекурсивную функцию sum(a, b), возвращающую сумму двух целых неотрицательных чисел. Из всех арифметических операций допускаются только +1 и -1. Также нельзя использовать циклы."
   ]
  },
  {
   "cell_type": "code",
   "execution_count": 24,
   "metadata": {},
   "outputs": [
    {
     "name": "stdout",
     "output_type": "stream",
     "text": [
      "2\n",
      "2\n",
      "4\n"
     ]
    }
   ],
   "source": [
    "def sum(a, b):\n",
    "    if b == 0:\n",
    "        return a\n",
    "    return sum(a + 1, b - 1)\n",
    "a, b = int(input()), int(input())\n",
    "print(sum(a, b))"
   ]
  },
  {
   "cell_type": "markdown",
   "metadata": {},
   "source": [
    "Возводить в степень можно гораздо быстрее, чем за n умножений! Для этого нужно воспользоваться следующими рекуррентными соотношениями: aⁿ = (a²)ⁿ/² при четном n, aⁿ=a⋅aⁿ⁻¹ при нечетном n. Реализуйте алгоритм быстрого возведения в степень. Если вы все сделаете правильно,то сложность вашего алгоритма будет O(logn)."
   ]
  },
  {
   "cell_type": "code",
   "execution_count": 27,
   "metadata": {},
   "outputs": [
    {
     "name": "stdout",
     "output_type": "stream",
     "text": [
      "2\n",
      "8\n",
      "256.0\n"
     ]
    }
   ],
   "source": [
    "def power(a, n):\n",
    "    if n == 0:\n",
    "        return 1\n",
    "    elif n == 1:\n",
    "        return a\n",
    "    elif n % 2 == 0:\n",
    "        return power(a ** 2, n // 2)\n",
    "    elif n % 2 == 1:\n",
    "        return a * power(a, n - 1)\n",
    "a, n = float(input()), int(input())\n",
    "print(power(a, n))"
   ]
  },
  {
   "cell_type": "markdown",
   "metadata": {},
   "source": [
    "Для быстрого вычисления наибольшего общего делителя двух чисел используют алгоритм Евклида. Он построен на следующем соотношении: НОД(a,b)=НОД(b,a % b). \n",
    "Реализуйте рекурсивный алгоритм Евклида в виде функции gcd(a, b)."
   ]
  },
  {
   "cell_type": "code",
   "execution_count": 29,
   "metadata": {},
   "outputs": [
    {
     "name": "stdout",
     "output_type": "stream",
     "text": [
      "2\n",
      "1\n",
      "1\n"
     ]
    }
   ],
   "source": [
    "def gcd(a, b):\n",
    "    if b == 0:\n",
    "        return a\n",
    "    return gcd(b, a % b)\n",
    "a, b = int(input()), int(input())\n",
    "print(gcd(a, b))"
   ]
  },
  {
   "cell_type": "markdown",
   "metadata": {},
   "source": [
    "Даны два натуральных числа n и m. \n",
    "Сократите дробь (n / m), то есть выведите два других числа p и q таких, что (n / m) = (p / q) и дробь (p / q) — несократимая. \n",
    "Решение оформите в виде функции ReduceFraction(n, m), получающая значения n и m и возвращающей кортеж из двух чисел: return p, q.\n",
    "Тогда вывод можно будет оформить как print(*ReduceFraction(n, m))."
   ]
  },
  {
   "cell_type": "code",
   "execution_count": 32,
   "metadata": {},
   "outputs": [
    {
     "name": "stdout",
     "output_type": "stream",
     "text": [
      "12\n",
      "16\n",
      "3 4\n"
     ]
    }
   ],
   "source": [
    "def ReduceFraction(x, y):\n",
    "    p, q = x, y\n",
    "    while p != 0:\n",
    "        p, q = q % p, p\n",
    "    return int(x / q), int(y / q)\n",
    "print(*ReduceFraction(int(input()), int(input())))"
   ]
  },
  {
   "cell_type": "markdown",
   "metadata": {},
   "source": [
    "Напишите функцию phib(n), которая по данному целому неотрицательному n возвращает n-e число Фибоначчи. В этой задаче нельзя использовать циклы - используйте рекурсию."
   ]
  },
  {
   "cell_type": "code",
   "execution_count": 40,
   "metadata": {},
   "outputs": [
    {
     "name": "stdout",
     "output_type": "stream",
     "text": [
      "8\n",
      "21\n"
     ]
    }
   ],
   "source": [
    "def phib(n):\n",
    "    if n == 1:\n",
    "        return 1\n",
    "    elif n == 2:\n",
    "        return 1\n",
    "    return phib(n - 1) + phib(n - 2)\n",
    "n = int(input())\n",
    "print(phib(n))"
   ]
  },
  {
   "cell_type": "markdown",
   "metadata": {},
   "source": [
    "По данным целым числам n и k  (0≤k≤n) вычислите C из n по k.\n",
    "Решение оформите в виде функции C(n, k).    \n",
    "Для решения используйте рекуррентное соотношение:\n",
    "И равенства:\n",
    "С(n, 1)=n\n",
    "C(n, n)=1"
   ]
  },
  {
   "cell_type": "code",
   "execution_count": 43,
   "metadata": {},
   "outputs": [
    {
     "name": "stdout",
     "output_type": "stream",
     "text": [
      "4\n",
      "1\n",
      "4\n"
     ]
    }
   ],
   "source": [
    "def C(n, k):\n",
    "    return 1 if n == k or not k else C(n - 1, k) + C(n - 1, k - 1)\n",
    "print(C(int(input()), int(input())))"
   ]
  },
  {
   "cell_type": "markdown",
   "metadata": {},
   "source": [
    "Дана последовательность чисел, завершающаяся числом 0. Найдите сумму всех этих чисел, не используя цикл."
   ]
  },
  {
   "cell_type": "code",
   "execution_count": 48,
   "metadata": {},
   "outputs": [
    {
     "name": "stdout",
     "output_type": "stream",
     "text": [
      "1\n",
      "7\n",
      "9\n",
      "0\n",
      "17\n"
     ]
    }
   ],
   "source": [
    "def sumSeq():\n",
    "    n = int(input())\n",
    "    return n + sumSeq() if n else 0\n",
    "print(sumSeq())"
   ]
  },
  {
   "cell_type": "markdown",
   "metadata": {},
   "source": [
    "Дана последовательность целых чисел, заканчивающаяся числом 0. Выведите эту последовательность в обратном порядке. При решении этой задачи нельзя пользоваться массивами и прочими динамическими структурами данных.Рекурсия вам поможет."
   ]
  },
  {
   "cell_type": "code",
   "execution_count": 52,
   "metadata": {},
   "outputs": [
    {
     "name": "stdout",
     "output_type": "stream",
     "text": [
      "1\n",
      "2\n",
      "3\n",
      "0\n",
      "0 3 2 1 "
     ]
    }
   ],
   "source": [
    "def rec():\n",
    "    n = int(input())\n",
    "    if n != 0:\n",
    "        rec()\n",
    "    print(n, end=' ')\n",
    "rec()"
   ]
  },
  {
   "cell_type": "markdown",
   "metadata": {},
   "source": [
    "Головоломка “Ханойские башни” состоит из трех стержней, пронумерованных числами 1, 2, 3. На стержень 1 надета пирамидка из n дисков различного диаметра в порядке убывания диаметра (снизу находится самый большой диск, а сверху — самый маленький). Диски можно перекладывать с одного стержня на другой по одному, при этом диск нельзя класть на диск меньшего диаметра. Необходимо переложить всю пирамидку со стержня 1 на стержень 3 за минимальное число перекладываний.\n",
    "\n",
    "Напишите программу, которая решает головоломку; для данного числа дисков n печатает последовательность перекладываний в формате a b c, где a — номер перекладываемого диска, b — номер стержня с которого снимается данный диск, c — номер стержня на который надевается данный диск.\n",
    "\n",
    "Например, строка 1 2 3 означает перемещение диска номер 1 со стержня 2 на стержень 3. В одной строке печатается одна команда. Диски пронумерованы числами от 1 до n в порядке возрастания диаметров.\n",
    "\n",
    "Программа должна вывести минимальный (по количеству произведенных операций) способ перекладывания пирамидки из данного числа дисков.\n",
    "\n",
    "     Указание: подумайте, как переложить пирамидку из одного диска? Из двух дисков? Из трех дисков? Из четырех дисков? Пусть мы научились перекладывать пирамидку из n дисков с произвольного стержня на любой другой, как переложить пирамидку из n+1 диска, если можно пользоваться решением для n дисков.\n",
    "\n",
    "Напишите функцию move (n, x, y), которая печатает последовательность перекладываний дисков для перемещения пирамидки высоты n со стержня номер x на стержень номер y."
   ]
  },
  {
   "cell_type": "code",
   "execution_count": 2,
   "metadata": {},
   "outputs": [
    {
     "name": "stdout",
     "output_type": "stream",
     "text": [
      "1\n",
      "1 1 3\n"
     ]
    }
   ],
   "source": [
    "def move(n, x, y):\n",
    "    if n == 1:\n",
    "        print(1, x, y)\n",
    "    else:\n",
    "        move(n - 1, x, 6 - x - y)\n",
    "        print(n, x, y)\n",
    "        move(n - 1, 6 - x - y, y)\n",
    "n = int(input())\n",
    "move(n, 1, 3)"
   ]
  },
  {
   "cell_type": "markdown",
   "metadata": {},
   "source": [
    "Теорема Лагранжа утверждает, что любое натуральное число можно представить в виде суммы четырех точных квадратов. По данному числу n найдите такое представление: напечатайте от 1 до 4 натуральных чисел, квадраты которых дают в сумме данное число."
   ]
  },
  {
   "cell_type": "code",
   "execution_count": 5,
   "metadata": {
    "scrolled": true
   },
   "outputs": [
    {
     "name": "stdout",
     "output_type": "stream",
     "text": [
      "23\n",
      "3 3 2 1\n"
     ]
    }
   ],
   "source": [
    "def lagrange(n, level):\n",
    "    if level == 0:\n",
    "        return \"NO\"\n",
    "    sqrtn = int(n ** 0.5)\n",
    "    if sqrtn * sqrtn == n:\n",
    "        return str(sqrtn)\n",
    "    while sqrtn > 0:\n",
    "        if lagrange(n - sqrtn * sqrtn, level - 1) != \"NO\":\n",
    "            return str(sqrtn) + \" \" + lagrange(n - sqrtn * sqrtn, level - 1)\n",
    "        sqrtn -= 1\n",
    "    return \"NO\"\n",
    "n = int(input())\n",
    "print(lagrange(n, 4)) "
   ]
  },
  {
   "cell_type": "markdown",
   "metadata": {},
   "source": [
    "Напишите программу, которая представляет переданное натуральное число в виде суммы не более чем 7 кубов других натуральных чисел."
   ]
  },
  {
   "cell_type": "code",
   "execution_count": 47,
   "metadata": {},
   "outputs": [
    {
     "name": "stdout",
     "output_type": "stream",
     "text": [
      "22\n",
      "0\n"
     ]
    }
   ],
   "source": [
    "def fun(n, i):\n",
    "    while i > 0 and n > 0:\n",
    "        if i == 1:\n",
    "            return ' ' + str(1) + str(fun(n - i ** 3, i))\n",
    "        elif i ** 3 <= n:\n",
    "            return ' ' + str(i ** 3) + str(fun(n - i ** 3, i))\n",
    "        else:\n",
    "            i -= 1\n",
    "val = int(input())\n",
    "st1, k, st2 = str(fun(val, round(val ** (1 / 3)))), 1, 0\n",
    "if st1.count(' ') > 7:\n",
    "    while k <= 10 or st2 != 'None':\n",
    "        st2 = str(fun(val, round(val ** (1 / 3)) - k))\n",
    "        if st2.count(' ') <= 7 and st2 != 'None':\n",
    "            print(st2.replace('None', ''))\n",
    "            break\n",
    "        k += 1\n",
    "    else:\n",
    "        print(0)\n",
    "else:\n",
    "    print(st1.replace('None', ''))"
   ]
  },
  {
   "cell_type": "markdown",
   "metadata": {},
   "source": [
    "Напишите программу, которая выбирает из полученной последовательности квадраты целых чисел выводит их в обратном порядке. Использовать массив для хранения последовательности не разрешается."
   ]
  },
  {
   "cell_type": "code",
   "execution_count": 54,
   "metadata": {},
   "outputs": [
    {
     "name": "stdout",
     "output_type": "stream",
     "text": [
      "3\n",
      "5\n",
      "0\n",
      "0\n"
     ]
    }
   ],
   "source": [
    "def rec():\n",
    "    n = int(input())\n",
    "    while n != 0:\n",
    "        if (n ** 0.5) % 1 == 0:\n",
    "            return str(rec()) + ' ' + str(n)\n",
    "        return rec()\n",
    "x = str(rec())\n",
    "print(0) if len(x) == 4 else print(x.replace('None', ''))"
   ]
  },
  {
   "cell_type": "code",
   "execution_count": 13,
   "metadata": {},
   "outputs": [
    {
     "name": "stdout",
     "output_type": "stream",
     "text": [
      "2\n",
      "3\n",
      "0\n",
      "0\n"
     ]
    }
   ],
   "source": [
    "def rec(i = 0):\n",
    "    global flag\n",
    "    n = int(input())\n",
    "    if n != 0:\n",
    "        if (n ** 0.5) % 1 == 0:\n",
    "            flag = False\n",
    "            i += 1\n",
    "        rec()\n",
    "    if i != 0:\n",
    "        print(n, end=' ')\n",
    "flag = True\n",
    "rec()\n",
    "if flag:\n",
    "    print(0)"
   ]
  },
  {
   "cell_type": "code",
   "execution_count": null,
   "metadata": {},
   "outputs": [],
   "source": [
    "import math\n",
    "def rec(k):\n",
    "    a = int(input())\n",
    "    if a == 0:\n",
    "        if k == 0:\n",
    "            print(0)\n",
    "        return 0\n",
    "    elif int(math.sqrt(a)) ** 2 == a:\n",
    "        k += 1\n",
    "        rec(k)\n",
    "        print(a)\n",
    "    else:\n",
    "        rec(k)\n",
    "\n",
    "rec(0)"
   ]
  },
  {
   "cell_type": "code",
   "execution_count": null,
   "metadata": {},
   "outputs": [],
   "source": [
    "def only_sq(flag):\n",
    "    n = int(input())\n",
    "    if n != 0:\n",
    "        if n**0.5 % 1 == 0:\n",
    "            flag = 1\n",
    "            only_sq(flag)\n",
    "            print(' ', n, sep='', end='')\n",
    "        else:\n",
    "            only_sq(flag)\n",
    "    elif flag == 0:\n",
    "        print(0)\n",
    "\n",
    "\n",
    "only_sq(0)"
   ]
  },
  {
   "cell_type": "markdown",
   "metadata": {},
   "source": [
    "# Кортежи, цикл for, списки"
   ]
  },
  {
   "cell_type": "markdown",
   "metadata": {},
   "source": [
    "Даны два целых числа A и B (при этом A≤B). Выведите все числа от A до B включительно."
   ]
  },
  {
   "cell_type": "code",
   "execution_count": 16,
   "metadata": {},
   "outputs": [
    {
     "name": "stdout",
     "output_type": "stream",
     "text": [
      "1\n",
      "10\n",
      "1 2 3 4 5 6 7 8 9 10\n"
     ]
    }
   ],
   "source": [
    "a, b = int(input()), int(input())\n",
    "print(*tuple(range(a, b + 1)))"
   ]
  },
  {
   "cell_type": "markdown",
   "metadata": {},
   "source": [
    "Даны два целых числа A и В. Выведите все числа от A до B включительно, в порядке возрастания,если A < B, или в порядке убывания в противном случае."
   ]
  },
  {
   "cell_type": "code",
   "execution_count": 25,
   "metadata": {},
   "outputs": [
    {
     "name": "stdout",
     "output_type": "stream",
     "text": [
      "1\n",
      "10\n",
      "1 2 3 4 5 6 7 8 9 10\n"
     ]
    }
   ],
   "source": [
    "a, b = int(input()), int(input())\n",
    "if b >= a:\n",
    "    print(*tuple(range(a, b + 1)))\n",
    "else:\n",
    "    print(*tuple(range(a, b - 1, -1)))"
   ]
  },
  {
   "cell_type": "markdown",
   "metadata": {},
   "source": [
    "Дано натуральное число n. Напечатайте все n-значные нечетные натуральные числа в порядке убывания."
   ]
  },
  {
   "cell_type": "code",
   "execution_count": 8,
   "metadata": {},
   "outputs": [
    {
     "name": "stdout",
     "output_type": "stream",
     "text": [
      "3\n",
      "999 997 995 993 991 989 987 985 983 981 979 977 975 973 971 969 967 965 963 961 959 957 955 953 951 949 947 945 943 941 939 937 935 933 931 929 927 925 923 921 919 917 915 913 911 909 907 905 903 901 899 897 895 893 891 889 887 885 883 881 879 877 875 873 871 869 867 865 863 861 859 857 855 853 851 849 847 845 843 841 839 837 835 833 831 829 827 825 823 821 819 817 815 813 811 809 807 805 803 801 799 797 795 793 791 789 787 785 783 781 779 777 775 773 771 769 767 765 763 761 759 757 755 753 751 749 747 745 743 741 739 737 735 733 731 729 727 725 723 721 719 717 715 713 711 709 707 705 703 701 699 697 695 693 691 689 687 685 683 681 679 677 675 673 671 669 667 665 663 661 659 657 655 653 651 649 647 645 643 641 639 637 635 633 631 629 627 625 623 621 619 617 615 613 611 609 607 605 603 601 599 597 595 593 591 589 587 585 583 581 579 577 575 573 571 569 567 565 563 561 559 557 555 553 551 549 547 545 543 541 539 537 535 533 531 529 527 525 523 521 519 517 515 513 511 509 507 505 503 501 499 497 495 493 491 489 487 485 483 481 479 477 475 473 471 469 467 465 463 461 459 457 455 453 451 449 447 445 443 441 439 437 435 433 431 429 427 425 423 421 419 417 415 413 411 409 407 405 403 401 399 397 395 393 391 389 387 385 383 381 379 377 375 373 371 369 367 365 363 361 359 357 355 353 351 349 347 345 343 341 339 337 335 333 331 329 327 325 323 321 319 317 315 313 311 309 307 305 303 301 299 297 295 293 291 289 287 285 283 281 279 277 275 273 271 269 267 265 263 261 259 257 255 253 251 249 247 245 243 241 239 237 235 233 231 229 227 225 223 221 219 217 215 213 211 209 207 205 203 201 199 197 195 193 191 189 187 185 183 181 179 177 175 173 171 169 167 165 163 161 159 157 155 153 151 149 147 145 143 141 139 137 135 133 131 129 127 125 123 121 119 117 115 113 111 109 107 105 103 101\n"
     ]
    }
   ],
   "source": [
    "n = int(input())\n",
    "print(*tuple(range(10 ** n - 1, 10 ** (n - 1) - 1, -2)))"
   ]
  },
  {
   "cell_type": "markdown",
   "metadata": {},
   "source": [
    "По данному натуральном n вычислите сумму 1²+2²+3²+...+n²."
   ]
  },
  {
   "cell_type": "code",
   "execution_count": 11,
   "metadata": {},
   "outputs": [
    {
     "name": "stdout",
     "output_type": "stream",
     "text": [
      "3\n",
      "14\n"
     ]
    }
   ],
   "source": [
    "n, sumSeq = int(input()), 0\n",
    "for i in range(n + 1):\n",
    "    sumSeq += i ** 2\n",
    "print(sumSeq)"
   ]
  },
  {
   "cell_type": "markdown",
   "metadata": {},
   "source": [
    "Напишите программу, которая по данному числу n от 1 до 9 выводит на экран n флагов. Изображение одного флага имеет размер 4×4 символов, между двумя соседними флагами также имеется пустой (из пробелов) столбец. Разрешается вывести пустой столбец после последнего флага. Внутри каждого флага должен быть записан его номер — число от 1 до n.\n",
    "+___ \n",
    "|1 / \n",
    "|__\\ \n",
    "| "
   ]
  },
  {
   "cell_type": "code",
   "execution_count": 15,
   "metadata": {},
   "outputs": [
    {
     "name": "stdout",
     "output_type": "stream",
     "text": [
      "2\n",
      "+___ \n",
      "|2 / \n",
      "|__\\ \n",
      "|    +___ \n",
      "|2 / \n",
      "|__\\ \n",
      "|    "
     ]
    }
   ],
   "source": [
    "n = int(input())\n",
    "for i in range(1, n + 1):\n",
    "    print('+___ ')\n",
    "    print(f'|{n} / ')\n",
    "    print('|__\\ ')\n",
    "    print('|    ', end='')"
   ]
  },
  {
   "cell_type": "code",
   "execution_count": 19,
   "metadata": {},
   "outputs": [
    {
     "name": "stdout",
     "output_type": "stream",
     "text": [
      "50\n",
      "+___ +___ +___ +___ +___ +___ +___ +___ +___ +___ +___ +___ +___ +___ +___ +___ +___ +___ +___ +___ +___ +___ +___ +___ +___ +___ +___ +___ +___ +___ +___ +___ +___ +___ +___ +___ +___ +___ +___ +___ +___ +___ +___ +___ +___ +___ +___ +___ +___ +___ \n",
      "|1 / |2 / |3 / |4 / |5 / |6 / |7 / |8 / |9 / |10 / |11 / |12 / |13 / |14 / |15 / |16 / |17 / |18 / |19 / |20 / |21 / |22 / |23 / |24 / |25 / |26 / |27 / |28 / |29 / |30 / |31 / |32 / |33 / |34 / |35 / |36 / |37 / |38 / |39 / |40 / |41 / |42 / |43 / |44 / |45 / |46 / |47 / |48 / |49 / |50 / \n",
      "|__\\ |__\\ |__\\ |__\\ |__\\ |__\\ |__\\ |__\\ |__\\ |__\\ |__\\ |__\\ |__\\ |__\\ |__\\ |__\\ |__\\ |__\\ |__\\ |__\\ |__\\ |__\\ |__\\ |__\\ |__\\ |__\\ |__\\ |__\\ |__\\ |__\\ |__\\ |__\\ |__\\ |__\\ |__\\ |__\\ |__\\ |__\\ |__\\ |__\\ |__\\ |__\\ |__\\ |__\\ |__\\ |__\\ |__\\ |__\\ |__\\ |__\\ \n",
      "|    |    |    |    |    |    |    |    |    |    |    |    |    |    |    |    |    |    |    |    |    |    |    |    |    |    |    |    |    |    |    |    |    |    |    |    |    |    |    |    |    |    |    |    |    |    |    |    |    |    \n"
     ]
    }
   ],
   "source": [
    "n = int(input())\n",
    "x1, x2, x3, x4 = '', '', '', ''\n",
    "for i in range(1, n + 1):\n",
    "    x1 += '+___ '\n",
    "    x2 += f'|{i} / '\n",
    "    x3 += '|__\\ '\n",
    "    x4 += '|    '\n",
    "print(x1, x2, x3, x4, sep='\\n')"
   ]
  },
  {
   "cell_type": "markdown",
   "metadata": {},
   "source": [
    "Дано несколько чисел. Подсчитайте, сколько из них равны нулю, и выведите это количество."
   ]
  },
  {
   "cell_type": "code",
   "execution_count": 21,
   "metadata": {},
   "outputs": [
    {
     "name": "stdout",
     "output_type": "stream",
     "text": [
      "2\n",
      "1\n",
      "0\n",
      "1\n"
     ]
    }
   ],
   "source": [
    "n, cnt = int(input()), 0\n",
    "for i in range(n):\n",
    "    k = int(input())\n",
    "    if k == 0:\n",
    "        cnt += 1\n",
    "print(cnt)"
   ]
  },
  {
   "cell_type": "markdown",
   "metadata": {},
   "source": [
    "По данному натуральному n≤9 выведите лесенку из n ступенек, i-я ступенька состоит из чисел от 1 до i без пробелов."
   ]
  },
  {
   "cell_type": "code",
   "execution_count": 25,
   "metadata": {},
   "outputs": [
    {
     "name": "stdout",
     "output_type": "stream",
     "text": [
      "10\n",
      "1\n",
      "12\n",
      "123\n",
      "1234\n",
      "12345\n",
      "123456\n",
      "1234567\n",
      "12345678\n",
      "123456789\n",
      "12345678910\n"
     ]
    }
   ],
   "source": [
    "n = int(input())\n",
    "for i in range(1, n + 1):\n",
    "    print(*tuple(range(1, i + 1)), sep='')"
   ]
  },
  {
   "cell_type": "markdown",
   "metadata": {},
   "source": [
    "Найдите и выведите все двузначные числа, которые равны удвоенному произведению своих цифр."
   ]
  },
  {
   "cell_type": "code",
   "execution_count": 27,
   "metadata": {},
   "outputs": [
    {
     "name": "stdout",
     "output_type": "stream",
     "text": [
      "36\n"
     ]
    }
   ],
   "source": [
    "for i in range(10, 100):\n",
    "    if i == ((i % 10) * (i // 10)) * 2:\n",
    "        print(i)"
   ]
  },
  {
   "cell_type": "markdown",
   "metadata": {},
   "source": [
    "Даны числа a, b, c, d, e. Подсчитайте количество таких целых чисел от 0 до 1000 (включительно), которые являются корнями уравнения (ax³+bx²+cx+d)/(x-e)=0, и выведите их количество."
   ]
  },
  {
   "cell_type": "code",
   "execution_count": 29,
   "metadata": {},
   "outputs": [
    {
     "name": "stdout",
     "output_type": "stream",
     "text": [
      "1\n",
      "-2\n",
      "1\n",
      "0\n",
      "1\n",
      "0\n",
      "1\n"
     ]
    }
   ],
   "source": [
    "a, b, c = int(input()), int(input()), int(input())\n",
    "d, e, cnt = int(input()), int(input()), 0\n",
    "for i in range(0, 1001):\n",
    "    if i - e == 0:\n",
    "        continue\n",
    "    elif ((a * i ** 3) + (b * i ** 2) + (c * i) + d) / (i - e) == 0:\n",
    "        cnt += 1\n",
    "print(cnt)"
   ]
  },
  {
   "cell_type": "markdown",
   "metadata": {},
   "source": [
    "По данному натуральному n вычислите сумму 1!+2!+3!+...+n!. В решении этой задачи можно использовать только один цикл."
   ]
  },
  {
   "cell_type": "code",
   "execution_count": 40,
   "metadata": {},
   "outputs": [
    {
     "name": "stdout",
     "output_type": "stream",
     "text": [
      "3\n",
      "9\n"
     ]
    }
   ],
   "source": [
    "n, sumSeq, k = int(input()), 0, 1\n",
    "for i in range(1, n + 1):\n",
    "    k *= i\n",
    "    sumSeq += k\n",
    "print(sumSeq)"
   ]
  },
  {
   "cell_type": "markdown",
   "metadata": {},
   "source": [
    "Для настольной игры используются карточки с номерами от 1 до N.Одна карточка потерялась. Найдите ее, зная номера оставшихся карточек."
   ]
  },
  {
   "cell_type": "code",
   "execution_count": 48,
   "metadata": {},
   "outputs": [
    {
     "name": "stdout",
     "output_type": "stream",
     "text": [
      "4\n",
      "2\n",
      "3\n",
      "4\n",
      "1\n"
     ]
    }
   ],
   "source": [
    "n, sumSeq, sumN = int(input()), 0, 0\n",
    "for i in range(1, n):\n",
    "    k = int(input())\n",
    "    sumSeq += k\n",
    "    sumN += i\n",
    "print((sumN + n) - sumSeq)"
   ]
  },
  {
   "cell_type": "markdown",
   "metadata": {},
   "source": [
    "Даны два четырёхзначных числа A и B. Выведите все четырёхзначные числа на отрезке от A до B, запись которых является палиндромом."
   ]
  },
  {
   "cell_type": "code",
   "execution_count": 49,
   "metadata": {},
   "outputs": [
    {
     "name": "stdout",
     "output_type": "stream",
     "text": [
      "1600\n",
      "2100\n",
      "1661\n",
      "1771\n",
      "1881\n",
      "1991\n",
      "2002\n"
     ]
    }
   ],
   "source": [
    "a, b = int(input()), int(input())\n",
    "for i in range(a, b + 1):\n",
    "    if i == int(str(i)[::-1]):\n",
    "        print(i)"
   ]
  },
  {
   "cell_type": "markdown",
   "metadata": {},
   "source": [
    "Выведите все элементы списка с четными индексами (то есть A[0], A[2], A[4], ...). Программа должна быть эффективной и не выполнять лишних действий!"
   ]
  },
  {
   "cell_type": "code",
   "execution_count": 51,
   "metadata": {},
   "outputs": [
    {
     "name": "stdout",
     "output_type": "stream",
     "text": [
      "1 2 3 4 5\n",
      "1 3 5\n"
     ]
    }
   ],
   "source": [
    "x = list(map(int, input().split()))\n",
    "print(*x[::2])"
   ]
  },
  {
   "cell_type": "markdown",
   "metadata": {},
   "source": [
    "Выведите все четные элементы списка."
   ]
  },
  {
   "cell_type": "code",
   "execution_count": 52,
   "metadata": {},
   "outputs": [
    {
     "name": "stdout",
     "output_type": "stream",
     "text": [
      "1 2 3 4 5 6 7  8\n",
      "2 4 6 8 "
     ]
    }
   ],
   "source": [
    "x = list(map(int, input().split()))\n",
    "for i in x:\n",
    "    if i % 2 == 0:\n",
    "        print(i, end=' ')"
   ]
  },
  {
   "cell_type": "markdown",
   "metadata": {},
   "source": [
    "Найдите количество положительных элементов в данном списке."
   ]
  },
  {
   "cell_type": "code",
   "execution_count": 53,
   "metadata": {},
   "outputs": [
    {
     "name": "stdout",
     "output_type": "stream",
     "text": [
      "1 -1 2 -2 3\n",
      "3\n"
     ]
    }
   ],
   "source": [
    "x, k = list(map(int, input().split())), 0\n",
    "for i in x:\n",
    "    if i > 0:\n",
    "        k += 1\n",
    "print(k)"
   ]
  },
  {
   "cell_type": "markdown",
   "metadata": {},
   "source": [
    "Найдите наибольшее значение в списке и индекс последнего элемента, который имеет данное значение за один проход по списку, не модифицируя этот список и не используя дополнительного списка.\n",
    "\n",
    "Выведите два значения."
   ]
  },
  {
   "cell_type": "code",
   "execution_count": 54,
   "metadata": {},
   "outputs": [
    {
     "name": "stdout",
     "output_type": "stream",
     "text": [
      "1 2 1 2 1\n",
      "2 3\n"
     ]
    }
   ],
   "source": [
    "x, idx, mx = list(map(int, input().split())), -1, 0\n",
    "for i in range(len(x)):\n",
    "    if x[i] >= mx:\n",
    "        mx = x[i]\n",
    "        idx = i\n",
    "print(mx, idx)"
   ]
  },
  {
   "cell_type": "markdown",
   "metadata": {},
   "source": [
    "Дан список чисел. Выведите все элементы списка, которые больше предыдущего элемента."
   ]
  },
  {
   "cell_type": "code",
   "execution_count": 60,
   "metadata": {},
   "outputs": [
    {
     "name": "stdout",
     "output_type": "stream",
     "text": [
      "1 2 3 4 5\n",
      "2 3 4 5 "
     ]
    }
   ],
   "source": [
    "x = list(map(int, input().split()))\n",
    "for i in range(1, len(x)):\n",
    "    if x[i] > x[i - 1]:\n",
    "        print(x[i], end=' ')"
   ]
  },
  {
   "cell_type": "markdown",
   "metadata": {},
   "source": [
    "Дан список. Определите, является ли он монотонно возрастающим(то есть верно ли, что каждый элемент этого списка больше предыдущего).Выведите YES, если массив монотонно возрастает и NO в противном случае.Решение оформите в виде функции IsAscending(A).В данной функции должен быть один цикл while, не содержащий вложенных условий и циклов — используйте схему линейного поиска."
   ]
  },
  {
   "cell_type": "code",
   "execution_count": 63,
   "metadata": {},
   "outputs": [
    {
     "name": "stdout",
     "output_type": "stream",
     "text": [
      "2 2 2\n",
      "NO\n"
     ]
    }
   ],
   "source": [
    "def IsAscending(A) -> bool:\n",
    "    i = 1\n",
    "    while i < len(A):\n",
    "        if A[i] <= A[i - 1]:\n",
    "            return False\n",
    "        i += 1\n",
    "    return True\n",
    "x = list(map(int, input().split()))\n",
    "print('YES' if IsAscending(x) else 'NO')"
   ]
  },
  {
   "cell_type": "markdown",
   "metadata": {},
   "source": [
    "Дан список чисел. Если в нем есть два соседних элемента одного знака, выведите эти числа. Если соседних элементов одного знака нет - не выводите ничего. Если таких пар соседей несколько - выведите первую пару."
   ]
  },
  {
   "cell_type": "code",
   "execution_count": 66,
   "metadata": {},
   "outputs": [
    {
     "name": "stdout",
     "output_type": "stream",
     "text": [
      "1 2 -3 -4 -5\n",
      "1 2\n"
     ]
    }
   ],
   "source": [
    "x = list(map(int, input().split()))\n",
    "for i in range(len(x) - 1):\n",
    "    if x[i] // abs(x[i]) == x[i + 1] // abs(x[i + 1]):\n",
    "        print(x[i], x[i + 1])\n",
    "        break"
   ]
  },
  {
   "cell_type": "markdown",
   "metadata": {},
   "source": [
    "Дан список чисел. Определите, сколько в этом списке элементов, которые больше двух своих соседей и выведите количество таких элементов."
   ]
  },
  {
   "cell_type": "code",
   "execution_count": 68,
   "metadata": {},
   "outputs": [
    {
     "name": "stdout",
     "output_type": "stream",
     "text": [
      "1 5 1 5 1\n",
      "2\n"
     ]
    }
   ],
   "source": [
    "x, k = list(map(int, input().split())), 0\n",
    "for i in range(1, len(x) - 1):\n",
    "    if x[i - 1] < x[i] > x[i + 1]:\n",
    "        k += 1\n",
    "print(k)"
   ]
  },
  {
   "cell_type": "markdown",
   "metadata": {},
   "source": [
    "Дан список чисел. Выведите значение наибольшего элемента в списке, а затем индекс этого элемента в списке. Если наибольших элементов несколько, выведите их значение и индекс первого из них."
   ]
  },
  {
   "cell_type": "code",
   "execution_count": 2,
   "metadata": {},
   "outputs": [
    {
     "name": "stdout",
     "output_type": "stream",
     "text": [
      "1 2 3 4\n",
      "4 3\n"
     ]
    }
   ],
   "source": [
    "x, idx = list(map(int, input().split())), 0\n",
    "mx = x[0]\n",
    "for i in range(1, len(x)):\n",
    "    if x[i] > mx:\n",
    "        mx, idx = x[i], i\n",
    "print(mx, idx)"
   ]
  },
  {
   "cell_type": "markdown",
   "metadata": {},
   "source": [
    "Выведите значение наименьшего из всех положительных элементов в списке. Известно, что в списке есть хотя бы один положительный элемент, а значения всех элементов списка по модулю не превосходят 1000."
   ]
  },
  {
   "cell_type": "code",
   "execution_count": 6,
   "metadata": {},
   "outputs": [
    {
     "name": "stdout",
     "output_type": "stream",
     "text": [
      "-1 -2 -3 -4 100\n",
      "100\n"
     ]
    }
   ],
   "source": [
    "x, mx = list(map(int, input().split())), 1000\n",
    "for i in range(len(x)):\n",
    "    if mx > x[i] > 0:\n",
    "        mx = x[i]\n",
    "print(mx)"
   ]
  },
  {
   "cell_type": "markdown",
   "metadata": {},
   "source": [
    "Выведите значение наименьшего нечетного элемента списка, гарантируется, что хотя бы один нечётный элемент в списке есть."
   ]
  },
  {
   "cell_type": "code",
   "execution_count": 15,
   "metadata": {},
   "outputs": [
    {
     "name": "stdout",
     "output_type": "stream",
     "text": [
      "0 1 2 3 4\n",
      "1\n"
     ]
    }
   ],
   "source": [
    "x, mx = list(map(int, input().split())), 0\n",
    "for i in range(len(x)):\n",
    "    if x[i] > mx:\n",
    "        mx = x[i]\n",
    "for i in range(len(x)):\n",
    "    if x[i] % 2 == 1 and x[i] < mx:\n",
    "        mx = x[i]\n",
    "print(mx)"
   ]
  },
  {
   "cell_type": "markdown",
   "metadata": {},
   "source": [
    "Выведите элементы данного списка в обратном порядке, не изменяя сам список."
   ]
  },
  {
   "cell_type": "code",
   "execution_count": 17,
   "metadata": {},
   "outputs": [
    {
     "name": "stdout",
     "output_type": "stream",
     "text": [
      "1 2 3 4\n",
      "4 3 2 1\n"
     ]
    }
   ],
   "source": [
    "x = list(map(int, input().split()))\n",
    "print(*x[::-1])"
   ]
  },
  {
   "cell_type": "markdown",
   "metadata": {},
   "source": [
    "Переставьте элементы данного списка в обратном порядке, затем выведите элементы полученного списка. Эта задача отличается от предыдущей тем, что вам нужно изменить значения элементов самого списка, поменяв местами A[0] c A[n-1], A[1] с A[n-2], а затем вывести элементы списка подряд.\n",
    "\n",
    "Предлагается в учебных целях проделать это вручную, например, не используя срезов и стандартных функций."
   ]
  },
  {
   "cell_type": "code",
   "execution_count": 22,
   "metadata": {},
   "outputs": [
    {
     "name": "stdout",
     "output_type": "stream",
     "text": [
      "1 2 3 4 5\n",
      "5 4 3 2 1\n"
     ]
    }
   ],
   "source": [
    "x = list(map(int, input().split()))\n",
    "for i in range(len(x) // 2):\n",
    "    x[i], x[len(x) - i - 1] = x[len(x) - i - 1], x[i]\n",
    "print(*x)"
   ]
  },
  {
   "cell_type": "markdown",
   "metadata": {},
   "source": [
    "Дан список из чисел и индекс элемента в списке k. Удалите из списка элемент с индексом k, сдвинув влево все элементы, стоящие правее элемента с индексом k.\n",
    "\n",
    "Программа получает на вход список, затем число k. Программа сдвигает все элементы,а после этого удаляет последний элемент списка при помощи метода pop().\n",
    "\n",
    "Программа должна осуществлять сдвиг непосредственно в списке, а не делать это при выводе элементов. Также нельзя использовать дополнительный список."
   ]
  },
  {
   "cell_type": "code",
   "execution_count": 27,
   "metadata": {},
   "outputs": [
    {
     "name": "stdout",
     "output_type": "stream",
     "text": [
      "4 6 2 4 3 5 12 24 3 5\n",
      "4\n",
      "4 6 2 4 5 12 24 3 5\n"
     ]
    }
   ],
   "source": [
    "x, k = list(map(int, input().split())), int(input())\n",
    "for i in range(k, len(x) - 1):\n",
    "    x[i] = x[i + 1]\n",
    "x.pop()\n",
    "print(*x)"
   ]
  },
  {
   "cell_type": "markdown",
   "metadata": {},
   "source": [
    "Дан список целых чисел, число k и значение C. Необходимо вставить в список на позицию с индексом k элемент, равный C, сдвинув все элементы, имевшие индекс не менее k, вправо.\n",
    "\n",
    "Поскольку при этом количество элементов в списке увеличивается, после считывания списка в его конец нужно будет добавить новый элемент, используя метод append.\n",
    "\n",
    "Вставку необходимо осуществлять уже в считанном списке, не делая этого при выводе и не создавая дополнительного списка."
   ]
  },
  {
   "cell_type": "code",
   "execution_count": 31,
   "metadata": {},
   "outputs": [
    {
     "name": "stdout",
     "output_type": "stream",
     "text": [
      "7 6 5 4 3 2 1\n",
      "2 0\n",
      "7 6 0 5 4 3 2 1\n"
     ]
    }
   ],
   "source": [
    "x = list(map(int, input().split()))\n",
    "k, c = map(int, input().split())\n",
    "x.append(0)\n",
    "for i in range(len(x) - 1, k, -1):\n",
    "    x[i] = x[i - 1]\n",
    "x[k] = c\n",
    "print(*x)"
   ]
  },
  {
   "cell_type": "markdown",
   "metadata": {},
   "source": [
    "Напишите программу, которая находит в массиве элемент, самый близкий по величине к  данному числу."
   ]
  },
  {
   "cell_type": "code",
   "execution_count": 32,
   "metadata": {},
   "outputs": [
    {
     "name": "stdout",
     "output_type": "stream",
     "text": [
      "5\n",
      "1 2 3 4 5\n",
      "6\n",
      "5\n"
     ]
    }
   ],
   "source": [
    "k, x, l = int(input()), list(map(int, input().split())), int(input())\n",
    "j = x[0]\n",
    "for i in range(k):\n",
    "    if abs(x[i] - l) < abs(j - l):\n",
    "        j = x[i]\n",
    "print(j)"
   ]
  },
  {
   "cell_type": "markdown",
   "metadata": {},
   "source": [
    "Петя перешёл в другую школу. На уроке физкультуры ему понадобилось определить своё место в строю.Помогите ему это сделать."
   ]
  },
  {
   "cell_type": "code",
   "execution_count": 38,
   "metadata": {},
   "outputs": [
    {
     "name": "stdout",
     "output_type": "stream",
     "text": [
      "165 163 160 160 157 157 155 154 \n",
      "153\n",
      "9\n"
     ]
    }
   ],
   "source": [
    "x, k, i = list(map(int, input().split())), int(input()), 0\n",
    "while i <= len(x) - 1 and k <= x[i]:\n",
    "    i += 1\n",
    "print(i + 1)"
   ]
  },
  {
   "cell_type": "markdown",
   "metadata": {},
   "source": [
    "Дан список, упорядоченный по неубыванию элементов в нем.Определите, сколько в нем различных элементов."
   ]
  },
  {
   "cell_type": "code",
   "execution_count": 44,
   "metadata": {},
   "outputs": [
    {
     "name": "stdout",
     "output_type": "stream",
     "text": [
      "1 1 1 1 1\n",
      "1\n"
     ]
    }
   ],
   "source": [
    "x, k = list(map(int, input().split())), 0\n",
    "for i in range(len(x) - 1):\n",
    "    if x[i] < x[i + 1]:\n",
    "        k += 1\n",
    "print(k + 1)"
   ]
  },
  {
   "cell_type": "markdown",
   "metadata": {},
   "source": [
    "Переставьте соседние элементы списка (A[0] c A[1],A[2] c A[3] и т.д.).Если элементов нечетное число, то последний элемент остается на своем месте."
   ]
  },
  {
   "cell_type": "code",
   "execution_count": 63,
   "metadata": {},
   "outputs": [
    {
     "name": "stdout",
     "output_type": "stream",
     "text": [
      "1 2 3 4 5\n",
      "2 1 4 3 5\n"
     ]
    }
   ],
   "source": [
    "x = list(map(int, input().split()))\n",
    "if len(x) % 2 == 0:\n",
    "    x[::2], x[1::2] = x[1::2], x[::2]\n",
    "else:\n",
    "    x[:-1:2], x[1:-1:2] = x[1:-1:2], x[:-1:2]\n",
    "print(*x)"
   ]
  },
  {
   "cell_type": "markdown",
   "metadata": {},
   "source": [
    "Циклически сдвиньте элементы списка вправо(A[0] переходит на место A[1], A[1] на место A[2], ..., последний элемент переходит на место A[0])."
   ]
  },
  {
   "cell_type": "code",
   "execution_count": 64,
   "metadata": {},
   "outputs": [
    {
     "name": "stdout",
     "output_type": "stream",
     "text": [
      "1 2 3 4 5\n",
      "5 1 2 3 4\n"
     ]
    }
   ],
   "source": [
    "x = list(map(int, input().split()))\n",
    "tmp = x[-1]\n",
    "for i in range(len(x) - 2, -1, -1):\n",
    "    x[i + 1] = x[i]\n",
    "x[0] = tmp\n",
    "print(*x)"
   ]
  },
  {
   "cell_type": "markdown",
   "metadata": {},
   "source": [
    "В списке все элементы попарно различны. Поменяйте местами минимальный и максимальный элемент этого списка."
   ]
  },
  {
   "cell_type": "code",
   "execution_count": 86,
   "metadata": {},
   "outputs": [
    {
     "name": "stdout",
     "output_type": "stream",
     "text": [
      "-1 1\n",
      "1 -1\n"
     ]
    }
   ],
   "source": [
    "x = list(map(int, input().split()))\n",
    "mx, mn, imx, imn = x[0], x[0], 0, 0\n",
    "for i in range(len(x)):\n",
    "    if x[i] > mx:\n",
    "        mx = x[i]\n",
    "        imx = i\n",
    "    if x[i] < mn:\n",
    "        mn = x[i]\n",
    "        imn = i\n",
    "x[imx], x[imn] = x[imn], x[imx]\n",
    "print(*x)"
   ]
  },
  {
   "cell_type": "markdown",
   "metadata": {},
   "source": [
    "Дан список, заполненный произвольными целыми числами. Найдите в этом списке два числа, произведение которых максимально. Выведите эти числа в порядке неубывания.\n",
    "\n",
    "Решение должно иметь сложность O(n), где n - размер списка. То есть сортировку использовать нельзя."
   ]
  },
  {
   "cell_type": "code",
   "execution_count": 94,
   "metadata": {},
   "outputs": [
    {
     "name": "stdout",
     "output_type": "stream",
     "text": [
      "0 0 0 0 0\n",
      "0 0\n"
     ]
    }
   ],
   "source": [
    "x = list(map(int, input().split()))\n",
    "min1, min2, max1, max2 = x[0], x[0], x[0], x[0]\n",
    "for i in range(len(x)):\n",
    "    if x[i] >= max1:\n",
    "        max2 = max1\n",
    "        max1 = x[i]\n",
    "    elif max1 > x[i] > max2:\n",
    "        max2 = x[i]\n",
    "    if x[i] <= min1:\n",
    "        min2 = min1\n",
    "        min1 = x[i]\n",
    "    elif min1 < x[i] < min2:\n",
    "        min2 = x[i]\n",
    "print(*(max2, max1) if (max2 * max1 >= min1 * min2) else (min1, min2))"
   ]
  },
  {
   "cell_type": "markdown",
   "metadata": {},
   "source": [
    "В данном списке из n≤10⁵ целых чисел найдите три числа,произведение которых максимально.\n",
    "\n",
    "Решение должно иметь сложность O(n), где n - размер списка. То есть сортировку использовать нельзя.\n",
    "\n",
    "Выведите три искомых числа в любом порядке."
   ]
  },
  {
   "cell_type": "code",
   "execution_count": 103,
   "metadata": {},
   "outputs": [
    {
     "name": "stdout",
     "output_type": "stream",
     "text": [
      "3 5 1 7 9 0 9 -3 10\n",
      "10 9 9\n"
     ]
    }
   ],
   "source": [
    "def search(A: list) -> int:\n",
    "    max1 = A.pop(A.index(max(A)))\n",
    "    min1 = A.pop(A.index(min(A)))\n",
    "    max2 = A.pop(A.index(max(A)))\n",
    "    min2 = min(A)\n",
    "    max3 = max(A)\n",
    "    return max1, max2, max3, min1, min2\n",
    "x = list(map(int, input().split()))\n",
    "if len(x) > 3:\n",
    "    max1, max2, max3, min1, min2 = search(x)\n",
    "    max_prod_positive = max1 * max2 * max3\n",
    "    max_prod_negative = min1 * min2 * max1\n",
    "    if max_prod_positive >= max_prod_negative:\n",
    "        print(max1, max2, max3)\n",
    "    elif max_prod_negative >= max_prod_positive:\n",
    "        print(min1, min2, max1)\n",
    "else:\n",
    "    print(*x)"
   ]
  },
  {
   "cell_type": "markdown",
   "metadata": {},
   "source": [
    "Дан список чисел. Посчитайте, сколько в нем пар элементов, равных друг другу. Считается, что любые два элемента, равные друг другу образуют одну пару, которую необходимо посчитать."
   ]
  },
  {
   "cell_type": "code",
   "execution_count": 124,
   "metadata": {},
   "outputs": [
    {
     "name": "stdout",
     "output_type": "stream",
     "text": [
      "1 2 3\n",
      "0\n"
     ]
    }
   ],
   "source": [
    "x, k = list(map(int, input().split())), 0\n",
    "for i in range(len(x)):\n",
    "    for j in range(i + 1, len(x)):\n",
    "        if x[i] == x[j]:\n",
    "            k += 1\n",
    "print(k)"
   ]
  },
  {
   "cell_type": "markdown",
   "metadata": {},
   "source": [
    "Дан список. Выведите те его элементы, которые встречаются в списке только один раз. Элементы нужно выводить в том порядке, в котором они встречаются в списке."
   ]
  },
  {
   "cell_type": "code",
   "execution_count": 126,
   "metadata": {},
   "outputs": [
    {
     "name": "stdout",
     "output_type": "stream",
     "text": [
      "4 3 5 2 5 1 3 5\n",
      "4 2 1\n"
     ]
    }
   ],
   "source": [
    "x = list(map(int, input().split()))\n",
    "lst = []\n",
    "for i in range(len(x)):\n",
    "    if x.count(x[i]) == 1:\n",
    "        lst.append(x[i])\n",
    "print(*lst)"
   ]
  },
  {
   "cell_type": "markdown",
   "metadata": {},
   "source": [
    "N кеглей выставили в один ряд, занумеровав их слева направо числами от 1 до N. Затем по этому ряду бросили K шаров, при этом i-й шар сбил все кегли с номерами от lᵢ до rᵢ включительно. Определите, какие кегли остались стоять на месте."
   ]
  },
  {
   "cell_type": "code",
   "execution_count": 127,
   "metadata": {},
   "outputs": [
    {
     "name": "stdout",
     "output_type": "stream",
     "text": [
      "10 3\n",
      "8 10\n",
      "2 5\n",
      "3 6\n",
      "I.....I...\n"
     ]
    }
   ],
   "source": [
    "N, K = map(int, input().split())\n",
    "row = []\n",
    "for i in range(1, N + 1):\n",
    "    row.append('I')\n",
    "for i in range(1, K + 1):\n",
    "    l, r = map(int, input().split())\n",
    "    for z in range(l - 1, r):\n",
    "        row[z] = '.'\n",
    "print(''.join(row))"
   ]
  },
  {
   "cell_type": "markdown",
   "metadata": {},
   "source": [
    "Известно, что на доске 8×8 можно расставить 8 ферзей так, чтобы они не били друг друга. Вам дана расстановка 8 ферзей на доске, определите, есть ли среди них пара бьющих друг друга."
   ]
  },
  {
   "cell_type": "code",
   "execution_count": null,
   "metadata": {},
   "outputs": [],
   "source": [
    "x, y, k = [0] * 8, [0] * 8, 0\n",
    "for i in range(8):\n",
    "    x[i], y[i] = list(map(int, input().split()))\n",
    "for i in range(8):\n",
    "    for j in range(i+1, 8):\n",
    "        if abs(x[i]-x[j]) == abs(y[i]-y[j]) or x[i] == x[j] or y[i] == y[j]:\n",
    "            k += 1\n",
    "print('NO') if k == 0 else print('YES')"
   ]
  },
  {
   "cell_type": "markdown",
   "metadata": {},
   "source": [
    "Дан список целых чисел. Требуется “сжать” его, переместив все ненулевые элементы в левую часть списка, не меняя их порядок, а все нули - в правую часть. Порядок ненулевых элементов изменять нельзя, дополнительный список использовать нельзя, задачу нужно выполнить за один проход по списку. Распечатайте полученный список."
   ]
  },
  {
   "cell_type": "code",
   "execution_count": 128,
   "metadata": {},
   "outputs": [
    {
     "name": "stdout",
     "output_type": "stream",
     "text": [
      "4 0 5 0 3 0 0 5\n",
      "4 5 3 5 0 0 0 0\n"
     ]
    }
   ],
   "source": [
    "x = list(map(int, input().split()))\n",
    "for i in range(len(x) - 1, -1, -1):\n",
    "    if x[i] == 0:\n",
    "        x.pop(i)\n",
    "        x.append(0)\n",
    "print(*x)"
   ]
  },
  {
   "cell_type": "markdown",
   "metadata": {},
   "source": [
    "Дан список. Не изменяя его и не используя дополнительные списки, определите, какое число в этом списке встречается чаще всего. Если таких чисел несколько, выведите любое из них."
   ]
  },
  {
   "cell_type": "code",
   "execution_count": 130,
   "metadata": {},
   "outputs": [
    {
     "name": "stdout",
     "output_type": "stream",
     "text": [
      "1 2 3 2 3 3\n",
      "3\n"
     ]
    }
   ],
   "source": [
    "x = list(map(int, input().split()))\n",
    "n, s = 0, 0\n",
    "for i in x:\n",
    "    if x.count(i) > n:\n",
    "        n = x.count(i)\n",
    "        s = i\n",
    "print(s)"
   ]
  },
  {
   "cell_type": "markdown",
   "metadata": {},
   "source": [
    "# Сортировки и лямбда-функции"
   ]
  },
  {
   "cell_type": "markdown",
   "metadata": {},
   "source": [
    "Даны два целочисленных списка A и B, упорядоченных по неубыванию. Объедините их в один упорядоченный список С (то есть он должен содержать len(A)+len(B) элементов). Решение оформите в виде функции merge(A, B), возвращающей новый список. Алгоритм должен иметь сложность O(len(A)+len(B)). Модифицировать исходные списки запрещается. Использовать функцию sorted и метод sort запрещается."
   ]
  },
  {
   "cell_type": "code",
   "execution_count": 3,
   "metadata": {},
   "outputs": [
    {
     "name": "stdout",
     "output_type": "stream",
     "text": [
      "1 5 7\n",
      "2 4 4 5\n",
      "[1, 2, 4, 4, 5, 5, 7]\n"
     ]
    }
   ],
   "source": [
    "def merge(A: list, B: list) -> list:\n",
    "    C = [0] * (len(A) + len(B))\n",
    "    Ai, Bi, Ci = 0, 0, 0\n",
    "    while Ai < len(A) and Bi < len(B):\n",
    "        if A[Ai] <= B[Bi]:\n",
    "            C[Ci] = A[Ai]\n",
    "            Ai += 1\n",
    "            Ci += 1\n",
    "        else:\n",
    "            C[Ci] = B[Bi]\n",
    "            Bi += 1\n",
    "            Ci += 1\n",
    "    while Ai < len(A):\n",
    "        C[Ci] = A[Ai]\n",
    "        Ai += 1\n",
    "        Ci += 1\n",
    "    while Bi < len(B):\n",
    "        C[Ci] = B[Bi]\n",
    "        Bi += 1\n",
    "        Ci += 1\n",
    "    return C\n",
    "A = list(map(int, input().split()))\n",
    "B = list(map(int, input().split()))\n",
    "print(*merge(A, B))"
   ]
  },
  {
   "cell_type": "markdown",
   "metadata": {},
   "source": [
    "Даны два списка, упорядоченных по возрастанию (каждый список состоит из различных элементов).\n",
    "\n",
    "Найдите пересечение множеств элементов этих списков, то есть те числа, которые являются элементами обоих списков. Алгоритм должен иметь сложность O(len(A)+len(B)).\n",
    "\n",
    "Решение оформите в виде функции Intersection(A, B). Функция должна возвращать список пересечения данных списков в порядке возрастания элементов. Модифицировать исходные списки запрещается."
   ]
  },
  {
   "cell_type": "code",
   "execution_count": 7,
   "metadata": {},
   "outputs": [
    {
     "name": "stdout",
     "output_type": "stream",
     "text": [
      "1 3 4 7 9\n",
      "2 3 7 10 11\n",
      "3 7\n"
     ]
    }
   ],
   "source": [
    "def Intersection(A: list, B: list) -> list:\n",
    "    i, j = 0, 0\n",
    "    C = []\n",
    "    while i < len(A) and j < len(B):\n",
    "        if A[i] == B[j]:\n",
    "            C.append(A[i])\n",
    "            i += 1\n",
    "            j += 1\n",
    "        elif A[i] < B[j]:\n",
    "            i += 1\n",
    "        elif A[i] > B[j]:\n",
    "            j += 1\n",
    "    return C\n",
    "A = list(map(int, input().split()))\n",
    "B = list(map(int, input().split()))\n",
    "print(*Intersection(A, B))"
   ]
  },
  {
   "cell_type": "markdown",
   "metadata": {},
   "source": [
    "Отсортируйте данный массив, используя встроенную сортировку."
   ]
  },
  {
   "cell_type": "code",
   "execution_count": 10,
   "metadata": {},
   "outputs": [
    {
     "name": "stdout",
     "output_type": "stream",
     "text": [
      "2 \n",
      "3 1\n",
      "1 3\n"
     ]
    }
   ],
   "source": [
    "n = int(input())\n",
    "s = list(map(int, input().split()))\n",
    "s.sort()\n",
    "print(*s)"
   ]
  },
  {
   "cell_type": "markdown",
   "metadata": {},
   "source": [
    "В обувном магазине продается обувь разного размера. Известно, что одну пару обуви можно надеть на другую, если она хотя бы на три размера больше. В магазин пришел покупатель.Требуется определить, какое наибольшее количество пар обуви сможет предложить ему продавец так, чтобы он смог надеть их все одновременно."
   ]
  },
  {
   "cell_type": "code",
   "execution_count": 15,
   "metadata": {},
   "outputs": [
    {
     "name": "stdout",
     "output_type": "stream",
     "text": [
      "26\n",
      "30 35 40 41 42\n",
      "3\n"
     ]
    }
   ],
   "source": [
    "n, s, k = int(input()), sorted(list(map(int, input().split()))), 0\n",
    "for i in s:\n",
    "    if i >= n:\n",
    "        k += 1\n",
    "        n = i + 3\n",
    "print(k)"
   ]
  },
  {
   "cell_type": "markdown",
   "metadata": {},
   "source": [
    "Системный администратор вспомнил, что давно не делал архива пользовательских файлов. Однако, объем диска, куда он может поместить архив, может быть меньше чем суммарный объем архивируемых файлов.\n",
    "\n",
    "Известно, какой объем занимают файлы каждого пользователя.\n",
    "\n",
    "Напишите программу, которая по заданной информации о пользователях и свободному объему на архивном диске определит максимальное число пользователей, чьи данные можно поместить в архив."
   ]
  },
  {
   "cell_type": "code",
   "execution_count": 25,
   "metadata": {},
   "outputs": [
    {
     "name": "stdout",
     "output_type": "stream",
     "text": [
      "100 2\n",
      "10\n",
      "10\n"
     ]
    },
    {
     "ename": "IndexError",
     "evalue": "list index out of range",
     "output_type": "error",
     "traceback": [
      "\u001b[1;31m---------------------------------------------------------------------------\u001b[0m",
      "\u001b[1;31mIndexError\u001b[0m                                Traceback (most recent call last)",
      "\u001b[1;32m<ipython-input-25-ad45a6aa6136>\u001b[0m in \u001b[0;36m<module>\u001b[1;34m\u001b[0m\n\u001b[0;32m      7\u001b[0m \u001b[0ms\u001b[0m\u001b[1;33m.\u001b[0m\u001b[0msort\u001b[0m\u001b[1;33m(\u001b[0m\u001b[1;33m)\u001b[0m\u001b[1;33m\u001b[0m\u001b[1;33m\u001b[0m\u001b[0m\n\u001b[0;32m      8\u001b[0m \u001b[1;32mwhile\u001b[0m \u001b[0msumSeq\u001b[0m \u001b[1;33m<\u001b[0m \u001b[0mx\u001b[0m\u001b[1;33m:\u001b[0m\u001b[1;33m\u001b[0m\u001b[1;33m\u001b[0m\u001b[0m\n\u001b[1;32m----> 9\u001b[1;33m     \u001b[0msumSeq\u001b[0m \u001b[1;33m+=\u001b[0m \u001b[0ms\u001b[0m\u001b[1;33m[\u001b[0m\u001b[0mj\u001b[0m\u001b[1;33m]\u001b[0m\u001b[1;33m\u001b[0m\u001b[1;33m\u001b[0m\u001b[0m\n\u001b[0m\u001b[0;32m     10\u001b[0m     \u001b[0mj\u001b[0m \u001b[1;33m+=\u001b[0m \u001b[1;36m1\u001b[0m\u001b[1;33m\u001b[0m\u001b[1;33m\u001b[0m\u001b[0m\n\u001b[0;32m     11\u001b[0m \u001b[0mprint\u001b[0m\u001b[1;33m(\u001b[0m\u001b[0mj\u001b[0m \u001b[1;33m-\u001b[0m \u001b[1;36m1\u001b[0m \u001b[1;32mif\u001b[0m \u001b[0msumSeq\u001b[0m \u001b[1;33m>\u001b[0m \u001b[0mx\u001b[0m \u001b[1;32melse\u001b[0m \u001b[0mj\u001b[0m\u001b[1;33m)\u001b[0m\u001b[1;33m\u001b[0m\u001b[1;33m\u001b[0m\u001b[0m\n",
      "\u001b[1;31mIndexError\u001b[0m: list index out of range"
     ]
    }
   ],
   "source": [
    "x, y = map(int, input().split())\n",
    "s = []\n",
    "sumSeq, j = 0, 0\n",
    "for i in range(y):\n",
    "    k = int(input())\n",
    "    s.append(k)\n",
    "s.sort()\n",
    "while sumSeq < x:\n",
    "    sumSeq += s[j]\n",
    "    j += 1\n",
    "print(j - 1 if sumSeq > x else j)"
   ]
  },
  {
   "cell_type": "code",
   "execution_count": 51,
   "metadata": {},
   "outputs": [
    {
     "name": "stdout",
     "output_type": "stream",
     "text": [
      "100 5\n",
      "1\n",
      "1\n",
      "1\n",
      "1\n",
      "96\n",
      "5\n"
     ]
    }
   ],
   "source": [
    "x, y = map(int, input().split())\n",
    "s = []\n",
    "seq, k = 0, 0\n",
    "for i in range(y):\n",
    "    s.append(int(input()))\n",
    "s = sorted(s)\n",
    "if 0 < s[0] <= x:\n",
    "    while k <= len(s) - 1 and seq + s[k] <= x:\n",
    "        seq += s[k]\n",
    "        k += 1\n",
    "    print(k)\n",
    "else:\n",
    "    print(k)"
   ]
  },
  {
   "cell_type": "markdown",
   "metadata": {},
   "source": [
    "Штаб гражданской обороны Тридесятой области решил обновить план спасения на случай ядерной атаки. Известно, что все n селений Тридесятой области находятся вдоль одной прямой дороги. Вдоль дороги также расположены m бомбоубежищ, в которых жители селений могут укрыться на случай ядерной атаки.\n",
    "\n",
    "Чтобы спасение в случае ядерной тревоги проходило как можно эффективнее, необходимо для каждого селения определить ближайшее к нему бомбоубежище."
   ]
  },
  {
   "cell_type": "code",
   "execution_count": 74,
   "metadata": {},
   "outputs": [
    {
     "name": "stdout",
     "output_type": "stream",
     "text": [
      "4\n",
      "1 2 6 10\n",
      "2 \n",
      "7 3\n",
      "2 2 1 1\n"
     ]
    }
   ],
   "source": [
    "def getPair(x: int, y: list) -> list:\n",
    "    c = []\n",
    "    for i in range(x):\n",
    "        c.append(tuple((i + 1, y[i])))\n",
    "    return c\n",
    "def sort(pair):\n",
    "    return pair[1]\n",
    "n = int(input())\n",
    "vil = list(map(int, input().split()))\n",
    "m = int(input())\n",
    "bomb = list(map(int, input().split()))\n",
    "v = getPair(n, vil)\n",
    "b = getPair(m, bomb)\n",
    "v.sort(key=sort)\n",
    "b.sort(key=sort)\n",
    "k = 0\n",
    "res = [[v[i][0], abs(b[0][1] - v[i][1]), b[0][0]] for i in range(n)]\n",
    "for i in range(n):\n",
    "    while k + 1 <= m and abs(b[k][1] - v[i][1]) <= res[i][1]:\n",
    "        if k + 1 == m or abs(b[k][1] - v[i][1]) < abs(b[k + 1][1] - v[i][1]):\n",
    "            res[i][1], res[i][2] = abs(b[k][1] - v[i][1]), b[k][0]\n",
    "            break\n",
    "        else:\n",
    "            k += 1\n",
    "res.sort()\n",
    "print(*[res[i][2] for i in range(n)])"
   ]
  },
  {
   "cell_type": "markdown",
   "metadata": {},
   "source": [
    "В олимпиаде по информатике принимало участие несколько человек. \n",
    "\n",
    "Определите и выведите средние баллы участников олимпиады в 9 классе, в 10 классе, в 11 классе."
   ]
  },
  {
   "cell_type": "code",
   "execution_count": 78,
   "metadata": {},
   "outputs": [],
   "source": [
    "f = open('input.txt', 'r', encoding='utf-8')\n",
    "f1 = open('output.txt', 'w', encoding='utf-8')\n",
    "g9 = []\n",
    "g10 = []\n",
    "g11 = []\n",
    "for line in f:\n",
    "    sp = list(line.split())\n",
    "    if int(sp[2]) == 9:\n",
    "        g9.append(int(sp[3]))\n",
    "    elif int(sp[2]) == 10:\n",
    "        g10.append(int(sp[3]))\n",
    "    elif int(sp[2]) == 11:\n",
    "        g11.append(int(sp[3]))\n",
    "x1 = (sum(g9) / len(g9))\n",
    "x2 = (sum(g10) / len(g10))\n",
    "x3 = (sum(g11) / len(g11))\n",
    "print(x1, x2, x3, file=f1, end='')\n",
    "f.close()\n",
    "f1.close()"
   ]
  },
  {
   "cell_type": "markdown",
   "metadata": {},
   "source": [
    "Известно, что фамилии всех участников — различны. Сохраните в массивах список всех участников и выведите его, отсортировав по фамилии в лексикографическом порядке. При выводе указываете фамилию, имя участника и его балл."
   ]
  },
  {
   "cell_type": "code",
   "execution_count": 90,
   "metadata": {},
   "outputs": [],
   "source": [
    "f = open('input.txt', 'r', encoding='utf-8')\n",
    "f1 = open('output.txt', 'w', encoding='utf-8')\n",
    "res = []\n",
    "for line in f:\n",
    "    name1, name2, school, mark = line.split()\n",
    "    res.append(tuple((name1, name2, mark)))\n",
    "res.sort()\n",
    "for i in range(len(res)):\n",
    "    print(*res[i], file=f1, end='\\n')\n",
    "f.close()\n",
    "f1.close()"
   ]
  },
  {
   "cell_type": "markdown",
   "metadata": {},
   "source": [
    "Дан список из N (N≤2*10⁵) элементов, которые принимают целые значения от 0 до 100 (100 включая).\n",
    "\n",
    "Отсортируйте этот список в порядке неубывания элементов. Выведите полученный список.\n",
    "\n",
    "Решение оформите в виде функции CountSort(A), которая модифицирует передаваемый ей список. Использовать встроенные функции сортировки нельзя."
   ]
  },
  {
   "cell_type": "code",
   "execution_count": 91,
   "metadata": {},
   "outputs": [
    {
     "name": "stdout",
     "output_type": "stream",
     "text": [
      "7 3 4 2 5\n",
      "2 3 4 5 7 "
     ]
    }
   ],
   "source": [
    "def CountSort(A: list) -> list:\n",
    "    marks = [0] * 101\n",
    "    for i in A:\n",
    "        marks[i] += 1\n",
    "    for mark in range(101):\n",
    "        print((str(mark) + ' ') * marks[mark], end='')\n",
    "s = map(int, input().split())\n",
    "CountSort(s)"
   ]
  },
  {
   "cell_type": "markdown",
   "metadata": {},
   "source": [
    "Всем известно, что со временем клавиатура изнашивается, и клавиши на ней начинают залипать. Конечно, некоторое время такую клавиатуру еще можно использовать, но для нажатий клавиш приходиться использовать большую силу.\n",
    "\n",
    "При изготовлении клавиатуры изначально для каждой клавиши задается количество нажатий, которое она должна выдерживать. Если знать эти величины для используемой клавиатуры, то для определенной последовательности нажатых клавиш можно определить, какие клавиши в процессе их использования сломаются, а какие — нет.\n",
    "\n",
    "Требуется написать программу, определяющую, какие клавиши сломаются в процессе заданного варианта эксплуатации клавиатуры."
   ]
  },
  {
   "cell_type": "code",
   "execution_count": 94,
   "metadata": {},
   "outputs": [
    {
     "name": "stdout",
     "output_type": "stream",
     "text": [
      "5\n",
      "1 50 3 4 3\n",
      "16\n",
      "1 2 3 4 5 1 3 3 4 5 5 5 5 5 4 5\n",
      "YES\n",
      "NO\n",
      "NO\n",
      "NO\n",
      "YES\n"
     ]
    }
   ],
   "source": [
    "n = int(input())\n",
    "xn = list(map(int, input().split()))\n",
    "m = int(input())\n",
    "xm = list(map(int, input().split()))\n",
    "key = [0] * (n + 1)\n",
    "for i in xm:\n",
    "    key[i] += 1\n",
    "for i in range(1, n + 1):\n",
    "    if xn[i - 1] >= key[i]:\n",
    "        print('NO')\n",
    "    else:\n",
    "        print('YES')"
   ]
  },
  {
   "cell_type": "markdown",
   "metadata": {},
   "source": [
    "В олимпиаде по информатике принимало участие несколько человек. Победителем олимпиады становится человек, набравший больше всех баллов. Победители определяются независимо по каждому классу. Определите количество баллов, которое набрал победитель в каждом классе. Гарантируется, что в каждом классе был хотя бы один участник."
   ]
  },
  {
   "cell_type": "code",
   "execution_count": 134,
   "metadata": {},
   "outputs": [],
   "source": [
    "f = open('input.txt', 'r', encoding='utf-8')\n",
    "f1 = open('output.txt', 'w', encoding='utf-8')\n",
    "res = [0] * 3\n",
    "for line in f:\n",
    "    *name, clas, mark = line.split()\n",
    "    if res[int(clas) - 9] < int(mark):\n",
    "        res[int(clas) - 9] = int(mark)\n",
    "print(*res, file=f1, end='')\n",
    "f.close()\n",
    "f1.close()"
   ]
  },
  {
   "cell_type": "markdown",
   "metadata": {},
   "source": [
    "В олимпиаде участвовало N человек. Каждый получил определенное количество баллов, при этом оказалось, что у всех участников разное число баллов. Упорядочите список участников олимпиады в порядке убывания набранных баллов."
   ]
  },
  {
   "cell_type": "code",
   "execution_count": 104,
   "metadata": {},
   "outputs": [
    {
     "name": "stdout",
     "output_type": "stream",
     "text": [
      "3\n",
      "Ivanov 15\n",
      "Petrov 10\n",
      "Sidorov 20\n",
      "Sidorov\n",
      "Ivanov\n",
      "Petrov\n"
     ]
    }
   ],
   "source": [
    "n = int(input())\n",
    "res = []\n",
    "for i in range(n):\n",
    "    name, mark = input().split()\n",
    "    res.append(list((name, mark)))\n",
    "res.sort(reverse=True, key = lambda x: int(x[1]))\n",
    "for i in res:\n",
    "    print(i[0])"
   ]
  },
  {
   "cell_type": "markdown",
   "metadata": {},
   "source": [
    "В условиях предыдущей задачи определите количество школьников, ставших победителями в каждом классе. Победителями объявляются все, кто набрал наибольшее число баллов по данному классу. Гарантируется, что в каждом классе был хотя бы один участник."
   ]
  },
  {
   "cell_type": "code",
   "execution_count": 109,
   "metadata": {},
   "outputs": [],
   "source": [
    "f = open('input.txt', 'r', encoding='utf-8')\n",
    "f1 = open('output.txt', 'w', encoding='utf-8')\n",
    "res = [0] * 3\n",
    "k = [0] * 3\n",
    "for line in f:\n",
    "    *name, clas, mark = line.split()\n",
    "    if res[int(clas) - 9] < int(mark):\n",
    "        res[int(clas) - 9] = int(mark)\n",
    "        k[int(clas) - 9] = 0\n",
    "    if res[int(clas) - 9] == int(mark):\n",
    "        k[int(clas) - 9] += 1\n",
    "print(*k, file=f1, end='')\n",
    "f.close()\n",
    "f1.close()"
   ]
  },
  {
   "cell_type": "markdown",
   "metadata": {},
   "source": [
    "Для поступления в вуз абитуриент должен предъявить результаты трех экзаменов в виде ЕГЭ, каждый из них оценивается целым числом от 0 до 100 баллов. При этом абитуриенты, набравшие менее 40 баллов (неудовлетворительную оценку) по любому экзамену из конкурса выбывают. Остальные абитуриенты участвуют в конкурсе по сумме баллов за три экзамена.\n",
    "\n",
    "В конкурсе участвует N человек, при этом количество мест равно K. Определите проходной балл, то есть такое количество баллов, что количество участников, набравших столько или больше баллов не превосходит K, а при добавлении к ним абитуриентов, набравших наибольшее количество баллов среди непринятых абитуриентов, общее число принятых абитуриентов станет больше K."
   ]
  },
  {
   "cell_type": "code",
   "execution_count": 127,
   "metadata": {},
   "outputs": [],
   "source": [
    "f = open('input.txt', 'r', encoding='utf-8')\n",
    "f1 = open('output.txt', 'w', encoding='utf-8')\n",
    "x = int(f.readline())\n",
    "res = []\n",
    "for line in f:\n",
    "    *name, m1, m2, m3 = line.split()\n",
    "    m1, m2, m3 = map(int, (m1, m2, m3))\n",
    "    if m1 < 40 or m2 < 40 or m3 < 40:\n",
    "        continue\n",
    "    res.append(sum((m1, m2, m3)))\n",
    "res.sort(reverse=True)\n",
    "if len(res) <= x:\n",
    "    print(0, file=f1, end='')\n",
    "elif res.count(res[0]) > x:\n",
    "    print(1, file=f1, end='')\n",
    "elif res[x:].count(res[x - 1]) < 1:\n",
    "    print(res[:x][-1], file=f1, end='')\n",
    "else:\n",
    "    print(res[:res.index(res[x - 1])][-1], file=f1, end='')\n",
    "f.close()\n",
    "f1.close()"
   ]
  },
  {
   "cell_type": "markdown",
   "metadata": {},
   "source": [
    "В олимпиаде по информатике принимало участие N человек. Определите школы, из которых в олимпиаде принимало участие больше всего участников. В этой задаче необходимо считывать данные построчно, не сохраняя в памяти данные обо всех участниках, а только подсчитывая число участников для каждой школы."
   ]
  },
  {
   "cell_type": "code",
   "execution_count": 133,
   "metadata": {},
   "outputs": [],
   "source": [
    "f = open('input.txt', 'r', encoding='utf-8')\n",
    "f1 = open('output.txt', 'w', encoding='utf-8')\n",
    "res = [0] * 100\n",
    "ans = []\n",
    "mx = 0\n",
    "for line in f:\n",
    "    *name, sch, mark = line.split()\n",
    "    sch = int(sch)\n",
    "    res[sch] += 1\n",
    "for i in range(len(res)):\n",
    "    if res[i] > mx:\n",
    "        mx = res[i]\n",
    "for i in range(len(res)):\n",
    "    if res[i] == mx:\n",
    "        ans.append(i)\n",
    "print(*ans, file=f1, end='')\n",
    "f.close()\n",
    "f1.close()"
   ]
  },
  {
   "cell_type": "markdown",
   "metadata": {},
   "source": [
    "Зачет проводится отдельно в каждом классе. Победителями олимпиады становятся школьники, которые набрали наибольший балл среди всех участников в данном классе.\n",
    "\n",
    "Для каждого класса определите максимальный балл, который набрал школьник, не ставший победителем в данном классе."
   ]
  },
  {
   "cell_type": "code",
   "execution_count": 143,
   "metadata": {},
   "outputs": [],
   "source": [
    "f = open('input.txt', 'r', encoding='utf-8')\n",
    "f1 = open('output.txt', 'w', encoding='utf-8')\n",
    "res = [0] * 6\n",
    "for line in f:\n",
    "    *name, clas, mark = line.split()\n",
    "    clas, mark = map(int, (clas, mark))\n",
    "    clas -= 9\n",
    "    if res[clas] < mark:\n",
    "        res[clas + 3] = res[clas]\n",
    "        res[clas] = mark\n",
    "    elif res[clas] > mark >= res[clas + 3]:\n",
    "        res[clas + 3] = mark\n",
    "print(*res[3:], file=f1, end='')\n",
    "f.close()\n",
    "f1.close()"
   ]
  },
  {
   "cell_type": "markdown",
   "metadata": {},
   "source": [
    "После затянувшегося совещания директор фирмы решил заказать такси, чтобы развезти сотрудников по домам. Он заказал N машин — ровно столько, сколько у него сотрудников. Однако когда они подъехали, оказалось, что у каждого водителя такси свой тариф за 1 километр.\n",
    "\n",
    "Директор знает, какому сотруднику сколько километров от работы до дома (к сожалению, все сотрудники живут в разных направлениях, поэтому нельзя отправить двух сотрудников на одной машине). Теперь директор хочет определить, сколько придется заплатить за перевозку всех сотрудников. Естественно, директор хочет заплатить как можно меньшую сумму."
   ]
  },
  {
   "cell_type": "code",
   "execution_count": 145,
   "metadata": {},
   "outputs": [
    {
     "name": "stdout",
     "output_type": "stream",
     "text": [
      "1 2 3\n",
      "1 2 3\n",
      "10\n"
     ]
    }
   ],
   "source": [
    "x = list(map(int, input().split()))\n",
    "y = list(map(int, input().split()))\n",
    "x.sort()\n",
    "y.sort(reverse=True)\n",
    "res = 0\n",
    "for i in range(len(x)):\n",
    "    res += (x[i] * y[i])\n",
    "print(res)"
   ]
  },
  {
   "cell_type": "markdown",
   "metadata": {},
   "source": [
    "В Государственную Думу Федерального Собрания Российской Федерации выборы производятся по партийным спискам. Каждый избиратель указывает одну партию, за которую он отдает свой голос. В Государственную Думу попадают партии, которые набрали не менее 7% от числа голосов избирателей.\n",
    "\n",
    "Дан список партий и список голосов избирателей. Выведите список партий, которые попадут в Государственную Думу."
   ]
  },
  {
   "cell_type": "code",
   "execution_count": 169,
   "metadata": {},
   "outputs": [],
   "source": [
    "f = open('input.txt', 'r', encoding='utf-8')\n",
    "f1 = open('output.txt', 'w', encoding='utf-8')\n",
    "flag1 = False\n",
    "flag2 = False\n",
    "k = 0\n",
    "res = []\n",
    "for line in f:\n",
    "    lst = line.split()\n",
    "    lst = str(' '.join(lst))\n",
    "    if lst == 'PARTIES:':\n",
    "        flag1 = True\n",
    "    elif lst == 'VOTES:':\n",
    "        flag1 = False\n",
    "        flag2 = True\n",
    "    elif flag1:\n",
    "        res.append(list((lst, 0)))\n",
    "    elif flag2:\n",
    "        k += 1\n",
    "        for i in res:\n",
    "            if lst in i:\n",
    "                i[1] += 1\n",
    "for i in res:\n",
    "    if (i[1] / k) * 100 >= 7:\n",
    "        print(i[0], file=f1, end='\\n')\n",
    "f.close()\n",
    "f1.close()"
   ]
  },
  {
   "cell_type": "markdown",
   "metadata": {},
   "source": [
    "Формат входных данных аналогичен предыдущей задаче. Выведите список всех партий, участвовавших в выборах, отсортировав его в порядке убывания количества голосов избирателей, а при равном количестве голосов - в лексикографическом порядке."
   ]
  },
  {
   "cell_type": "code",
   "execution_count": 185,
   "metadata": {},
   "outputs": [],
   "source": [
    "f = open('input.txt', 'r', encoding='utf-8')\n",
    "f1 = open('output.txt', 'w', encoding='utf-8')\n",
    "flag1 = False\n",
    "flag2 = False\n",
    "k = 0\n",
    "res = []\n",
    "ans = []\n",
    "for line in f:\n",
    "    lst = line.split()\n",
    "    lst = str(' '.join(lst))\n",
    "    if lst == 'PARTIES:':\n",
    "        flag1 = True\n",
    "    elif lst == 'VOTES:':\n",
    "        flag1 = False\n",
    "        flag2 = True\n",
    "    elif flag1:\n",
    "        res.append(list((lst, 0)))\n",
    "    elif flag2:\n",
    "        k += 1\n",
    "        for i in res:\n",
    "            if lst in i:\n",
    "                i[1] += 1\n",
    "res.sort(key=lambda x: (-x[1], x[0]))\n",
    "for i in res:\n",
    "    print(i[0], file=f1, end='\\n')\n",
    "f.close()\n",
    "f1.close()"
   ]
  },
  {
   "cell_type": "markdown",
   "metadata": {},
   "source": [
    "# Множества и словари"
   ]
  },
  {
   "cell_type": "markdown",
   "metadata": {},
   "source": [
    "Дан список чисел, который может содержать до 100000 чисел.Определите, сколько в нем встречается различных чисел."
   ]
  },
  {
   "cell_type": "code",
   "execution_count": 1,
   "metadata": {},
   "outputs": [
    {
     "name": "stdout",
     "output_type": "stream",
     "text": [
      "1 2 3 4 5 1 2 1 2 7 3\n",
      "6\n"
     ]
    }
   ],
   "source": [
    "a = list(map(int, input().split()))\n",
    "b = set(a)\n",
    "print(len(b))"
   ]
  },
  {
   "cell_type": "markdown",
   "metadata": {},
   "source": [
    "Даны два списка чисел, которые могут содержать до 100000 чисел каждый. Посчитайте, сколько чисел содержится одновременно как в первом списке, так и во втором."
   ]
  },
  {
   "cell_type": "code",
   "execution_count": 4,
   "metadata": {},
   "outputs": [
    {
     "name": "stdout",
     "output_type": "stream",
     "text": [
      "1 2 6 4 5 7\n",
      "10 2 3 4 8\n",
      "2\n"
     ]
    }
   ],
   "source": [
    "# a = set(map(int, input().split()))\n",
    "# b = set(map(int, input().split()))\n",
    "# print(len(a & b))\n",
    "print(len(set(map(int, input().split())) & set(map(int, input().split()))))"
   ]
  },
  {
   "cell_type": "markdown",
   "metadata": {},
   "source": [
    "Даны два списка чисел, которые могут содержать до 10000 чисел каждый. Выведите все числа, которые входят как в первый, так и во второй список, в порядке возрастания."
   ]
  },
  {
   "cell_type": "code",
   "execution_count": 5,
   "metadata": {},
   "outputs": [
    {
     "name": "stdout",
     "output_type": "stream",
     "text": [
      "1 3 2\n",
      "4 3 2\n",
      "[2, 3]\n"
     ]
    }
   ],
   "source": [
    "# a = set(map(int, input().split()))\n",
    "# b = set(map(int, input().split()))\n",
    "print(*sorted(set(map(int, input().split())) & set(map(int, input().split()))))"
   ]
  },
  {
   "cell_type": "markdown",
   "metadata": {},
   "source": [
    "Во входной строке записана последовательность чисел через пробел. Для каждого числа выведите слово YES (в отдельной строке), если это число ранее встречалось в последовательности или NO, если не встречалось."
   ]
  },
  {
   "cell_type": "code",
   "execution_count": 10,
   "metadata": {},
   "outputs": [
    {
     "name": "stdout",
     "output_type": "stream",
     "text": [
      "1 2 3 2 3 4\n",
      "NO\n",
      "NO\n",
      "NO\n",
      "YES\n",
      "YES\n",
      "NO\n"
     ]
    }
   ],
   "source": [
    "a = list(map(int, input().split()))\n",
    "b = set()\n",
    "for i in a:\n",
    "    if i in b:\n",
    "        print('YES')\n",
    "    else:\n",
    "        print('NO')\n",
    "        b.add(i)"
   ]
  },
  {
   "cell_type": "markdown",
   "metadata": {},
   "source": [
    "Аня и Боря любят играть в разноцветные кубики, причем у каждого из них свой набор и в каждом наборе все кубики различны по цвету. Однажды дети заинтересовались, сколько существуют цветов таких, что кубики каждого цвета присутствуют в обоих наборах. Для этого они занумеровали все цвета случайными числами. На этом их энтузиазм иссяк, поэтому вам предлагается помочь им в оставшейся части. Номер любого цвета — это целое число в пределах от 0 до 10⁹."
   ]
  },
  {
   "cell_type": "code",
   "execution_count": 15,
   "metadata": {},
   "outputs": [
    {
     "name": "stdout",
     "output_type": "stream",
     "text": [
      "4 3\n",
      "0\n",
      "1\n",
      "10\n",
      "9\n",
      "1\n",
      "3\n",
      "0\n",
      "2\n",
      "0\n",
      "1\n",
      "2\n",
      "9\n",
      "10\n",
      "1\n",
      "3\n"
     ]
    }
   ],
   "source": [
    "n, m = map(int, input().split())\n",
    "nx = set()\n",
    "mx = set()\n",
    "for i in range(n):\n",
    "    nx.add(int(input()))\n",
    "for i in range(m):\n",
    "    mx.add(int(input()))\n",
    "x = nx & mx\n",
    "print(len(x))\n",
    "print(*sorted(x))\n",
    "print(len(nx - x))\n",
    "print(*sorted(nx - x))\n",
    "print(len(mx - x))\n",
    "print(*sorted(mx - x))"
   ]
  },
  {
   "cell_type": "markdown",
   "metadata": {},
   "source": [
    "Во входном файле (вы можете читать данные из sys.stdin, подключив библиотеку sys) записан текст. Словом считается последовательность непробельных символов идущих подряд, слова разделены одним или большим числом пробелов или символами конца строки. Определите, сколько различных слов содержится в этом тексте."
   ]
  },
  {
   "cell_type": "code",
   "execution_count": 24,
   "metadata": {},
   "outputs": [
    {
     "name": "stdout",
     "output_type": "stream",
     "text": [
      "0\n"
     ]
    }
   ],
   "source": [
    "import sys\n",
    "k = set(map(str, sys.stdin.read().split()))\n",
    "print(len(k))"
   ]
  },
  {
   "cell_type": "markdown",
   "metadata": {},
   "source": [
    "Август и Беатриса играют в игру. Август загадал натуральное число от 1 до n. Беатриса пытается угадать это число, для этого она называет некоторые множества натуральных чисел. Август отвечает Беатрисе YES, если среди названных ею чисел есть задуманное или NO в противном случае. После нескольких заданных вопросов Беатриса запуталась в том, какие вопросы она задавала и какие ответы получила и просит вас помочь ей определить, какие числа мог задумать Август."
   ]
  },
  {
   "cell_type": "code",
   "execution_count": 28,
   "metadata": {},
   "outputs": [
    {
     "name": "stdout",
     "output_type": "stream",
     "text": [
      "100\n",
      "3 5 8 10 11 13 14 15 16 20 21 23 25 27 29 31 32 33 35 42 43 46 47 48 51 52 57 58 67 68 72 74 75 76 79 80 81 82 83 84 86 89 90 91 92 93 94 95 96 99 \n",
      "YES\n",
      "1 4 7 9 14 16 17 19 20 23 25 27 28 29 30 31 32 33 41 42 45 46 48 50 52 54 59 60 61 63 66 67 68 69 70 71 73 74 79 81 82 83 89 90 91 92 93 94 95 100 \n",
      "YES\n",
      "3 5 6 15 16 18 19 20 21 22 23 24 26 28 29 35 37 38 39 40 41 43 44 45 46 47 53 55 56 60 61 63 64 65 68 70 71 73 76 79 80 81 82 83 86 90 91 95 96 99 \n",
      "YES\n",
      "1 2 3 5 11 16 17 23 25 31 32 33 34 35 38 39 41 43 44 46 47 49 51 53 58 59 62 63 68 69 70 72 73 74 76 77 78 79 80 81 82 83 85 86 93 94 95 97 99 100 \n",
      "YES\n",
      "3 7 8 9 10 14 17 20 22 23 24 25 26 27 28 30 34 40 42 43 45 47 48 49 50 51 52 53 54 55 59 62 63 66 67 72 73 75 77 81 83 84 86 89 92 93 94 96 98 100 \n",
      "YES\n",
      "HELP\n",
      "81 83 23\n"
     ]
    }
   ],
   "source": [
    "max_n = int(input())\n",
    "avg = set(i for i in range(1, max_n + 1))\n",
    "biat = input()\n",
    "while biat != \"HELP\":\n",
    "    av = input()\n",
    "    if av == \"YES\":\n",
    "        avg &= set(map(int, biat.split()))\n",
    "    if av == \"NO\":\n",
    "        avg -= set(map(int, biat.split()))\n",
    "    biat = input()\n",
    "print(*sorted(avg))"
   ]
  },
  {
   "cell_type": "markdown",
   "metadata": {},
   "source": [
    "Август и Беатриса продолжают играть в игру, но Август начал жульничать. На каждый из вопросов Беатрисы он выбирает такой вариант ответа YES или NO, чтобы множество возможных задуманных чисел оставалось как можно больше. Например, если Август задумал число от 1 до 5, а Беатриса спросила про числа 1 и 2, то Август ответит NO, а если Беатриса спросит про 1, 2, 3, то Август ответит YES. Если же Бетриса в своем вопросе перечисляет ровно половину из задуманных чисел, то Август из вредности всегда отвечает NO. Наконец, Август при ответе учитывает все предыдущие вопросы Беатрисы и свои ответы на них, то есть множество возможных задуманных чисел уменьшается.\n",
    "10\n",
    "1 2 3 4 5\n",
    "2 4 6 8 10\n",
    "HELP"
   ]
  },
  {
   "cell_type": "code",
   "execution_count": 30,
   "metadata": {},
   "outputs": [
    {
     "name": "stdout",
     "output_type": "stream",
     "text": [
      "10\n",
      "1 2 3 4 5\n",
      "NO\n",
      "2 4 6 8 10\n",
      "YES\n",
      "HELP\n",
      "6 8 10\n"
     ]
    }
   ],
   "source": [
    "max_n = int(input())\n",
    "avg = set(i for i in range(1, max_n + 1))\n",
    "biat = input()\n",
    "while biat != \"HELP\":\n",
    "    biat = set(map(int, biat.split()))\n",
    "    if len(biat & avg) <= (len(avg) // 2):\n",
    "        print('NO')\n",
    "        avg -= biat\n",
    "    elif len(biat & avg) > (len(avg) // 2):\n",
    "        print('YES')\n",
    "        avg &= biat\n",
    "    biat = input()\n",
    "print(*sorted(avg))"
   ]
  },
  {
   "cell_type": "markdown",
   "metadata": {},
   "source": [
    "Каждый из N школьников некоторой школы знает Mᵢ языков. Определите, какие языки знают все школьники и языки, которые знает хотя бы один из школьников."
   ]
  },
  {
   "cell_type": "code",
   "execution_count": 1,
   "metadata": {
    "scrolled": true
   },
   "outputs": [
    {
     "name": "stdout",
     "output_type": "stream",
     "text": [
      "3\n",
      "3\n",
      "Russian\n",
      "English\n",
      "German\n",
      "2\n",
      "English\n",
      "Spanish\n",
      "1\n",
      "English\n",
      "1\n",
      "English\n",
      "4\n",
      "English\n",
      "German\n",
      "Russian\n",
      "Spanish\n"
     ]
    }
   ],
   "source": [
    "def func(x: set):\n",
    "    print(len(x))\n",
    "    for i in sorted(x):\n",
    "        print(i, end='\\n')\n",
    "n = int(input())\n",
    "one = [set() for i in range(n)]\n",
    "every = set()\n",
    "for i in range(n):\n",
    "    m = int(input())\n",
    "    for j in range(m):\n",
    "        one[i].add(input())\n",
    "    if i > 0:\n",
    "        every &= one[i]\n",
    "        continue\n",
    "    every |= one[i]\n",
    "func(every)\n",
    "every = set()\n",
    "for i in one:\n",
    "    every |= i\n",
    "func(every)"
   ]
  },
  {
   "cell_type": "markdown",
   "metadata": {},
   "source": [
    "На Новом проспекте для разгрузки было решено пустить два новых автобусных маршрута на разных участках проспекта.  Известны конечные остановки каждого из автобусов. Определите количество остановок, на  которых можно пересесть с одного автобуса на другой."
   ]
  },
  {
   "cell_type": "code",
   "execution_count": 14,
   "metadata": {},
   "outputs": [
    {
     "name": "stdout",
     "output_type": "stream",
     "text": [
      "3 1 5 10\n",
      "0\n"
     ]
    }
   ],
   "source": [
    "x = list(map(int, input().split()))\n",
    "bus1 = (set(range(x[0], x[1] + 1)) if x[1] >= x[0]\n",
    "        else set(range(x[1], x[0] + 1)))\n",
    "bus2 = (set(range(x[2], x[3] + 1)) if x[3] >= x[2]\n",
    "        else set(range(x[3], x[2] + 1)))\n",
    "print(len(bus1 & bus2))"
   ]
  },
  {
   "cell_type": "markdown",
   "metadata": {},
   "source": [
    "Политическая жизнь одной страны очень оживленная. В стране действует K политических партий, каждая из которых регулярно объявляет национальную забастовку. Дни, когда хотя бы одна из партий объявляет забастовку, при условии, что это не суббота или воскресенье (когда и так никто не работает), наносят большой ущерб экономике страны. i-я партия объявляет забастовки строго каждые bᵢ дней, начиная с дня с номером aᵢ. То есть i-я партия объявляет забастовки в дни aᵢ, aᵢ+bᵢ, aᵢ+2bᵢ и т.д. Если в какой-то день несколько партий объявляет забастовку, то это считается одной общенациональной забастовкой. В календаре страны N дней, пронумерованных от 1 до N. Первый день года является понедельником, шестой и седьмой дни года — выходные, неделя состоит из семи дней."
   ]
  },
  {
   "cell_type": "code",
   "execution_count": 31,
   "metadata": {},
   "outputs": [
    {
     "name": "stdout",
     "output_type": "stream",
     "text": [
      "19 3\n",
      "2 3\n",
      "3 5\n",
      "9 8\n",
      "8\n"
     ]
    }
   ],
   "source": [
    "n, k = list(map(int, input().split()))\n",
    "tmp, sun, sat = set(), set(), set()\n",
    "if n >= 6:\n",
    "    sat = set(range(6, n + 1, 7))\n",
    "    sun = set(range(7, n + 1, 7))\n",
    "for i in range(k):\n",
    "    ai, bi = list(map(int, input().split()))\n",
    "    riot = set(range(ai, n + 1, bi))\n",
    "    tmp |= riot\n",
    "week_r = tmp - (sat | sun)\n",
    "print(len(week_r))"
   ]
  },
  {
   "cell_type": "markdown",
   "metadata": {},
   "source": [
    "Телефонные номера в адресной книге мобильного телефона имеют один из следующих форматов:\n",
    "+7<код><номер>\n",
    "8<код><номер>\n",
    "<номер>\n",
    "где <номер> — это семь цифр, а <код> — это три цифры или три цифры в круглых скобках. Если код не указан, то считается, что он равен 495. Кроме того, в записи телефонного номера может стоять знак “-” между любыми двумя цифрами (см. пример). На данный момент в адресной книге телефона Васи записано всего три телефонных номера, и он хочет записать туда еще один. Но он не может понять, не записан ли уже такой номер в телефонной книге. Помогите ему! Два телефонных номера совпадают, если у них равны коды и равны номера. Например, +7(916)0123456 и 89160123456 — это один и тот же номер."
   ]
  },
  {
   "cell_type": "code",
   "execution_count": 2,
   "metadata": {},
   "outputs": [
    {
     "name": "stdout",
     "output_type": "stream",
     "text": [
      "8(495)430-23-97\n",
      "+7-4-9-5-43-023-97\n",
      "YES\n",
      "4-3-0-2-3-9-7\n",
      "YES\n",
      "8-495-430\n",
      "NO\n"
     ]
    }
   ],
   "source": [
    "def get(inp):\n",
    "    tmp = [int(i) for i in inp if i.isdigit()]\n",
    "    res = tmp[1:] if len(tmp) == 11 else [495] + tmp\n",
    "    return ''.join(map(str, res))\n",
    "ans = input()\n",
    "for i in range(3):\n",
    "    x = input()\n",
    "    print('YES' if get(ans) == get(x) else 'NO')"
   ]
  },
  {
   "cell_type": "markdown",
   "metadata": {},
   "source": [
    "Дан список стран и городов каждой страны. Затем даны названия городов. Для каждого города укажите, в какой стране он находится."
   ]
  },
  {
   "cell_type": "code",
   "execution_count": 5,
   "metadata": {},
   "outputs": [
    {
     "name": "stdout",
     "output_type": "stream",
     "text": [
      "2\n",
      "Russia Moscow Petersburg Novgorod Kaluga\n",
      "Ukraine Kiev Donetsk Odessa\n",
      "3\n",
      "Odessa\n",
      "Ukraine\n",
      "Moscow\n",
      "Russia\n",
      "Novgorod\n",
      "Russia\n"
     ]
    }
   ],
   "source": [
    "n = int(input())\n",
    "d = dict()\n",
    "for i in range(n):\n",
    "    x = list(map(str, input().split()))\n",
    "    for j in x[1:]:\n",
    "        d[j] = x[0]\n",
    "m = int(input())\n",
    "for i in range(m):\n",
    "    y = input()\n",
    "    print(d[y])"
   ]
  },
  {
   "cell_type": "markdown",
   "metadata": {},
   "source": [
    "Во входном файле (вы можете читать данные из файла input.txt) записан текст. Словом считается последовательность непробельных подряд идущих символов. Слова разделены одним или большим числом пробелов или символами конца строки. Для каждого слова из этого текста подсчитайте, сколько раз оно встречалось в этом тексте ранее."
   ]
  },
  {
   "cell_type": "code",
   "execution_count": 6,
   "metadata": {},
   "outputs": [
    {
     "name": "stdout",
     "output_type": "stream",
     "text": [
      "0 0 1 0 0\n"
     ]
    }
   ],
   "source": [
    "f = open('input.txt', 'r', encoding='utf-8')\n",
    "d, res = dict(), list()\n",
    "for i in f:\n",
    "    for j in i.split():\n",
    "        if j not in d:\n",
    "            d[j] = 0\n",
    "        elif j in d:\n",
    "            d[j] += 1\n",
    "        res.append(d[j])\n",
    "print(*res) \n",
    "f.close()"
   ]
  },
  {
   "cell_type": "markdown",
   "metadata": {},
   "source": [
    "Вам дан словарь, состоящий из пар слов. Каждое слово является синонимом к парному ему слову. Все слова в словаре различны. Для одного данного слова определите его синоним."
   ]
  },
  {
   "cell_type": "code",
   "execution_count": 7,
   "metadata": {},
   "outputs": [
    {
     "name": "stdout",
     "output_type": "stream",
     "text": [
      "3\n",
      "Hello Hi\n",
      "Bye Goodbye\n",
      "List Array\n",
      "Goodbye\n",
      "Bye\n"
     ]
    }
   ],
   "source": [
    "n = int(input())\n",
    "d = dict()\n",
    "for i in range(n):\n",
    "    x, y = map(str, input().split())\n",
    "    if x not in d:\n",
    "        d[x] = y\n",
    "    if y not in d:\n",
    "        d[y] = x\n",
    "ans = input()\n",
    "print(d[ans])"
   ]
  },
  {
   "cell_type": "markdown",
   "metadata": {},
   "source": [
    "Как известно, в США президент выбирается не прямым голосованием, а путем двухуровневого голосования. Сначала проводятся выборы в каждом штате и определяется победитель выборов в данном штате. Затем проводятся государственные выборы: на этих выборах каждый штат имеет определенное число голосов — число выборщиков от этого штата. На практике, все выборщики от штата голосуют в соответствии с результатами голосования внутри штата, то есть на заключительной стадии выборов в голосовании участвуют штаты, имеющие различное число голосов. Вам известно за кого проголосовал каждый штат и сколько голосов было отдано данным штатом. Подведите итоги выборов: для каждого из участника голосования определите число отданных за него голосов."
   ]
  },
  {
   "cell_type": "code",
   "execution_count": 13,
   "metadata": {},
   "outputs": [
    {
     "name": "stdout",
     "output_type": "stream",
     "text": [
      "ivanov 900\n",
      "petr 70\n",
      "tourist 3\n"
     ]
    }
   ],
   "source": [
    "f = open('input.txt', 'r', encoding='utf-8')\n",
    "d = dict()\n",
    "for line in f:\n",
    "    x, y = line.split()\n",
    "    if x not in d:\n",
    "        d[x] = int(y)\n",
    "    else:\n",
    "        d[x] += int(y)\n",
    "for i in sorted(d.items()):\n",
    "    print(*i)\n",
    "f.close()"
   ]
  },
  {
   "cell_type": "code",
   "execution_count": 21,
   "metadata": {},
   "outputs": [],
   "source": [
    "f_in = open('input.txt', 'r', encoding='utf-8')\n",
    "f_out = open('output.txt', 'w', encoding='utf-8')\n",
    "a, b = map(int, f_in.readline().split())\n",
    "print(a + b, file=f_out, end='')\n",
    "f_in.close()\n",
    "f_out.close()"
   ]
  },
  {
   "cell_type": "markdown",
   "metadata": {},
   "source": [
    "Дан текст. Выведите слово, которое в этом тексте встречается чаще всего. Если таких слов несколько, выведите то, которое меньше в лексикографическом порядке."
   ]
  },
  {
   "cell_type": "code",
   "execution_count": 37,
   "metadata": {},
   "outputs": [
    {
     "name": "stdout",
     "output_type": "stream",
     "text": [
      "a\n"
     ]
    }
   ],
   "source": [
    "f = open('input.txt', 'r', encoding='utf-8')\n",
    "x = list(map(str, f.read().split()))\n",
    "d = dict.fromkeys(x, 0)\n",
    "for i in x:\n",
    "    d[i] += 1\n",
    "k = list(sorted(d.items(), key=lambda j: (-j[1], j[0])))\n",
    "print(k[0][0])\n",
    "f.close()"
   ]
  },
  {
   "cell_type": "markdown",
   "metadata": {},
   "source": [
    "Дан текст. Выведите все слова, встречающиеся в тексте, по одному на каждую строку. Слова должны быть отсортированы по убыванию их количества появления в тексте, а при одинаковой частоте появления — в лексикографическом порядке."
   ]
  },
  {
   "cell_type": "code",
   "execution_count": 41,
   "metadata": {},
   "outputs": [
    {
     "name": "stdout",
     "output_type": "stream",
     "text": [
      "ding\n",
      "my\n",
      "dong\n",
      "mmm\n",
      "oh\n",
      "touch\n",
      "tralala\n",
      "you\n"
     ]
    }
   ],
   "source": [
    "f = open('input.txt', 'r', encoding='utf-8')\n",
    "x = list(map(str, f.read().split()))\n",
    "d = dict.fromkeys(x, 0)\n",
    "for i in x:\n",
    "    d[i] += 1\n",
    "for j in sorted(d.items(), key=lambda j: (-j[1], j[0])):\n",
    "    print(j[0])\n",
    "f.close()"
   ]
  },
  {
   "cell_type": "markdown",
   "metadata": {},
   "source": [
    "В выборах Президента Российской Федерации побеждает кандидат, набравший свыше половины числа голосов избирателей. Если такого кандидата нет, то во второй тур выборов выходят два кандидата, набравших наибольшее число голосов."
   ]
  },
  {
   "cell_type": "code",
   "execution_count": 54,
   "metadata": {},
   "outputs": [],
   "source": [
    "f = open('input.txt', 'r', encoding='utf-8')\n",
    "f1 = open('output.txt', 'w', encoding='utf-8')\n",
    "d, k = dict(), 0\n",
    "for i in f:\n",
    "    line = i.strip()\n",
    "    d[line] = d.get(line, 0) + 1\n",
    "    k += 1\n",
    "d1 = list(sorted(d.items(), key=lambda x: -x[1]))\n",
    "if d1[0][1] > (k / 2):\n",
    "    print(d1[0][0], file=f1, end='')\n",
    "else:\n",
    "    print(d1[0][0], d1[1][0], file=f1, sep='\\n', end='')\n",
    "f.close()\n",
    "f1.close()"
   ]
  },
  {
   "cell_type": "markdown",
   "metadata": {},
   "source": [
    "Необходимо распределить 450 мест между партиями, участвовавших в выборах. Сначала подсчитывается сумма голосов избирателей, поданных за каждую партию и подсчитывается сумма голосов, поданных за все партии. Эта сумма делится на 450, получается величина, называемая “первое избирательное частное” (смысл первого избирательного частного - это количество голосов избирателей, которое необходимо набрать для получения одного места в парламенте). Далее каждая партия получает столько мест в парламенте, чему равна целая часть от деления числа голосов за данную партию на первое избирательное частное.Если после первого раунда распределения мест сумма количества мест, отданных партиям, меньше 450, то оставшиеся места передаются по одному партиям, в порядке убывания дробной части частного от деления числа голосов за данную партию на первое избирательное частное. Если же для двух партий эти дробные части равны, то преимущество отдается той партии, которая получила большее число голосов."
   ]
  },
  {
   "cell_type": "code",
   "execution_count": 103,
   "metadata": {},
   "outputs": [
    {
     "name": "stdout",
     "output_type": "stream",
     "text": [
      "Partyone 1\n",
      "Partytwo 449\n"
     ]
    }
   ],
   "source": [
    "f = open('input.txt', 'r', encoding='utf-8')\n",
    "d = dict()\n",
    "res1 = dict()\n",
    "res2 = dict()\n",
    "k = 0\n",
    "for i in f:\n",
    "    if i == '\\n':\n",
    "        continue\n",
    "    line = list(i.split())\n",
    "    name = ' '.join(line[:-1])\n",
    "    cnt = int(line[-1])\n",
    "    d[name] = d.get(name, 0) + cnt\n",
    "    k += cnt\n",
    "q = k / 450\n",
    "for i in d.keys():\n",
    "    res1[i] = int(d[i] // q)\n",
    "    res2[i] = d[i] % q\n",
    "for i in range(len(res2)):\n",
    "    for j in range(i, len(res2)):\n",
    "        if res2[list(res2.keys())[i]] == res2[list(res2.keys())[j]]:\n",
    "            if res1[list(res2.keys())[i]] >= res1[list(res2.keys())[j]]:\n",
    "                res2[list(res2.keys())[i]] += 0.000005\n",
    "            else:\n",
    "                res2[list(res2.keys())[j]] += 0.000005\n",
    "res2 = dict(list(sorted(res2.items(), key=lambda x: -x[1])))\n",
    "y = 450 - sum(res1.values())\n",
    "cel = y // len(res1)\n",
    "drob = y % len(res1)\n",
    "for i in res1.keys():\n",
    "    res1[i] += cel\n",
    "for i in res2.keys():\n",
    "    while drob > 0:\n",
    "        res1[i] += 1\n",
    "        drob -= 1\n",
    "for i in res1.items():\n",
    "    print(*i)\n",
    "f.close()"
   ]
  },
  {
   "cell_type": "code",
   "execution_count": 1,
   "metadata": {},
   "outputs": [
    {
     "data": {
      "text/plain": [
       "[]"
      ]
     },
     "execution_count": 1,
     "metadata": {},
     "output_type": "execute_result"
    }
   ],
   "source": [
    "from sys import stdin\n",
    "word, n, m = {}, 0, 450\n",
    "for line in stdin.readlines():\n",
    "    word[' '.join(line.split()[:-1])] = int(line.split()[-1])\n",
    "    n += int(line.split()[-1])\n",
    "b = [[(word[i] / n * m) % 1, i, int((word[i] / n * m) // 1)] for i in word]\n",
    "m -= sum([b[i][2] for i in range(len(b))])\n",
    "for i in sorted(b, reverse=True):\n",
    "    if m == 0:\n",
    "        break\n",
    "    i[2], m = i[2] + 1, m - 1\n",
    "[print(i[1], i[2]) for i in b]"
   ]
  },
  {
   "cell_type": "code",
   "execution_count": null,
   "metadata": {},
   "outputs": [],
   "source": []
  },
  {
   "cell_type": "code",
   "execution_count": null,
   "metadata": {},
   "outputs": [],
   "source": []
  },
  {
   "cell_type": "code",
   "execution_count": null,
   "metadata": {},
   "outputs": [],
   "source": []
  },
  {
   "cell_type": "code",
   "execution_count": null,
   "metadata": {},
   "outputs": [],
   "source": []
  },
  {
   "cell_type": "code",
   "execution_count": null,
   "metadata": {},
   "outputs": [],
   "source": []
  },
  {
   "cell_type": "code",
   "execution_count": null,
   "metadata": {},
   "outputs": [],
   "source": []
  },
  {
   "cell_type": "code",
   "execution_count": null,
   "metadata": {},
   "outputs": [],
   "source": []
  },
  {
   "cell_type": "code",
   "execution_count": null,
   "metadata": {},
   "outputs": [],
   "source": []
  },
  {
   "cell_type": "code",
   "execution_count": null,
   "metadata": {},
   "outputs": [],
   "source": []
  },
  {
   "cell_type": "code",
   "execution_count": null,
   "metadata": {},
   "outputs": [],
   "source": []
  },
  {
   "cell_type": "code",
   "execution_count": null,
   "metadata": {},
   "outputs": [],
   "source": []
  },
  {
   "cell_type": "code",
   "execution_count": null,
   "metadata": {},
   "outputs": [],
   "source": []
  }
 ],
 "metadata": {
  "kernelspec": {
   "display_name": "Python 3",
   "language": "python",
   "name": "python3"
  },
  "language_info": {
   "codemirror_mode": {
    "name": "ipython",
    "version": 3
   },
   "file_extension": ".py",
   "mimetype": "text/x-python",
   "name": "python",
   "nbconvert_exporter": "python",
   "pygments_lexer": "ipython3",
   "version": "3.8.5"
  }
 },
 "nbformat": 4,
 "nbformat_minor": 4
}
